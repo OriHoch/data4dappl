{
 "cells": [
  {
   "cell_type": "markdown",
   "metadata": {},
   "source": [
    "## Initialize the ckan environment and requests session"
   ]
  },
  {
   "cell_type": "code",
   "execution_count": 1,
   "metadata": {},
   "outputs": [
    {
     "name": "stderr",
     "output_type": "stream",
     "text": [
      "DEBUG   :Starting new HTTPS connection (1): www.odata.org.il:443\n",
      "DEBUG   :https://www.odata.org.il:443 \"GET /pipelines/config/odata_org_il HTTP/1.1\" 200 None\n"
     ]
    }
   ],
   "source": [
    "from os import path, environ\n",
    "import requests\n",
    "from dataflows import Flow, load\n",
    "from datapackage_pipelines_ckanext.helpers import get_plugin_configuration\n",
    "\n",
    "config = get_plugin_configuration('odata_org_il')\n",
    "data_path = config['data_path']\n",
    "\n",
    "CKAN_API_KEY = environ.get('CKAN_API_KEY')\n",
    "CKAN_URL = environ.get('CKAN_URL')\n",
    "assert CKAN_API_KEY and CKAN_URL\n",
    "CKAN_AUTH_HEADERS = {'Authorization': CKAN_API_KEY}\n",
    "session = requests.session()\n",
    "session.headers.update(CKAN_AUTH_HEADERS)"
   ]
  },
  {
   "cell_type": "markdown",
   "metadata": {},
   "source": [
    "## Common imports and functions"
   ]
  },
  {
   "cell_type": "code",
   "execution_count": 52,
   "metadata": {},
   "outputs": [],
   "source": [
    "from dataflows import Flow, load\n",
    "import yaml\n",
    "from load_existing_entities import get_existing_entities_resource, get_existing_entities_resource_descriptor\n",
    "from collections import defaultdict\n",
    "\n",
    "def load_odata_resource(name, resources=None):\n",
    "    path = f'{data_path}/{name}/datapackage.json'\n",
    "    print(f'Loading resource from {path}')\n",
    "    resource = Flow(load(path, resources=resources)).results()[0][0]\n",
    "    print(f'Resource loaded: {name} ({len(resource)} rows)')\n",
    "    return resource\n",
    "\n",
    "def yaml_print(data):\n",
    "    print(yaml.dump(data, allow_unicode=True, default_flow_style=False))\n",
    "\n",
    "def get_existing_entities_flow():\n",
    "    stats = defaultdict(int)\n",
    "    return Flow(\n",
    "        load(({'resources': [get_existing_entities_resource_descriptor()]}, \n",
    "              [get_existing_entities_resource(stats)]))\n",
    "    ), stats\n"
   ]
  },
  {
   "cell_type": "markdown",
   "metadata": {},
   "source": [
    "## Load resources"
   ]
  },
  {
   "cell_type": "code",
   "execution_count": 16,
   "metadata": {},
   "outputs": [
    {
     "name": "stdout",
     "output_type": "stream",
     "text": [
      "Loading resource from /var/lib/ckan/data/pipelines/odata_org_il/new_foi_offices/datapackage.json\n",
      "Resource loaded: new_foi_offices (1677 rows)\n",
      "Loading resource from /var/lib/ckan/data/pipelines/odata_org_il/foi_groups_matching/datapackage.json\n",
      "Resource loaded: foi_groups_matching (1422 rows)\n"
     ]
    }
   ],
   "source": [
    "foi_offices_resource = load_odata_resource('new_foi_offices')\n",
    "foi_groups_matching_resource = load_odata_resource('foi_groups_matching')"
   ]
  },
  {
   "cell_type": "markdown",
   "metadata": {},
   "source": [
    "## Load existing entities (groups) from CKAN api"
   ]
  },
  {
   "cell_type": "code",
   "execution_count": 12,
   "metadata": {},
   "outputs": [
    {
     "name": "stderr",
     "output_type": "stream",
     "text": [
      "INFO    :Loading existing entities / groups, 500 results per page\n",
      "INFO    :offset=0\n",
      "DEBUG   :Starting new HTTPS connection (1): www.odata.org.il:443\n",
      "DEBUG   :https://www.odata.org.il:443 \"POST /api/3/action/group_list HTTP/1.1\" 200 None\n",
      "INFO    :offset=500\n",
      "DEBUG   :Starting new HTTPS connection (1): www.odata.org.il:443\n",
      "DEBUG   :https://www.odata.org.il:443 \"POST /api/3/action/group_list HTTP/1.1\" 200 None\n",
      "INFO    :offset=1000\n",
      "DEBUG   :Starting new HTTPS connection (1): www.odata.org.il:443\n",
      "DEBUG   :https://www.odata.org.il:443 \"POST /api/3/action/group_list HTTP/1.1\" 200 None\n",
      "INFO    :offset=1500\n",
      "DEBUG   :Starting new HTTPS connection (1): www.odata.org.il:443\n",
      "DEBUG   :https://www.odata.org.il:443 \"POST /api/3/action/group_list HTTP/1.1\" 200 None\n"
     ]
    },
    {
     "name": "stdout",
     "output_type": "stream",
     "text": [
      "existing_groups_with_entity: 1155\n",
      "existing_groups_without_entity: 127\n",
      "\n",
      "Loaded existing entities (1282 rows)\n"
     ]
    }
   ],
   "source": [
    "existing_entities_flow, existing_entities_stats = get_existing_entities_flow()\n",
    "existing_entities_resource = existing_entities_flow.results()[0][0]\n",
    "yaml_print(dict(existing_entities_stats))\n",
    "print(f'Loaded existing entities ({len(existing_entities_resource)} rows)')"
   ]
  },
  {
   "cell_type": "markdown",
   "metadata": {},
   "source": [
    "## Find mismatched foi office groups"
   ]
  },
  {
   "cell_type": "code",
   "execution_count": 64,
   "metadata": {},
   "outputs": [
    {
     "name": "stdout",
     "output_type": "stream",
     "text": [
      "group כאן תאגיד השידור הישראלי: no matching entity foi-office-2279\n",
      "group משרד העבודה, הרווחה והשירותים החברתיים: no matching entity foi-office-185\n",
      "group משרד התחבורה: no matching entity foi-office-186\n",
      "group נתיבי ישראל: no matching entity foi-office-599\n",
      "group עיריית אום אל פחם: no matching entity foi-office-812\n",
      "group עיריית באקה אל גרבייה: no matching entity foi-office-459\n",
      "group עיריית בית\"ר עלית: no matching entity foi-office-463\n",
      "group עיריית מודיעין: no matching entity foi-office-907\n",
      "group עיריית סכנין: no matching entity foi-office-931\n",
      "group עיריית קריית מוצקין: no matching entity foi-office-522\n",
      "group עיריית קרית אונו: no matching entity foi-office-515\n",
      "group עיריית קרית ים: no matching entity foi-office-520\n",
      "group עמידר החדשה: no matching entity foi-office-602\n",
      "group צבא ההגנה לישראל- צה\"ל: no matching entity foi-office-442\n",
      "group קופת חולים מכבי: no matching entity foi-office-639\n",
      "group רשות הגבלים עסקיים: no matching entity foi-office-445\n",
      "group רשות החדשנות- המדען הראשי: no matching entity foi-office-4097\n",
      "group רשות השירות הלאומי אזרחי: no matching entity foi-office-1835\n",
      "group רשות התעופה האזרחית: no matching entity foi-office-447\n",
      "group רשות שדות התעופה בישראל: no matching entity foi-office-1004\n",
      "group רשות שוק ההון הביטוח והחיסכון: no matching entity foi-office-4141\n"
     ]
    }
   ],
   "source": [
    "existing_entities_group_ids = {}\n",
    "existing_entities_entity_ids = {}\n",
    "\n",
    "for existing_entity in existing_entities_resource:\n",
    "    existing_entities_group_ids[existing_entity['group_id']] = existing_entity\n",
    "    existing_entities_entity_ids[existing_entity['entity_id']] = existing_entity\n",
    "    \n",
    "mismatched_entity_ids = set()\n",
    "mismatched_group_ids = set()\n",
    "    \n",
    "for foi_group_match in foi_groups_matching_resource:\n",
    "    match_group_id = foi_group_match['Column3']\n",
    "    match_entity_id = foi_group_match['entity_id']\n",
    "    if match_group_id and match_entity_id:\n",
    "        if match_entity_id not in existing_entities_entity_ids:\n",
    "            # print(f'{match_group_id} : {match_entity_id}')\n",
    "            matching_entity_by_group_id = existing_entities_group_ids.get(match_group_id)\n",
    "            matching_entity_by_entity_id = existing_entities_entity_ids.get(match_entity_id)\n",
    "            if matching_entity_by_group_id and not matching_entity_by_entity_id:\n",
    "                print(f'group {matching_entity_by_group_id[\"title\"]}: no matching entity {match_entity_id}')\n",
    "                mismatched_entity_ids.add(match_entity_id)\n",
    "                mismatched_group_ids.add(match_group_id)\n",
    "            else:\n",
    "                raise Exception()\n",
    "        "
   ]
  },
  {
   "cell_type": "markdown",
   "metadata": {},
   "source": [
    "## Run update_foi_offices dry run"
   ]
  },
  {
   "cell_type": "code",
   "execution_count": 62,
   "metadata": {},
   "outputs": [
    {
     "name": "stderr",
     "output_type": "stream",
     "text": [
      "INFO    :updating group id 6c0ca2e7-d2b5-43cd-ba15-e6a403753075\n",
      "INFO    :updating group id 4fd50e02-c9f9-49b0-a1a9-6dc941b1d149\n",
      "INFO    :updating group id cc68beb9-ee06-4725-8708-ea038fd3fa9e\n",
      "INFO    :updating group id 7f6af937-e855-4dbb-b43c-2c9440843e3c\n",
      "INFO    :updating group id 83817cca-312e-43fb-be3d-b0b3624f7c2e\n",
      "INFO    :updating group id 41064ba7-34ec-4e83-96b1-633f632a9dfc\n",
      "INFO    :updating group id a3510080-d5a2-4bea-ac54-5a348c39468a\n",
      "INFO    :updating group id 9f460c68-c4b4-4e68-8dd7-cf0fb41e91ba\n",
      "INFO    :updating group id bcb9d0ef-53bd-46fb-bcd7-966b1412767e\n",
      "INFO    :updating group id 45d44c9e-c002-4842-984b-c8177df6a37f\n",
      "INFO    :updating group id 83ae9a23-6d45-4aff-9238-07f0cf712e9d\n",
      "INFO    :updating group id 9aa6c4bb-996b-4332-a46c-441f5bb040a5\n",
      "INFO    :updating group id cfe53b51-c3ed-4b17-a9cb-b0f01c540692\n",
      "INFO    :updating group id 23834e72-2649-426d-bebb-b172ce61c698\n",
      "INFO    :updating group id 5e5acb5c-8a48-417b-b23f-4d36a610fc8f\n",
      "INFO    :updating group id 9301eff2-b6c3-4bbe-a909-d2454bf405b1\n",
      "INFO    :updating group id 086a03fe-9e38-4618-aeb0-a5e7bae0c80b\n",
      "INFO    :updating group id 51741f93-1098-4a17-a4b9-413d80182ea4\n",
      "INFO    :updating group id bb61438d-75a5-4613-a182-895704764c40\n",
      "INFO    :updating group id 3140185e-3287-4ed7-8009-c46ea7d6f942\n",
      "INFO    :updating group id 1a40c037-3402-437d-a815-0fccaf94076a\n"
     ]
    }
   ],
   "source": [
    "from update_foi_offices_entities import get_foi_offices_resource, get_existing_entities, get_foi_groups_matching\n",
    "from collections import defaultdict\n",
    "import yaml\n",
    "\n",
    "DRY_RUN = True\n",
    "\n",
    "stats = defaultdict(int)\n",
    "\n",
    "existing_entities = {}\n",
    "for row in get_existing_entities(existing_entities_resource, existing_entities, stats):\n",
    "    pass\n",
    "\n",
    "for row in get_foi_groups_matching(foi_groups_matching_resource, existing_entities, stats):\n",
    "    pass\n",
    "\n",
    "foi_offices_resource_only_mismatched = [r for r in foi_offices_resource if f\"foi-office-{r['nid']}\" in mismatched_entity_ids]\n",
    "\n",
    "for row in get_foi_offices_resource(foi_offices_resource_only_mismatched, existing_entities, stats, DRY_RUN):\n",
    "    pass"
   ]
  },
  {
   "cell_type": "markdown",
   "metadata": {},
   "source": [
    "## Before updating - save the group datasets, otherwise they will be disconnected from group"
   ]
  },
  {
   "cell_type": "code",
   "execution_count": null,
   "metadata": {},
   "outputs": [],
   "source": [
    "%%sh\n",
    "dpp run --verbose ./dump_group_datasets"
   ]
  },
  {
   "cell_type": "code",
   "execution_count": 58,
   "metadata": {},
   "outputs": [
    {
     "name": "stdout",
     "output_type": "stream",
     "text": [
      "Loading resource from /var/lib/ckan/data/pipelines/odata_org_il/dump_group_datasets/datapackage.json\n",
      "Resource loaded: dump_group_datasets (1282 rows)\n",
      "0 | groups without datasets: 1061\n",
      "1 | groups with 1 dataset: 99\n",
      "2 | groups with 2-10 datasets: 88\n",
      "3 | groups with more then 10 datasets: 34\n",
      "\n"
     ]
    }
   ],
   "source": [
    "stats = defaultdict(int)\n",
    "for row in load_odata_resource('dump_group_datasets', resources=['group_datasets']):\n",
    "    if not row['dataset_ids']:\n",
    "        stats['0 | groups without datasets'] += 1\n",
    "    elif len(row['dataset_ids']) == 1:\n",
    "        stats['1 | groups with 1 dataset'] += 1\n",
    "    elif 1 < len(row['dataset_ids']) < 11:\n",
    "        stats['2 | groups with 2-10 datasets'] += 1\n",
    "    elif len(row['dataset_ids']) > 10:\n",
    "        stats['3 | groups with more then 10 datasets'] += 1\n",
    "yaml_print(dict(stats))"
   ]
  },
  {
   "cell_type": "markdown",
   "metadata": {},
   "source": [
    "## Do the update"
   ]
  },
  {
   "cell_type": "code",
   "execution_count": 63,
   "metadata": {},
   "outputs": [
    {
     "name": "stderr",
     "output_type": "stream",
     "text": [
      "INFO    :updating group id 6c0ca2e7-d2b5-43cd-ba15-e6a403753075\n",
      "DEBUG   :Starting new HTTPS connection (1): www.odata.org.il:443\n",
      "DEBUG   :https://www.odata.org.il:443 \"POST /api/3/action/group_patch HTTP/1.1\" 200 None\n",
      "INFO    :updating group id 4fd50e02-c9f9-49b0-a1a9-6dc941b1d149\n",
      "DEBUG   :https://www.odata.org.il:443 \"POST /api/3/action/group_patch HTTP/1.1\" 200 None\n",
      "INFO    :updating group id cc68beb9-ee06-4725-8708-ea038fd3fa9e\n",
      "DEBUG   :https://www.odata.org.il:443 \"POST /api/3/action/group_patch HTTP/1.1\" 200 None\n",
      "INFO    :updating group id 7f6af937-e855-4dbb-b43c-2c9440843e3c\n",
      "DEBUG   :https://www.odata.org.il:443 \"POST /api/3/action/group_patch HTTP/1.1\" 200 None\n",
      "INFO    :updating group id 83817cca-312e-43fb-be3d-b0b3624f7c2e\n",
      "DEBUG   :https://www.odata.org.il:443 \"POST /api/3/action/group_patch HTTP/1.1\" 200 None\n",
      "INFO    :updating group id 41064ba7-34ec-4e83-96b1-633f632a9dfc\n",
      "DEBUG   :https://www.odata.org.il:443 \"POST /api/3/action/group_patch HTTP/1.1\" 200 None\n",
      "INFO    :updating group id a3510080-d5a2-4bea-ac54-5a348c39468a\n",
      "DEBUG   :https://www.odata.org.il:443 \"POST /api/3/action/group_patch HTTP/1.1\" 200 None\n",
      "INFO    :updating group id 9f460c68-c4b4-4e68-8dd7-cf0fb41e91ba\n",
      "DEBUG   :https://www.odata.org.il:443 \"POST /api/3/action/group_patch HTTP/1.1\" 200 None\n",
      "INFO    :updating group id bcb9d0ef-53bd-46fb-bcd7-966b1412767e\n",
      "DEBUG   :https://www.odata.org.il:443 \"POST /api/3/action/group_patch HTTP/1.1\" 200 None\n",
      "INFO    :updating group id 45d44c9e-c002-4842-984b-c8177df6a37f\n",
      "DEBUG   :https://www.odata.org.il:443 \"POST /api/3/action/group_patch HTTP/1.1\" 200 None\n",
      "INFO    :updating group id 83ae9a23-6d45-4aff-9238-07f0cf712e9d\n",
      "DEBUG   :https://www.odata.org.il:443 \"POST /api/3/action/group_patch HTTP/1.1\" 200 None\n",
      "INFO    :updating group id 9aa6c4bb-996b-4332-a46c-441f5bb040a5\n",
      "DEBUG   :https://www.odata.org.il:443 \"POST /api/3/action/group_patch HTTP/1.1\" 200 None\n",
      "INFO    :updating group id cfe53b51-c3ed-4b17-a9cb-b0f01c540692\n",
      "DEBUG   :https://www.odata.org.il:443 \"POST /api/3/action/group_patch HTTP/1.1\" 200 None\n",
      "INFO    :updating group id 23834e72-2649-426d-bebb-b172ce61c698\n",
      "DEBUG   :https://www.odata.org.il:443 \"POST /api/3/action/group_patch HTTP/1.1\" 200 None\n",
      "INFO    :updating group id 5e5acb5c-8a48-417b-b23f-4d36a610fc8f\n",
      "DEBUG   :https://www.odata.org.il:443 \"POST /api/3/action/group_patch HTTP/1.1\" 200 None\n",
      "INFO    :updating group id 9301eff2-b6c3-4bbe-a909-d2454bf405b1\n",
      "DEBUG   :https://www.odata.org.il:443 \"POST /api/3/action/group_patch HTTP/1.1\" 200 None\n",
      "INFO    :updating group id 086a03fe-9e38-4618-aeb0-a5e7bae0c80b\n",
      "DEBUG   :https://www.odata.org.il:443 \"POST /api/3/action/group_patch HTTP/1.1\" 200 None\n",
      "INFO    :updating group id 51741f93-1098-4a17-a4b9-413d80182ea4\n",
      "DEBUG   :https://www.odata.org.il:443 \"POST /api/3/action/group_patch HTTP/1.1\" 200 None\n",
      "INFO    :updating group id bb61438d-75a5-4613-a182-895704764c40\n",
      "DEBUG   :https://www.odata.org.il:443 \"POST /api/3/action/group_patch HTTP/1.1\" 200 None\n",
      "INFO    :updating group id 3140185e-3287-4ed7-8009-c46ea7d6f942\n",
      "DEBUG   :https://www.odata.org.il:443 \"POST /api/3/action/group_patch HTTP/1.1\" 200 None\n",
      "INFO    :updating group id 1a40c037-3402-437d-a815-0fccaf94076a\n",
      "DEBUG   :https://www.odata.org.il:443 \"POST /api/3/action/group_patch HTTP/1.1\" 200 None\n"
     ]
    }
   ],
   "source": [
    "DRY_RUN = False\n",
    "\n",
    "for row in get_foi_offices_resource(foi_offices_resource_only_mismatched, existing_entities, stats, DRY_RUN):\n",
    "    pass"
   ]
  },
  {
   "cell_type": "markdown",
   "metadata": {},
   "source": [
    "## Restore the datasets"
   ]
  },
  {
   "cell_type": "code",
   "execution_count": 65,
   "metadata": {},
   "outputs": [
    {
     "name": "stderr",
     "output_type": "stream",
     "text": [
      "DEBUG   :Starting new HTTPS connection (1): www.odata.org.il:443\n",
      "DEBUG   :https://www.odata.org.il:443 \"POST /api/3/action/member_create HTTP/1.1\" 200 None\n",
      "DEBUG   :https://www.odata.org.il:443 \"POST /api/3/action/member_create HTTP/1.1\" 200 None\n",
      "DEBUG   :https://www.odata.org.il:443 \"POST /api/3/action/member_create HTTP/1.1\" 200 None\n",
      "DEBUG   :https://www.odata.org.il:443 \"POST /api/3/action/member_create HTTP/1.1\" 200 None\n",
      "DEBUG   :https://www.odata.org.il:443 \"POST /api/3/action/member_create HTTP/1.1\" 200 None\n",
      "DEBUG   :https://www.odata.org.il:443 \"POST /api/3/action/member_create HTTP/1.1\" 200 None\n",
      "DEBUG   :https://www.odata.org.il:443 \"POST /api/3/action/member_create HTTP/1.1\" 200 None\n",
      "DEBUG   :https://www.odata.org.il:443 \"POST /api/3/action/member_create HTTP/1.1\" 200 None\n",
      "DEBUG   :https://www.odata.org.il:443 \"POST /api/3/action/member_create HTTP/1.1\" 200 None\n",
      "DEBUG   :https://www.odata.org.il:443 \"POST /api/3/action/member_create HTTP/1.1\" 200 None\n",
      "DEBUG   :https://www.odata.org.il:443 \"POST /api/3/action/member_create HTTP/1.1\" 200 None\n",
      "DEBUG   :https://www.odata.org.il:443 \"POST /api/3/action/member_create HTTP/1.1\" 200 None\n",
      "DEBUG   :https://www.odata.org.il:443 \"POST /api/3/action/member_create HTTP/1.1\" 200 None\n",
      "DEBUG   :https://www.odata.org.il:443 \"POST /api/3/action/member_create HTTP/1.1\" 200 None\n",
      "DEBUG   :https://www.odata.org.il:443 \"POST /api/3/action/member_create HTTP/1.1\" 200 None\n",
      "DEBUG   :https://www.odata.org.il:443 \"POST /api/3/action/member_create HTTP/1.1\" 200 None\n",
      "DEBUG   :https://www.odata.org.il:443 \"POST /api/3/action/member_create HTTP/1.1\" 200 None\n",
      "DEBUG   :https://www.odata.org.il:443 \"POST /api/3/action/member_create HTTP/1.1\" 200 None\n",
      "DEBUG   :https://www.odata.org.il:443 \"POST /api/3/action/member_create HTTP/1.1\" 200 None\n",
      "DEBUG   :https://www.odata.org.il:443 \"POST /api/3/action/member_create HTTP/1.1\" 200 None\n",
      "DEBUG   :https://www.odata.org.il:443 \"POST /api/3/action/member_create HTTP/1.1\" 200 None\n",
      "DEBUG   :https://www.odata.org.il:443 \"POST /api/3/action/member_create HTTP/1.1\" 200 None\n",
      "DEBUG   :https://www.odata.org.il:443 \"POST /api/3/action/member_create HTTP/1.1\" 200 None\n",
      "DEBUG   :https://www.odata.org.il:443 \"POST /api/3/action/member_create HTTP/1.1\" 200 None\n",
      "DEBUG   :https://www.odata.org.il:443 \"POST /api/3/action/member_create HTTP/1.1\" 200 None\n",
      "DEBUG   :https://www.odata.org.il:443 \"POST /api/3/action/member_create HTTP/1.1\" 200 None\n",
      "DEBUG   :https://www.odata.org.il:443 \"POST /api/3/action/member_create HTTP/1.1\" 200 None\n",
      "DEBUG   :https://www.odata.org.il:443 \"POST /api/3/action/member_create HTTP/1.1\" 200 None\n",
      "DEBUG   :https://www.odata.org.il:443 \"POST /api/3/action/member_create HTTP/1.1\" 200 None\n",
      "DEBUG   :https://www.odata.org.il:443 \"POST /api/3/action/member_create HTTP/1.1\" 200 None\n",
      "DEBUG   :https://www.odata.org.il:443 \"POST /api/3/action/member_create HTTP/1.1\" 200 None\n",
      "DEBUG   :https://www.odata.org.il:443 \"POST /api/3/action/member_create HTTP/1.1\" 200 None\n",
      "DEBUG   :https://www.odata.org.il:443 \"POST /api/3/action/member_create HTTP/1.1\" 200 None\n",
      "DEBUG   :https://www.odata.org.il:443 \"POST /api/3/action/member_create HTTP/1.1\" 200 None\n",
      "DEBUG   :https://www.odata.org.il:443 \"POST /api/3/action/member_create HTTP/1.1\" 200 None\n",
      "DEBUG   :https://www.odata.org.il:443 \"POST /api/3/action/member_create HTTP/1.1\" 200 None\n",
      "DEBUG   :https://www.odata.org.il:443 \"POST /api/3/action/member_create HTTP/1.1\" 200 None\n",
      "DEBUG   :https://www.odata.org.il:443 \"POST /api/3/action/member_create HTTP/1.1\" 200 None\n",
      "DEBUG   :https://www.odata.org.il:443 \"POST /api/3/action/member_create HTTP/1.1\" 200 None\n",
      "DEBUG   :https://www.odata.org.il:443 \"POST /api/3/action/member_create HTTP/1.1\" 200 None\n",
      "DEBUG   :https://www.odata.org.il:443 \"POST /api/3/action/member_create HTTP/1.1\" 200 None\n",
      "DEBUG   :https://www.odata.org.il:443 \"POST /api/3/action/member_create HTTP/1.1\" 200 None\n",
      "DEBUG   :https://www.odata.org.il:443 \"POST /api/3/action/member_create HTTP/1.1\" 200 None\n",
      "DEBUG   :https://www.odata.org.il:443 \"POST /api/3/action/member_create HTTP/1.1\" 200 None\n",
      "DEBUG   :https://www.odata.org.il:443 \"POST /api/3/action/member_create HTTP/1.1\" 200 None\n",
      "DEBUG   :https://www.odata.org.il:443 \"POST /api/3/action/member_create HTTP/1.1\" 200 None\n",
      "DEBUG   :https://www.odata.org.il:443 \"POST /api/3/action/member_create HTTP/1.1\" 200 None\n",
      "DEBUG   :https://www.odata.org.il:443 \"POST /api/3/action/member_create HTTP/1.1\" 200 None\n",
      "DEBUG   :https://www.odata.org.il:443 \"POST /api/3/action/member_create HTTP/1.1\" 200 None\n",
      "DEBUG   :https://www.odata.org.il:443 \"POST /api/3/action/member_create HTTP/1.1\" 200 None\n",
      "DEBUG   :https://www.odata.org.il:443 \"POST /api/3/action/member_create HTTP/1.1\" 200 None\n",
      "DEBUG   :https://www.odata.org.il:443 \"POST /api/3/action/member_create HTTP/1.1\" 200 None\n",
      "DEBUG   :https://www.odata.org.il:443 \"POST /api/3/action/member_create HTTP/1.1\" 200 None\n",
      "DEBUG   :https://www.odata.org.il:443 \"POST /api/3/action/member_create HTTP/1.1\" 200 None\n",
      "DEBUG   :https://www.odata.org.il:443 \"POST /api/3/action/member_create HTTP/1.1\" 200 None\n",
      "DEBUG   :https://www.odata.org.il:443 \"POST /api/3/action/member_create HTTP/1.1\" 200 None\n",
      "DEBUG   :https://www.odata.org.il:443 \"POST /api/3/action/member_create HTTP/1.1\" 200 None\n",
      "DEBUG   :https://www.odata.org.il:443 \"POST /api/3/action/member_create HTTP/1.1\" 200 None\n",
      "DEBUG   :https://www.odata.org.il:443 \"POST /api/3/action/member_create HTTP/1.1\" 200 None\n",
      "DEBUG   :https://www.odata.org.il:443 \"POST /api/3/action/member_create HTTP/1.1\" 200 None\n",
      "DEBUG   :https://www.odata.org.il:443 \"POST /api/3/action/member_create HTTP/1.1\" 200 None\n",
      "DEBUG   :https://www.odata.org.il:443 \"POST /api/3/action/member_create HTTP/1.1\" 200 None\n",
      "DEBUG   :https://www.odata.org.il:443 \"POST /api/3/action/member_create HTTP/1.1\" 200 None\n",
      "DEBUG   :https://www.odata.org.il:443 \"POST /api/3/action/member_create HTTP/1.1\" 200 None\n",
      "DEBUG   :https://www.odata.org.il:443 \"POST /api/3/action/member_create HTTP/1.1\" 200 None\n",
      "DEBUG   :https://www.odata.org.il:443 \"POST /api/3/action/member_create HTTP/1.1\" 200 None\n",
      "DEBUG   :https://www.odata.org.il:443 \"POST /api/3/action/member_create HTTP/1.1\" 200 None\n",
      "DEBUG   :https://www.odata.org.il:443 \"POST /api/3/action/member_create HTTP/1.1\" 200 None\n",
      "DEBUG   :https://www.odata.org.il:443 \"POST /api/3/action/member_create HTTP/1.1\" 200 None\n",
      "DEBUG   :https://www.odata.org.il:443 \"POST /api/3/action/member_create HTTP/1.1\" 200 None\n",
      "DEBUG   :https://www.odata.org.il:443 \"POST /api/3/action/member_create HTTP/1.1\" 200 None\n",
      "DEBUG   :https://www.odata.org.il:443 \"POST /api/3/action/member_create HTTP/1.1\" 200 None\n",
      "DEBUG   :https://www.odata.org.il:443 \"POST /api/3/action/member_create HTTP/1.1\" 200 None\n",
      "DEBUG   :https://www.odata.org.il:443 \"POST /api/3/action/member_create HTTP/1.1\" 200 None\n",
      "DEBUG   :https://www.odata.org.il:443 \"POST /api/3/action/member_create HTTP/1.1\" 200 None\n",
      "DEBUG   :https://www.odata.org.il:443 \"POST /api/3/action/member_create HTTP/1.1\" 200 None\n",
      "DEBUG   :https://www.odata.org.il:443 \"POST /api/3/action/member_create HTTP/1.1\" 200 None\n",
      "DEBUG   :https://www.odata.org.il:443 \"POST /api/3/action/member_create HTTP/1.1\" 200 None\n",
      "DEBUG   :https://www.odata.org.il:443 \"POST /api/3/action/member_create HTTP/1.1\" 200 None\n",
      "DEBUG   :https://www.odata.org.il:443 \"POST /api/3/action/member_create HTTP/1.1\" 200 None\n",
      "DEBUG   :https://www.odata.org.il:443 \"POST /api/3/action/member_create HTTP/1.1\" 200 None\n",
      "DEBUG   :https://www.odata.org.il:443 \"POST /api/3/action/member_create HTTP/1.1\" 200 None\n",
      "DEBUG   :https://www.odata.org.il:443 \"POST /api/3/action/member_create HTTP/1.1\" 200 None\n",
      "DEBUG   :https://www.odata.org.il:443 \"POST /api/3/action/member_create HTTP/1.1\" 200 None\n",
      "DEBUG   :https://www.odata.org.il:443 \"POST /api/3/action/member_create HTTP/1.1\" 200 None\n",
      "DEBUG   :https://www.odata.org.il:443 \"POST /api/3/action/member_create HTTP/1.1\" 200 None\n",
      "DEBUG   :https://www.odata.org.il:443 \"POST /api/3/action/member_create HTTP/1.1\" 200 None\n",
      "DEBUG   :https://www.odata.org.il:443 \"POST /api/3/action/member_create HTTP/1.1\" 200 None\n",
      "DEBUG   :https://www.odata.org.il:443 \"POST /api/3/action/member_create HTTP/1.1\" 200 None\n",
      "DEBUG   :https://www.odata.org.il:443 \"POST /api/3/action/member_create HTTP/1.1\" 200 None\n",
      "DEBUG   :https://www.odata.org.il:443 \"POST /api/3/action/member_create HTTP/1.1\" 200 None\n",
      "DEBUG   :https://www.odata.org.il:443 \"POST /api/3/action/member_create HTTP/1.1\" 200 None\n",
      "DEBUG   :https://www.odata.org.il:443 \"POST /api/3/action/member_create HTTP/1.1\" 200 None\n",
      "DEBUG   :https://www.odata.org.il:443 \"POST /api/3/action/member_create HTTP/1.1\" 200 None\n",
      "DEBUG   :https://www.odata.org.il:443 \"POST /api/3/action/member_create HTTP/1.1\" 200 None\n",
      "DEBUG   :https://www.odata.org.il:443 \"POST /api/3/action/member_create HTTP/1.1\" 200 None\n",
      "DEBUG   :https://www.odata.org.il:443 \"POST /api/3/action/member_create HTTP/1.1\" 200 None\n",
      "DEBUG   :https://www.odata.org.il:443 \"POST /api/3/action/member_create HTTP/1.1\" 200 None\n",
      "DEBUG   :https://www.odata.org.il:443 \"POST /api/3/action/member_create HTTP/1.1\" 200 None\n",
      "DEBUG   :https://www.odata.org.il:443 \"POST /api/3/action/member_create HTTP/1.1\" 200 None\n",
      "DEBUG   :https://www.odata.org.il:443 \"POST /api/3/action/member_create HTTP/1.1\" 200 None\n",
      "DEBUG   :https://www.odata.org.il:443 \"POST /api/3/action/member_create HTTP/1.1\" 200 None\n",
      "DEBUG   :https://www.odata.org.il:443 \"POST /api/3/action/member_create HTTP/1.1\" 200 None\n",
      "DEBUG   :https://www.odata.org.il:443 \"POST /api/3/action/member_create HTTP/1.1\" 200 None\n",
      "DEBUG   :https://www.odata.org.il:443 \"POST /api/3/action/member_create HTTP/1.1\" 200 None\n",
      "DEBUG   :https://www.odata.org.il:443 \"POST /api/3/action/member_create HTTP/1.1\" 200 None\n",
      "DEBUG   :https://www.odata.org.il:443 \"POST /api/3/action/member_create HTTP/1.1\" 200 None\n",
      "DEBUG   :https://www.odata.org.il:443 \"POST /api/3/action/member_create HTTP/1.1\" 200 None\n",
      "DEBUG   :https://www.odata.org.il:443 \"POST /api/3/action/member_create HTTP/1.1\" 200 None\n",
      "DEBUG   :https://www.odata.org.il:443 \"POST /api/3/action/member_create HTTP/1.1\" 200 None\n",
      "DEBUG   :https://www.odata.org.il:443 \"POST /api/3/action/member_create HTTP/1.1\" 200 None\n",
      "DEBUG   :https://www.odata.org.il:443 \"POST /api/3/action/member_create HTTP/1.1\" 200 None\n",
      "DEBUG   :https://www.odata.org.il:443 \"POST /api/3/action/member_create HTTP/1.1\" 200 None\n",
      "DEBUG   :https://www.odata.org.il:443 \"POST /api/3/action/member_create HTTP/1.1\" 200 None\n"
     ]
    },
    {
     "data": {
      "text/plain": [
       "(<datapackage.package.Package at 0x7ff5c1ee9e48>, {})"
      ]
     },
     "execution_count": 65,
     "metadata": {},
     "output_type": "execute_result"
    }
   ],
   "source": [
    "from os import path, environ\n",
    "import requests\n",
    "from dataflows import Flow, load\n",
    "from datapackage_pipelines_ckanext.helpers import get_plugin_configuration\n",
    "\n",
    "def restore_group_datasets(row):\n",
    "    group_id = row['group_id']\n",
    "    if group_id in mismatched_group_ids:\n",
    "        for dataset_id in row['dataset_ids']:\n",
    "            res = session.post('{}/api/3/action/member_create'.format(CKAN_URL),\n",
    "                               json=dict(id=group_id,\n",
    "                                         object=dataset_id,\n",
    "                                         object_type='package',\n",
    "                                         capacity='')).json()\n",
    "            assert res and res['success']\n",
    "\n",
    "Flow(\n",
    "    load(path.join(data_path, 'dump_group_datasets/datapackage.json'), resources=['group_datasets']),\n",
    "    restore_group_datasets\n",
    ").process()\n"
   ]
  },
  {
   "cell_type": "code",
   "execution_count": null,
   "metadata": {},
   "outputs": [],
   "source": []
  }
 ],
 "metadata": {
  "kernelspec": {
   "display_name": "Python 3",
   "language": "python",
   "name": "python3"
  },
  "language_info": {
   "codemirror_mode": {
    "name": "ipython",
    "version": 3
   },
   "file_extension": ".py",
   "mimetype": "text/x-python",
   "name": "python",
   "nbconvert_exporter": "python",
   "pygments_lexer": "ipython3",
   "version": "3.6.6"
  }
 },
 "nbformat": 4,
 "nbformat_minor": 2
}
