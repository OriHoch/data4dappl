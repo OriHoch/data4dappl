{
 "cells": [
  {
   "cell_type": "markdown",
   "metadata": {},
   "source": [
    "## Initialize the ckan environment and requests session"
   ]
  },
  {
   "cell_type": "code",
   "execution_count": null,
   "metadata": {},
   "outputs": [],
   "source": [
    "import os\n",
    "from dataflows import Flow, printer\n",
    "from dataflows_shell.processors import html_requests\n",
    "\n",
    "CKAN_PIPELINES_AUTH = os.environ['CKAN_URL_AUTH']\n",
    "\n",
    "Flow(\n",
    "    html_requests('get', \n",
    "        f'https://{CKAN_PIPELINES_AUTH}@pipelines.odata.org.il/ckan/data/pipelines/upload_via_email/errors/',\n",
    "        'r.html.links'\n",
    "    ),\n",
    "    printer()\n",
    ").process()[1]"
   ]
  },
  {
   "cell_type": "code",
   "execution_count": null,
   "metadata": {},
   "outputs": [],
   "source": []
  }
 ],
 "metadata": {
  "kernelspec": {
   "display_name": "Python 3",
   "language": "python",
   "name": "python3"
  },
  "language_info": {
   "codemirror_mode": {
    "name": "ipython",
    "version": 3
   },
   "file_extension": ".py",
   "mimetype": "text/x-python",
   "name": "python",
   "nbconvert_exporter": "python",
   "pygments_lexer": "ipython3",
   "version": "3.6.3"
  }
 },
 "nbformat": 4,
 "nbformat_minor": 2
}
