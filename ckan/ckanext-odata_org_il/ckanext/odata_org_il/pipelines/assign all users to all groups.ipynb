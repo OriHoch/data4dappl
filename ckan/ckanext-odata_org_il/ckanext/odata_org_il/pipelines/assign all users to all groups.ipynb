{
 "cells": [
  {
   "cell_type": "markdown",
   "metadata": {},
   "source": [
    "## Initialize the ckan environment and requests session"
   ]
  },
  {
   "cell_type": "code",
   "execution_count": null,
   "metadata": {},
   "outputs": [],
   "source": [
    "%%bash\n",
    "python3 -m pip -q install -U \\\n",
    "    https://github.com/OriHoch/datapackage-pipelines-ckan/archive/support-multiple-datasets-headers-translated-error-message.zip \\\n",
    "    https://github.com/OriHoch/ckanext-datapackage_pipelines/archive/master.zip#subdirectory=datapackage_pipelines_ckanext \\\n",
    "    'dataflows'"
   ]
  },
  {
   "cell_type": "markdown",
   "metadata": {},
   "source": [
    "## Fetch all the ckan users and groups"
   ]
  },
  {
   "cell_type": "code",
   "execution_count": null,
   "metadata": {},
   "outputs": [],
   "source": [
    "from dataflows import Flow, printer, checkpoint\n",
    "from importlib import reload\n",
    "from ckan import ckan\n",
    "\n",
    "!{'rm -rf .checkpoints/all_groups_orgazniations'}\n",
    "\n",
    "Flow(\n",
    "    ckan('get', 'organizations'),\n",
    "    ckan('get', 'groups'),\n",
    "    printer(tablefmt='html', num_rows=1),\n",
    "    checkpoint('all_groups_orgazniations')\n",
    ").process()[1]"
   ]
  },
  {
   "cell_type": "markdown",
   "metadata": {},
   "source": [
    "## Get parameters for create member"
   ]
  },
  {
   "cell_type": "code",
   "execution_count": null,
   "metadata": {},
   "outputs": [],
   "source": [
    "from dataflows import Flow, checkpoint, printer\n",
    "\n",
    "def get_group_users_to_create(entities, all_organization_user_ids):\n",
    "    for entity in entities:\n",
    "        entity_user_ids = [entity_user['id'] for entity_user in entity['users']]\n",
    "        for organiztion_user_id in all_organization_user_ids:\n",
    "            if organiztion_user_id not in entity_user_ids:\n",
    "                yield {'object': organiztion_user_id,\n",
    "                       'object_type': 'user',\n",
    "                       'id': entity['id'],\n",
    "                       'capacity': 'member'}\n",
    "                \n",
    "\n",
    "def get_create_member_params(package):\n",
    "    package.pkg.remove_resource('ckan_organizations')\n",
    "    package.pkg.remove_resource('ckan_groups')\n",
    "    package.pkg.add_resource({\"name\": \"group_users_to_create\", \"path\": \"group_users_to_create.csv\",\n",
    "                              \"schema\": {\"fields\": [{\"name\": \"id\", \"type\": \"string\"},\n",
    "                                                    {\"name\": \"object\", \"type\": \"string\"},\n",
    "                                                    {\"name\": \"object_type\", \"type\": \"string\"},\n",
    "                                                    {\"name\": \"capacity\", \"type\": \"string\"}]}})\n",
    "    yield package.pkg\n",
    "    all_organization_user_ids = set()\n",
    "    all_group_entities_user_ids = {}\n",
    "    for rows in package:\n",
    "        if rows.res.name == 'ckan_organizations':\n",
    "            for org in rows:\n",
    "                for org_user in org['users']:\n",
    "                    all_organization_user_ids.add(org_user['id'])\n",
    "        elif rows.res.name == 'ckan_groups':\n",
    "            yield get_group_users_to_create(rows, all_organization_user_ids)\n",
    "        else:\n",
    "            yield rows\n",
    "\n",
    "!{'rm -rf .checkpoints/group_users_to_create'}\n",
    "    \n",
    "Flow(\n",
    "    checkpoint('all_groups_orgazniations'),\n",
    "    get_create_member_params,\n",
    "    printer(tablefmt='html', num_rows=1),\n",
    "    checkpoint('group_users_to_create')\n",
    ").process()[1]"
   ]
  },
  {
   "cell_type": "markdown",
   "metadata": {},
   "source": [
    "## Create the group users memberships"
   ]
  },
  {
   "cell_type": "code",
   "execution_count": null,
   "metadata": {},
   "outputs": [],
   "source": [
    "from dataflows import Flow, checkpoint, printer\n",
    "from ckan import ckan\n",
    "\n",
    "Flow(\n",
    "    checkpoint('group_users_to_create'),\n",
    "    ckan('create', 'member'),\n",
    "    printer(tablefmt='html', num_rows=1)\n",
    ").process()[1]\n"
   ]
  },
  {
   "cell_type": "code",
   "execution_count": null,
   "metadata": {},
   "outputs": [],
   "source": []
  }
 ],
 "metadata": {
  "kernelspec": {
   "display_name": "Python 3",
   "language": "python",
   "name": "python3"
  },
  "language_info": {
   "codemirror_mode": {
    "name": "ipython",
    "version": 3
   },
   "file_extension": ".py",
   "mimetype": "text/x-python",
   "name": "python",
   "nbconvert_exporter": "python",
   "pygments_lexer": "ipython3",
   "version": "3.6.3"
  }
 },
 "nbformat": 4,
 "nbformat_minor": 2
}
