{
 "cells": [
  {
   "cell_type": "markdown",
   "metadata": {},
   "source": [
    "## Initialize the ckan environment and requests session"
   ]
  },
  {
   "cell_type": "code",
   "execution_count": 2,
   "metadata": {},
   "outputs": [
    {
     "name": "stderr",
     "output_type": "stream",
     "text": [
      "DEBUG   :Starting new HTTPS connection (1): www.odata.org.il:443\n",
      "DEBUG   :https://www.odata.org.il:443 \"GET /pipelines/config/odata_org_il HTTP/1.1\" 200 None\n"
     ]
    }
   ],
   "source": [
    "from os import path, environ\n",
    "import requests\n",
    "from dataflows import Flow, load\n",
    "from datapackage_pipelines_ckanext.helpers import get_plugin_configuration\n",
    "\n",
    "config = get_plugin_configuration('odata_org_il')\n",
    "data_path = config['data_path']\n",
    "\n",
    "CKAN_API_KEY = environ.get('CKAN_API_KEY')\n",
    "CKAN_URL = environ.get('CKAN_URL')\n",
    "assert CKAN_API_KEY and CKAN_URL\n",
    "CKAN_AUTH_HEADERS = {'Authorization': CKAN_API_KEY}\n",
    "session = requests.session()\n",
    "session.headers.update(CKAN_AUTH_HEADERS)"
   ]
  },
  {
   "cell_type": "markdown",
   "metadata": {},
   "source": [
    "## Source entity data from foi site"
   ]
  },
  {
   "cell_type": "code",
   "execution_count": 18,
   "metadata": {},
   "outputs": [
    {
     "name": "stdout",
     "output_type": "stream",
     "text": [
      "email: hofesh@taxes.mof.gov.il\n",
      "fax: 03-6559305\n",
      "form: '{\"onlineurl\": \"~\", \"email\": \"hofesh@taxes.mof.gov.il \", \"fax\": \"03-6559305\\r\\n\",\n",
      "  \"letter\": \"\\u05e8\\u05d7'' \\u05db\\u05e0\\u05e4\\u05d9 \\u05e0\\u05e9\\u05e8\\u05d9\\u05dd\n",
      "  5, \\u05ea.\\u05d3. 1170, \\u05d9\\u05e8\\u05d5\\u05e9\\u05dc\\u05d9\\u05dd 91010\\r\\n\"}'\n",
      "govxcontentsection: <p>רשות המיסים בישראל אחראית על גביית מיסים ישירים ועקיפים, הגברת\n",
      "  האכיפה וההרתעה, מאבק בהון השחור וקידום הצמיחה והכלכלה בישראל.</p>\n",
      "govxdescription: null\n",
      "language: und\n",
      "managername: שלמה אוחיון\n",
      "mmdOfficesTypes: יחידת סמך\n",
      "mmdOfficesTypes_tid: '58'\n",
      "nid: '446'\n",
      "officenamecode: '3047'\n",
      "officetypecode: '3'\n",
      "payments: '{\"onlineurl\": \"~\", \"banktransfer\": \"\\u05d1\\u05e0\\u05e7 \\u05d4\\u05d3\\u05d5\\u05d0\\u05e8,\n",
      "  \\u05e1\\u05e0\\u05d9\\u05e3 001, \\u05d7\\u05e9\\u05d1\\u05d5\\u05df 50055\", \"postalbank\":\n",
      "  \"\\u05d1\\u05e0\\u05e7 \\u05d4\\u05d3\\u05d5\\u05d0\\u05e8, \\u05e1\\u05e0\\u05d9\\u05e3 001,\n",
      "  \\u05d7\\u05e9\\u05d1\\u05d5\\u05df 50055\", \"treasury\": \"\", \"check\": \"\", \"phone\": \"\",\n",
      "  \"cash\": \"\"}'\n",
      "receptionaddressnotes: רח' כנפי נשרים 5, ת.ד. 1170, ירושלים 91010\n",
      "receptionphonenumbers: 02-6559112/113\n",
      "title: רשות המסים בישראל\n",
      "websiteurl: '{\"url\": \"http://taxes.gov.il\", \"title\": \"http://taxes.gov.il\"}'\n",
      "\n"
     ]
    }
   ],
   "source": [
    "from dataflows import Flow, load\n",
    "import yaml\n",
    "\n",
    "def process(rows):\n",
    "    for row in rows:\n",
    "        if int(row['nid']) == 446:\n",
    "            print(yaml.dump(row, default_flow_style=False, allow_unicode=True))\n",
    "            yield row\n",
    "\n",
    "source_entity = Flow(\n",
    "    load(data_path+'/new_foi_offices/datapackage.json'),\n",
    "    process\n",
    ").results()[0][0]"
   ]
  },
  {
   "cell_type": "markdown",
   "metadata": {},
   "source": [
    "## Matching ckan group from foi_groups_matching excel resource"
   ]
  },
  {
   "cell_type": "code",
   "execution_count": 53,
   "metadata": {},
   "outputs": [
    {
     "name": "stdout",
     "output_type": "stream",
     "text": [
      "Column2: רשות המסים\n",
      "Column3: 3c51d20a-e2c5-4266-a566-213de713682d\n",
      "entity_id: foi-office-446\n",
      "group_id: 44b29639-a5b1-41c9-a06b-e5ae3c17d86a\n",
      "group_name: foi-office-446\n",
      "matching ID: '1272'\n",
      "title: 'יחידת סמך: רשות המסים בישראל'\n",
      "\n"
     ]
    }
   ],
   "source": [
    "from dataflows import Flow, load\n",
    "import yaml\n",
    "\n",
    "def process(rows):\n",
    "    for i, row in enumerate(rows):\n",
    "        if row['entity_id'] == f'foi-office-{source_entity[\"nid\"]}':\n",
    "            yield row\n",
    "\n",
    "foi_group_matching_resource = Flow(load(data_path+'/foi_groups_matching/datapackage.json')).results()[0][0]\n",
    "foi_group_matching_source_entity = [row for row in foi_group_matching_resource if row['entity_id'] == f'foi-office-{source_entity[\"nid\"]}'][0]\n",
    "print(yaml.dump(foi_group_matching_source_entity, default_flow_style=False, allow_unicode=True))"
   ]
  },
  {
   "cell_type": "markdown",
   "metadata": {},
   "source": [
    "## Load existing entities and find matching group"
   ]
  },
  {
   "cell_type": "code",
   "execution_count": 54,
   "metadata": {},
   "outputs": [
    {
     "name": "stderr",
     "output_type": "stream",
     "text": [
      "INFO    :Loading existing entities / groups, 500 results per page\n",
      "INFO    :offset=0\n",
      "DEBUG   :Starting new HTTPS connection (1): www.odata.org.il:443\n",
      "DEBUG   :https://www.odata.org.il:443 \"POST /api/3/action/group_list HTTP/1.1\" 200 None\n",
      "INFO    :offset=500\n",
      "DEBUG   :Starting new HTTPS connection (1): www.odata.org.il:443\n",
      "DEBUG   :https://www.odata.org.il:443 \"POST /api/3/action/group_list HTTP/1.1\" 200 None\n",
      "INFO    :offset=1000\n",
      "DEBUG   :Starting new HTTPS connection (1): www.odata.org.il:443\n",
      "DEBUG   :https://www.odata.org.il:443 \"POST /api/3/action/group_list HTTP/1.1\" 200 None\n",
      "INFO    :offset=1500\n",
      "DEBUG   :Starting new HTTPS connection (1): www.odata.org.il:443\n",
      "DEBUG   :https://www.odata.org.il:443 \"POST /api/3/action/group_list HTTP/1.1\" 200 None\n"
     ]
    },
    {
     "name": "stdout",
     "output_type": "stream",
     "text": [
      "entity_id: null\n",
      "group:\n",
      "  approval_status: approved\n",
      "  created: '2017-09-03T12:24:13.629578'\n",
      "  description: ''\n",
      "  display_name: רשות המסים\n",
      "  extras: []\n",
      "  id: 3c51d20a-e2c5-4266-a566-213de713682d\n",
      "  is_organization: false\n",
      "  name: taxes\n",
      "  num_followers: 0\n",
      "  revision_id: 803d2f1e-c16d-4493-bd96-99a59726fb9b\n",
      "  state: active\n",
      "  title: רשות המסים\n",
      "  type: group\n",
      "group_id: 3c51d20a-e2c5-4266-a566-213de713682d\n",
      "group_name: taxes\n",
      "title: רשות המסים\n",
      "\n",
      "num existing entities = 3\n",
      "{'existing_groups_without_entity': 128, 'existing_groups_with_entity': 1154}\n"
     ]
    }
   ],
   "source": [
    "from dataflows import Flow, load\n",
    "from load_existing_entities import get_existing_entities_resource, get_existing_entities_resource_descriptor\n",
    "from collections import defaultdict\n",
    "\n",
    "stats = defaultdict(int)\n",
    "existing_entities_resource = Flow(load(({'resources': [get_existing_entities_resource_descriptor()]}, \n",
    "                                        [get_existing_entities_resource(stats)]))\n",
    "                                 ).results()[0][0]\n",
    "existing_entity = [row for row in existing_entities_resource if row['group_id'] == foi_group_matching_source_entity['Column3']][0]\n",
    "print(yaml.dump(existing_entity, default_flow_style=False, allow_unicode=True))\n",
    "print(f'num existing entities = {len(existing_entities)}')\n",
    "print(dict(stats))"
   ]
  },
  {
   "cell_type": "markdown",
   "metadata": {},
   "source": [
    "## Run dry run to update_foi_offices_entities manually only for this group"
   ]
  },
  {
   "cell_type": "code",
   "execution_count": 57,
   "metadata": {},
   "outputs": [
    {
     "name": "stderr",
     "output_type": "stream",
     "text": [
      "INFO    :updating group id 3c51d20a-e2c5-4266-a566-213de713682d\n",
      "DEBUG   :Starting new HTTPS connection (1): www.odata.org.il:443\n",
      "DEBUG   :https://www.odata.org.il:443 \"POST /api/3/action/group_patch HTTP/1.1\" 200 None\n"
     ]
    },
    {
     "name": "stdout",
     "output_type": "stream",
     "text": [
      "email: hofesh@taxes.mof.gov.il\n",
      "entity_id: foi-office-446\n",
      "fax: 03-6559305\n",
      "form: '{\"onlineurl\": \"~\", \"email\": \"hofesh@taxes.mof.gov.il \", \"fax\": \"03-6559305\\r\\n\",\n",
      "  \"letter\": \"\\u05e8\\u05d7'' \\u05db\\u05e0\\u05e4\\u05d9 \\u05e0\\u05e9\\u05e8\\u05d9\\u05dd\n",
      "  5, \\u05ea.\\u05d3. 1170, \\u05d9\\u05e8\\u05d5\\u05e9\\u05dc\\u05d9\\u05dd 91010\\r\\n\"}'\n",
      "govxcontentsection: <p>רשות המיסים בישראל אחראית על גביית מיסים ישירים ועקיפים, הגברת\n",
      "  האכיפה וההרתעה, מאבק בהון השחור וקידום הצמיחה והכלכלה בישראל.</p>\n",
      "govxdescription: null\n",
      "language: und\n",
      "managername: שלמה אוחיון\n",
      "mmdOfficesTypes: יחידת סמך\n",
      "mmdOfficesTypes_tid: '58'\n",
      "nid: '446'\n",
      "officenamecode: '3047'\n",
      "officetypecode: '3'\n",
      "payments: '{\"onlineurl\": \"~\", \"banktransfer\": \"\\u05d1\\u05e0\\u05e7 \\u05d4\\u05d3\\u05d5\\u05d0\\u05e8,\n",
      "  \\u05e1\\u05e0\\u05d9\\u05e3 001, \\u05d7\\u05e9\\u05d1\\u05d5\\u05df 50055\", \"postalbank\":\n",
      "  \"\\u05d1\\u05e0\\u05e7 \\u05d4\\u05d3\\u05d5\\u05d0\\u05e8, \\u05e1\\u05e0\\u05d9\\u05e3 001,\n",
      "  \\u05d7\\u05e9\\u05d1\\u05d5\\u05df 50055\", \"treasury\": \"\", \"check\": \"\", \"phone\": \"\",\n",
      "  \"cash\": \"\"}'\n",
      "receptionaddressnotes: רח' כנפי נשרים 5, ת.ד. 1170, ירושלים 91010\n",
      "receptionphonenumbers: 02-6559112/113\n",
      "title: רשות המסים בישראל\n",
      "update_title: 'יחידת סמך: רשות המסים בישראל'\n",
      "update_type: update\n",
      "websiteurl: '{\"url\": \"http://taxes.gov.il\", \"title\": \"http://taxes.gov.il\"}'\n",
      "\n"
     ]
    }
   ],
   "source": [
    "from update_foi_offices_entities import get_foi_offices_resource, get_existing_entities, get_foi_groups_matching\n",
    "from collections import defaultdict\n",
    "import yaml\n",
    "\n",
    "stats = defaultdict(int)\n",
    "\n",
    "existing_entities = {}\n",
    "for row in get_existing_entities(existing_entities_resource, existing_entities, stats):\n",
    "    pass\n",
    "\n",
    "for row in get_foi_groups_matching(foi_group_matching_resource, existing_entities, stats):\n",
    "    pass\n",
    "\n",
    "for row in get_foi_offices_resource([source_entity], existing_entities, stats, True):\n",
    "    print(yaml.dump(row, default_flow_style=False, allow_unicode=True))"
   ]
  },
  {
   "cell_type": "markdown",
   "metadata": {},
   "source": [
    "## Before updating - save the group datasets, otherwise they will be disconnected from group"
   ]
  },
  {
   "cell_type": "code",
   "execution_count": null,
   "metadata": {},
   "outputs": [],
   "source": [
    "raise NotImplementedError()"
   ]
  },
  {
   "cell_type": "markdown",
   "metadata": {},
   "source": [
    "## Do the update"
   ]
  },
  {
   "cell_type": "code",
   "execution_count": null,
   "metadata": {},
   "outputs": [],
   "source": [
    "for row in get_foi_offices_resource([source_entity], existing_entities, stats, False):\n",
    "    print(yaml.dump(row, default_flow_style=False, allow_unicode=True))"
   ]
  },
  {
   "cell_type": "markdown",
   "metadata": {},
   "source": [
    "## Restore the datasets"
   ]
  },
  {
   "cell_type": "code",
   "execution_count": 58,
   "metadata": {},
   "outputs": [
    {
     "name": "stderr",
     "output_type": "stream",
     "text": [
      "DEBUG   :Starting new HTTPS connection (1): www.odata.org.il:443\n",
      "DEBUG   :https://www.odata.org.il:443 \"POST /api/3/action/member_create HTTP/1.1\" 200 None\n",
      "DEBUG   :https://www.odata.org.il:443 \"POST /api/3/action/member_create HTTP/1.1\" 200 None\n",
      "DEBUG   :https://www.odata.org.il:443 \"POST /api/3/action/member_create HTTP/1.1\" 200 None\n"
     ]
    },
    {
     "data": {
      "text/plain": [
       "(<datapackage.package.Package at 0x7fa6fab7add8>, {})"
      ]
     },
     "execution_count": 58,
     "metadata": {},
     "output_type": "execute_result"
    }
   ],
   "source": [
    "from os import path, environ\n",
    "import requests\n",
    "from dataflows import Flow, load\n",
    "from datapackage_pipelines_ckanext.helpers import get_plugin_configuration\n",
    "\n",
    "def restore_group_datasets(row):\n",
    "    group_id = row['group_id']\n",
    "    if group_id == existing_entity['group_id']:\n",
    "        for dataset_id in row['dataset_ids']:\n",
    "            res = session.post('{}/api/3/action/member_create'.format(CKAN_URL),\n",
    "                               json=dict(id=group_id,\n",
    "                                         object=dataset_id,\n",
    "                                         object_type='package',\n",
    "                                         capacity='')).json()\n",
    "            assert res and res['success']\n",
    "\n",
    "Flow(\n",
    "    load(path.join(data_path, 'dump_group_datasets/datapackage.json'), resources=['group_datasets']),\n",
    "    restore_group_datasets\n",
    ").process()\n"
   ]
  },
  {
   "cell_type": "code",
   "execution_count": null,
   "metadata": {},
   "outputs": [],
   "source": []
  }
 ],
 "metadata": {
  "kernelspec": {
   "display_name": "Python 3",
   "language": "python",
   "name": "python3"
  },
  "language_info": {
   "codemirror_mode": {
    "name": "ipython",
    "version": 3
   },
   "file_extension": ".py",
   "mimetype": "text/x-python",
   "name": "python",
   "nbconvert_exporter": "python",
   "pygments_lexer": "ipython3",
   "version": "3.6.6"
  }
 },
 "nbformat": 4,
 "nbformat_minor": 2
}
