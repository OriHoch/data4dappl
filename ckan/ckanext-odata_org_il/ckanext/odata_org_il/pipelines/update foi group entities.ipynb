{
 "cells": [
  {
   "cell_type": "markdown",
   "metadata": {},
   "source": [
    "# Update foi groups / entities"
   ]
  },
  {
   "cell_type": "markdown",
   "metadata": {},
   "source": [
    "## Download the foi offices xml and json sources"
   ]
  },
  {
   "cell_type": "code",
   "execution_count": 1,
   "metadata": {},
   "outputs": [
    {
     "name": "stdout",
     "output_type": "stream",
     "text": [
      "\u001b[1A\n",
      "\u001b[2K./download_foi_offices: \u001b[31mWAITING FOR OUTPUT\u001b[0m\n",
      "\u001b[2A\n",
      "\u001b[2K./download_foi_offices: \u001b[33mRUNNING, processed 100 rows\u001b[0m\n",
      "\u001b[2A\n",
      "\u001b[2K./download_foi_offices: \u001b[33mRUNNING, processed 200 rows\u001b[0m\n",
      "\u001b[2A\n",
      "\u001b[2K./download_foi_offices: \u001b[33mRUNNING, processed 300 rows\u001b[0m\n",
      "\u001b[2A\n",
      "\u001b[2K./download_foi_offices: \u001b[33mRUNNING, processed 400 rows\u001b[0m\n",
      "\u001b[2A\n",
      "\u001b[2K./download_foi_offices: \u001b[33mRUNNING, processed 500 rows\u001b[0m\n",
      "\u001b[2A\n",
      "\u001b[2K./download_foi_offices: \u001b[33mRUNNING, processed 600 rows\u001b[0m\n",
      "\u001b[2A\n",
      "\u001b[2K./download_foi_offices: \u001b[33mRUNNING, processed 700 rows\u001b[0m\n",
      "\u001b[2A\n",
      "\u001b[2K./download_foi_offices: \u001b[33mRUNNING, processed 800 rows\u001b[0m\n",
      "\u001b[2A\n",
      "\u001b[2K./download_foi_offices: \u001b[33mRUNNING, processed 900 rows\u001b[0m\n",
      "\u001b[2A\n",
      "\u001b[2K./download_foi_offices: \u001b[33mRUNNING, processed 1000 rows\u001b[0m\n",
      "\u001b[2A\n",
      "\u001b[2K./download_foi_offices: \u001b[33mRUNNING, processed 1100 rows\u001b[0m\n",
      "\u001b[2A\n",
      "\u001b[2K./download_foi_offices: \u001b[33mRUNNING, processed 1200 rows\u001b[0m\n",
      "\u001b[2A\n",
      "\u001b[2K./download_foi_offices: \u001b[33mRUNNING, processed 1300 rows\u001b[0m\n",
      "\u001b[2A\n",
      "\u001b[2K./download_foi_offices: \u001b[33mRUNNING, processed 1400 rows\u001b[0m\n",
      "\u001b[2A\n",
      "\u001b[2K./download_foi_offices: \u001b[33mRUNNING, processed 1500 rows\u001b[0m\n",
      "\u001b[2A\n",
      "\u001b[2K./download_foi_offices: \u001b[33mRUNNING, processed 1600 rows\u001b[0m\n",
      "\u001b[2A\n",
      "\u001b[2K./download_foi_offices: \u001b[33mRUNNING, processed 1682 rows\u001b[0m\n",
      "\u001b[2A\n",
      "\u001b[2K./download_foi_offices: \u001b[32mSUCCESS, processed 1682 rows\u001b[0m\n",
      "INFO    :RESULTS:\n",
      "INFO    :SUCCESS: ./download_foi_offices {'bytes': 2011204, 'count_of_rows': 1682, 'dataset_name': '_', 'hash': '39efa64097e10335971827833bc4c34a'}\n"
     ]
    }
   ],
   "source": [
    "!{'dpp run ./download_foi_offices'}"
   ]
  },
  {
   "cell_type": "code",
   "execution_count": 2,
   "metadata": {},
   "outputs": [
    {
     "name": "stdout",
     "output_type": "stream",
     "text": [
      "\u001b[1A\n",
      "\u001b[2K./download_foi_offices_xml: \u001b[31mWAITING FOR OUTPUT\u001b[0m\n",
      "\u001b[2A\n",
      "\u001b[2K./download_foi_offices_xml: \u001b[33mRUNNING, processed 100 rows\u001b[0m\n",
      "\u001b[2A\n",
      "\u001b[2K./download_foi_offices_xml: \u001b[33mRUNNING, processed 200 rows\u001b[0m\n",
      "\u001b[2A\n",
      "\u001b[2K./download_foi_offices_xml: \u001b[33mRUNNING, processed 300 rows\u001b[0m\n",
      "\u001b[2A\n",
      "\u001b[2K./download_foi_offices_xml: \u001b[33mRUNNING, processed 400 rows\u001b[0m\n",
      "\u001b[2A\n",
      "\u001b[2K./download_foi_offices_xml: \u001b[33mRUNNING, processed 500 rows\u001b[0m\n",
      "\u001b[2A\n",
      "\u001b[2K./download_foi_offices_xml: \u001b[33mRUNNING, processed 600 rows\u001b[0m\n",
      "\u001b[2A\n",
      "\u001b[2K./download_foi_offices_xml: \u001b[33mRUNNING, processed 700 rows\u001b[0m\n",
      "\u001b[2A\n",
      "\u001b[2K./download_foi_offices_xml: \u001b[33mRUNNING, processed 800 rows\u001b[0m\n",
      "\u001b[2A\n",
      "\u001b[2K./download_foi_offices_xml: \u001b[33mRUNNING, processed 900 rows\u001b[0m\n",
      "\u001b[2A\n",
      "\u001b[2K./download_foi_offices_xml: \u001b[33mRUNNING, processed 1000 rows\u001b[0m\n",
      "\u001b[2A\n",
      "\u001b[2K./download_foi_offices_xml: \u001b[33mRUNNING, processed 1100 rows\u001b[0m\n",
      "\u001b[2A\n",
      "\u001b[2K./download_foi_offices_xml: \u001b[33mRUNNING, processed 1200 rows\u001b[0m\n",
      "\u001b[2A\n",
      "\u001b[2K./download_foi_offices_xml: \u001b[33mRUNNING, processed 1300 rows\u001b[0m\n",
      "\u001b[2A\n",
      "\u001b[2K./download_foi_offices_xml: \u001b[33mRUNNING, processed 1400 rows\u001b[0m\n",
      "\u001b[2A\n",
      "\u001b[2K./download_foi_offices_xml: \u001b[33mRUNNING, processed 1500 rows\u001b[0m\n",
      "\u001b[2A\n",
      "\u001b[2K./download_foi_offices_xml: \u001b[33mRUNNING, processed 1600 rows\u001b[0m\n",
      "\u001b[2A\n",
      "\u001b[2K./download_foi_offices_xml: \u001b[33mRUNNING, processed 1700 rows\u001b[0m\n",
      "\u001b[2A\n",
      "\u001b[2K./download_foi_offices_xml: \u001b[33mRUNNING, processed 1800 rows\u001b[0m\n",
      "\u001b[2A\n",
      "\u001b[2K./download_foi_offices_xml: \u001b[33mRUNNING, processed 1900 rows\u001b[0m\n",
      "\u001b[2A\n",
      "\u001b[2K./download_foi_offices_xml: \u001b[33mRUNNING, processed 1972 rows\u001b[0m\n",
      "\u001b[2A\n",
      "\u001b[2K./download_foi_offices_xml: \u001b[32mSUCCESS, processed 1972 rows\u001b[0m\n",
      "INFO    :RESULTS:\n",
      "INFO    :SUCCESS: ./download_foi_offices_xml {'bytes': 1445616, 'count_of_rows': 1972, 'dataset_name': '_', 'hash': '3e6820a1303e99017b00b337bf2ba0e8'}\n"
     ]
    }
   ],
   "source": [
    "!{'dpp run ./download_foi_offices_xml'}"
   ]
  },
  {
   "cell_type": "markdown",
   "metadata": {},
   "source": [
    "## Get the CKAN resource with matching between json entity_ids and group ids"
   ]
  },
  {
   "cell_type": "code",
   "execution_count": 2,
   "metadata": {},
   "outputs": [
    {
     "name": "stdout",
     "output_type": "stream",
     "text": [
      "\u001b[1A\n",
      "\u001b[2K./download_foi_offices_matching_resource: \u001b[31mWAITING FOR OUTPUT\u001b[0m\n",
      "\u001b[2A\n",
      "\u001b[2K./download_foi_offices_matching_resource: \u001b[33mRUNNING, processed 100 rows\u001b[0m\n",
      "\u001b[2A\n",
      "\u001b[2K./download_foi_offices_matching_resource: \u001b[33mRUNNING, processed 200 rows\u001b[0m\n",
      "\u001b[2A\n",
      "\u001b[2K./download_foi_offices_matching_resource: \u001b[33mRUNNING, processed 300 rows\u001b[0m\n",
      "\u001b[2A\n",
      "\u001b[2K./download_foi_offices_matching_resource: \u001b[33mRUNNING, processed 400 rows\u001b[0m\n",
      "\u001b[2A\n",
      "\u001b[2K./download_foi_offices_matching_resource: \u001b[33mRUNNING, processed 500 rows\u001b[0m\n",
      "\u001b[2A\n",
      "\u001b[2K./download_foi_offices_matching_resource: \u001b[33mRUNNING, processed 600 rows\u001b[0m\n",
      "\u001b[2A\n",
      "\u001b[2K./download_foi_offices_matching_resource: \u001b[33mRUNNING, processed 700 rows\u001b[0m\n",
      "\u001b[2A\n",
      "\u001b[2K./download_foi_offices_matching_resource: \u001b[33mRUNNING, processed 800 rows\u001b[0m\n",
      "\u001b[2A\n",
      "\u001b[2K./download_foi_offices_matching_resource: \u001b[33mRUNNING, processed 900 rows\u001b[0m\n",
      "\u001b[2A\n",
      "\u001b[2K./download_foi_offices_matching_resource: \u001b[33mRUNNING, processed 1000 rows\u001b[0m\n",
      "\u001b[2A\n",
      "\u001b[2K./download_foi_offices_matching_resource: \u001b[33mRUNNING, processed 1100 rows\u001b[0m\n",
      "\u001b[2A\n",
      "\u001b[2K./download_foi_offices_matching_resource: \u001b[33mRUNNING, processed 1200 rows\u001b[0m\n",
      "\u001b[2A\n",
      "\u001b[2K./download_foi_offices_matching_resource: \u001b[33mRUNNING, processed 1300 rows\u001b[0m\n",
      "\u001b[2A\n",
      "\u001b[2K./download_foi_offices_matching_resource: \u001b[33mRUNNING, processed 1400 rows\u001b[0m\n",
      "\u001b[2A\n",
      "\u001b[2K./download_foi_offices_matching_resource: \u001b[33mRUNNING, processed 1422 rows\u001b[0m\n",
      "\u001b[2A\n",
      "\u001b[2K./download_foi_offices_matching_resource: \u001b[32mSUCCESS, processed 1422 rows\u001b[0m\n",
      "INFO    :RESULTS:\n",
      "INFO    :SUCCESS: ./download_foi_offices_matching_resource {'bytes': 179299, 'count_of_rows': 1422, 'dataset_name': '_', 'hash': '9cee9f9865535f9502434a0e04735877'}\n"
     ]
    }
   ],
   "source": [
    "!{'dpp run ./download_foi_offices_matching_resource'}"
   ]
  },
  {
   "cell_type": "code",
   "execution_count": 4,
   "metadata": {},
   "outputs": [
    {
     "data": {
      "text/html": [
       "<h3>foi_offices</h3>"
      ],
      "text/plain": [
       "<IPython.core.display.HTML object>"
      ]
     },
     "metadata": {},
     "output_type": "display_data"
    },
    {
     "data": {
      "text/html": [
       "<table>\n",
       "<thead>\n",
       "<tr><th>#   </th><th>email\n",
       "(string)                      </th><th>fax\n",
       "(string)           </th><th>mmdOfficesTypes\n",
       "(string)              </th><th style=\"text-align: right;\">     nid\n",
       "(string)</th><th style=\"text-align: right;\">      officenamecode\n",
       "(string)</th><th style=\"text-align: right;\">   officetypecode\n",
       "(string)</th><th>title\n",
       "(string)                       </th></tr>\n",
       "</thead>\n",
       "<tbody>\n",
       "<tr><td>1   </td><td>lishca@j-v.org.il    </td><td>04-6757641</td><td>ועדים מקומיים</td><td style=\"text-align: right;\">6007</td><td style=\"text-align: right;\">14039</td><td style=\"text-align: right;\">14</td><td>האון                  </td></tr>\n",
       "<tr><td>2   </td><td>lilach@enviosh.org.il</td><td>02-5900041</td><td>איגוד ערים   </td><td style=\"text-align: right;\">4199</td><td style=\"text-align: right;\"> 1516</td><td style=\"text-align: right;\">15</td><td>יהודה (איכות הסביבה)  </td></tr>\n",
       "<tr><td>... </td><td>                     </td><td>          </td><td>             </td><td style=\"text-align: right;\">    </td><td style=\"text-align: right;\">     </td><td style=\"text-align: right;\">  </td><td>                      </td></tr>\n",
       "<tr><td>1682</td><td>pniot@pei.co.il      </td><td>09-9543719</td><td>חברה ממשלתית </td><td style=\"text-align: right;\">1042</td><td style=\"text-align: right;\"> 6091</td><td style=\"text-align: right;\"> 6</td><td>תשתיות נפט ואנרגיה בעמ</td></tr>\n",
       "</tbody>\n",
       "</table>"
      ],
      "text/plain": [
       "<IPython.core.display.HTML object>"
      ]
     },
     "metadata": {},
     "output_type": "display_data"
    },
    {
     "data": {
      "text/html": [
       "<h3>foi_offices_xml</h3>"
      ],
      "text/plain": [
       "<IPython.core.display.HTML object>"
      ]
     },
     "metadata": {},
     "output_type": "display_data"
    },
    {
     "data": {
      "text/html": [
       "<table>\n",
       "<thead>\n",
       "<tr><th>#   </th><th>Title\n",
       "(string)                    </th><th>MMDOfficesTypes\n",
       "(string)              </th><th>Email\n",
       "(string)                         </th><th>Fax\n",
       "(string)           </th><th style=\"text-align: right;\">      OfficeNameCode\n",
       "(string)</th><th style=\"text-align: right;\">   OfficeTypeCode\n",
       "(string)</th></tr>\n",
       "</thead>\n",
       "<tbody>\n",
       "<tr><td>1   </td><td>מפעלי מישור רותם   </td><td>ועדים מקומיים</td><td>Akrish@ma-tamar.co.il   </td><td>08-6688944</td><td style=\"text-align: right;\">14063</td><td style=\"text-align: right;\">13</td></tr>\n",
       "<tr><td>2   </td><td>מפעלי ים המלח(סדום)</td><td>ועדים מקומיים</td><td>Akrish@ma-tamar.co.il   </td><td>08-6688944</td><td style=\"text-align: right;\">14062</td><td style=\"text-align: right;\">13</td></tr>\n",
       "<tr><td>... </td><td>                   </td><td>             </td><td>                        </td><td>          </td><td style=\"text-align: right;\">     </td><td style=\"text-align: right;\">  </td></tr>\n",
       "<tr><td>1972</td><td>משרד התרבות והספורט</td><td>משרד ממשלתי  </td><td>hofesh-meida@most.gov.il</td><td>03-6883430</td><td style=\"text-align: right;\"> 2022</td><td style=\"text-align: right;\"> 2</td></tr>\n",
       "</tbody>\n",
       "</table>"
      ],
      "text/plain": [
       "<IPython.core.display.HTML object>"
      ]
     },
     "metadata": {},
     "output_type": "display_data"
    },
    {
     "data": {
      "text/html": [
       "<h3>foi-groups-matching</h3>"
      ],
      "text/plain": [
       "<IPython.core.display.HTML object>"
      ]
     },
     "metadata": {},
     "output_type": "display_data"
    },
    {
     "data": {
      "text/html": [
       "<table>\n",
       "<thead>\n",
       "<tr><th>#   </th><th>title\n",
       "(string)                                       </th><th>group_id\n",
       "(string)                                     </th><th>group_name\n",
       "(string)                </th><th>entity_id\n",
       "(string)                </th><th style=\"text-align: right;\">   matching ID\n",
       "(string)</th><th>Column2\n",
       "(string)                        </th><th>Column3\n",
       "(string)                                     </th></tr>\n",
       "</thead>\n",
       "<tbody>\n",
       "<tr><td>1   </td><td>השכלה גבוהה: מכון טכנולוגי חולון      </td><td>5b8620f9-b1fd-4424-8ca5-2a5a420b4e32</td><td>foi-office-628 </td><td>foi-office-628 </td><td style=\"text-align: right;\"> 3</td><td>HIT מכון טכנולוגי חולון</td><td>135ac92c-6245-4822-95a2-3807abdd8e55</td></tr>\n",
       "<tr><td>2   </td><td>התאחדות ספורט: איגוד הג'ודו בישראל    </td><td>3bef8a38-3d3a-4e4b-95dd-107d162ac803</td><td>foi-office-1607</td><td>foi-office-1607</td><td style=\"text-align: right;\">14</td><td>איגוד הג'ודו הישראלי   </td><td>05548a4f-15fd-4931-b3d1-95aaf4b6f955</td></tr>\n",
       "<tr><td>... </td><td>                                      </td><td>                                    </td><td>               </td><td>               </td><td style=\"text-align: right;\">  </td><td>                       </td><td>                                    </td></tr>\n",
       "<tr><td>1422</td><td>תאגיד סטטוטורי: רשות ניקוז שורק - לכיש</td><td>7ca8ad18-3f6f-4c54-a21e-4ae4b7a66820</td><td>foi-office-555 </td><td>foi-office-555 </td><td style=\"text-align: right;\">  </td><td>                       </td><td>                                    </td></tr>\n",
       "</tbody>\n",
       "</table>"
      ],
      "text/plain": [
       "<IPython.core.display.HTML object>"
      ]
     },
     "metadata": {},
     "output_type": "display_data"
    },
    {
     "data": {
      "text/plain": [
       "{}"
      ]
     },
     "execution_count": 4,
     "metadata": {},
     "output_type": "execute_result"
    }
   ],
   "source": [
    "from dataflows import Flow, load, printer\n",
    "\n",
    "Flow(load('/var/lib/ckan/data/pipelines/odata_org_il/new_foi_offices/datapackage.json'), \n",
    "     load('/var/lib/ckan/data/pipelines/odata_org_il/new_foi_offices_xml/datapackage.json'), \n",
    "     load('/var/lib/ckan/data/pipelines/odata_org_il/foi_groups_matching/datapackage.json'), \n",
    "     printer(tablefmt='html', num_rows=1,\n",
    "             fields=['email', 'fax', 'mmdOfficesTypes', 'nid', 'officenamecode', 'officetypecode', 'title',\n",
    "                     'Title', 'MMDOfficesTypes', 'Email', 'Fax', 'OfficeNameCode', 'OfficeTypeCode',\n",
    "                     'entity_id', 'group_id', 'group_name', 'matching ID', 'Column2', 'Column3']\n",
    "            )\n",
    "    ).process()[1]"
   ]
  },
  {
   "cell_type": "markdown",
   "metadata": {},
   "source": [
    "## Update foi offices resource in CKAN\n",
    "\n",
    "Only updates if there was a change in the foi_offices downloaded datapackage hashes"
   ]
  },
  {
   "cell_type": "code",
   "execution_count": 8,
   "metadata": {},
   "outputs": [
    {
     "name": "stdout",
     "output_type": "stream",
     "text": [
      "\u001b[1A\n",
      "\u001b[2K./update_foi_offices_resource: \u001b[31mWAITING FOR OUTPUT\u001b[0m\n",
      "\u001b[2A\n",
      "\u001b[2K./update_foi_offices_resource: \u001b[31mWAITING FOR OUTPUT\u001b[0m\n",
      "\u001b[2A\n",
      "\u001b[2K./update_foi_offices_resource: \u001b[32mSUCCESS, processed 0 rows\u001b[0m\n",
      "INFO    :RESULTS:\n",
      "INFO    :SUCCESS: ./update_foi_offices_resource {'bytes': 4022157, 'count_of_rows': 3364, 'dataset_name': '_', 'hash': '7dd0568b515708969f46f08a9c81e08d'}\n",
      "\u001b[1A\n",
      "\u001b[2K./update_foi_offices_xml_resource: \u001b[31mWAITING FOR OUTPUT\u001b[0m\n",
      "\u001b[2A\n",
      "\u001b[2K./update_foi_offices_xml_resource: \u001b[31mWAITING FOR OUTPUT\u001b[0m\n",
      "\u001b[2A\n",
      "\u001b[2K./update_foi_offices_xml_resource: \u001b[32mSUCCESS, processed 0 rows\u001b[0m\n",
      "INFO    :RESULTS:\n",
      "INFO    :SUCCESS: ./update_foi_offices_xml_resource {'bytes': 2891384, 'count_of_rows': 3944, 'dataset_name': '_', 'hash': '5f1e4b9b3c1893b9557ecb28229d143f'}\n"
     ]
    }
   ],
   "source": [
    "!{'dpp run ./update_foi_offices_resource'}\n",
    "!{'dpp run ./update_foi_offices_xml_resource'}"
   ]
  },
  {
   "cell_type": "markdown",
   "metadata": {},
   "source": [
    "## Load existing entities"
   ]
  },
  {
   "cell_type": "code",
   "execution_count": 12,
   "metadata": {},
   "outputs": [
    {
     "name": "stdout",
     "output_type": "stream",
     "text": [
      "saving checkpoint to: .checkpoints/existing_entities\n"
     ]
    },
    {
     "data": {
      "text/html": [
       "<h3>existing_entities</h3>"
      ],
      "text/plain": [
       "<IPython.core.display.HTML object>"
      ]
     },
     "metadata": {},
     "output_type": "display_data"
    },
    {
     "name": "stderr",
     "output_type": "stream",
     "text": [
      "INFO    :Loading existing entities / groups, 500 results per page\n",
      "INFO    :offset=0\n",
      "DEBUG   :Starting new HTTPS connection (1): www.odata.org.il:443\n",
      "DEBUG   :https://www.odata.org.il:443 \"POST /api/3/action/group_list HTTP/1.1\" 200 None\n",
      "INFO    :offset=500\n",
      "DEBUG   :Starting new HTTPS connection (1): www.odata.org.il:443\n",
      "DEBUG   :https://www.odata.org.il:443 \"POST /api/3/action/group_list HTTP/1.1\" 200 None\n",
      "INFO    :offset=1000\n",
      "DEBUG   :Starting new HTTPS connection (1): www.odata.org.il:443\n",
      "DEBUG   :https://www.odata.org.il:443 \"POST /api/3/action/group_list HTTP/1.1\" 200 None\n",
      "INFO    :offset=1500\n",
      "DEBUG   :Starting new HTTPS connection (1): www.odata.org.il:443\n",
      "DEBUG   :https://www.odata.org.il:443 \"POST /api/3/action/group_list HTTP/1.1\" 200 None\n"
     ]
    },
    {
     "data": {
      "text/html": [
       "<table>\n",
       "<thead>\n",
       "<tr><th>#   </th><th>title\n",
       "(string)                                                             </th><th>group_id\n",
       "(string)                                     </th><th>group_name\n",
       "(string)               </th><th>entity_id\n",
       "(string)               </th><th>group\n",
       "(object)                                                                                                                                                                                                                                                                                                                                                                                                                                                                                                                                                                                                                                                                                                                                                                                                                                                                                                                                                                                                                                                                                                                                                                                                                                                                                                                                                                                                                                                                                                                                                                                                                                                                                                                                                                                                                                                                                                                                                                                                                                                                                                                                                                                                                                                                                                                                                                                                                                                                                                                                                                                                                                                                                                                                                                                                                                                                                                                                                                                                                                                                                                                                                                                                                                                                                                                                                                                                                                                                                                                                                                                                                                                                                                                                                                                                                                                                                                                                                                                                                                                                                                                                                                                                                                                                                                                                                                                                                                                                                                                                                                                                                                                                                                                                                                                                                                                                                                                                                                                                                                                                                                                                                      </th></tr>\n",
       "</thead>\n",
       "<tbody>\n",
       "<tr><td>1   </td><td>(The European External Action Service (EEAS                 </td><td>48da99ad-5e27-48f7-b8b4-3ee460f4ebfb</td><td>eeas          </td><td>              </td><td>{'display_name': '(The European External Action Service (EEAS', 'description': '', 'image_display_url': '', 'type': 'group', 'created': '2018-11-07T21:33:23.796488', 'name': 'eeas', 'is_organization': False, 'state': 'active', 'extras': [], 'image_url': '', 'title': '(The European External Action Service (EEAS', 'revision_id': 'c780cf83-f639-4663-b47a-ba2e5bb731dc', 'num_followers': 0, 'id': '48da99ad-5e27-48f7-b8b4-3ee460f4ebfb', 'approval_status': 'approved'}                                                                                                                                                                                                                                                                                                                                                                                                                                                                                                                                                                                                                                                                                                                                                                                                                                                                                                                                                                                                                                                                                                                                                                                                                                                                                                                                                                                                                                                                                                                                                                                                                                                                                                                                                                                                                                                                                                                                                                                                                                                                                                                                                                                                                                                                                                                                                                                                                                                                                                                                                                                                                                                                                                                                                                                                                                                                                                                                                                                                                                                                                                                                                                                                                                                                                                                                                                                                                                                                                                                                                                                                                                                                                                                                                                                                                                                                                                                                                                                                                                                                                                                                                                                                                                                                                                                                                                                                                                                                                                                                                                                                                                                                    </td></tr>\n",
       "<tr><td>2   </td><td>Chile Ministry of Education Ministerio de Educación de Chile</td><td>471b69bb-a262-40cd-a9dd-3ac5f1649551</td><td>mineduc       </td><td>              </td><td>{'display_name': 'Chile Ministry of Education Ministerio de Educación de Chile', 'description': '', 'image_display_url': 'https://www.odata.org.il/uploads/group/2018-06-04-164928.041018Capture.PNG', 'type': 'group', 'created': '2018-06-04T16:49:28.081505', 'name': 'mineduc', 'is_organization': False, 'state': 'active', 'extras': [], 'image_url': '2018-06-04-164928.041018Capture.PNG', 'title': 'Chile Ministry of Education Ministerio de Educación de Chile', 'revision_id': 'dabd9d5f-d44d-46d4-b75e-4c2e3b2737df', 'num_followers': 0, 'id': '471b69bb-a262-40cd-a9dd-3ac5f1649551', 'approval_status': 'approved'}                                                                                                                                                                                                                                                                                                                                                                                                                                                                                                                                                                                                                                                                                                                                                                                                                                                                                                                                                                                                                                                                                                                                                                                                                                                                                                                                                                                                                                                                                                                                                                                                                                                                                                                                                                                                                                                                                                                                                                                                                                                                                                                                                                                                                                                                                                                                                                                                                                                                                                                                                                                                                                                                                                                                                                                                                                                                                                                                                                                                                                                                                                                                                                                                                                                                                                                                                                                                                                                                                                                                                                                                                                                                                                                                                                                                                                                                                                                                                                                                                                                                                                                                                                                                                                                                                                                                                                                                                                                                                                                  </td></tr>\n",
       "<tr><td>... </td><td>                                                            </td><td>                                    </td><td>              </td><td>              </td><td>                                                                                                                                                                                                                                                                                                                                                                                                                                                                                                                                                                                                                                                                                                                                                                                                                                                                                                                                                                                                                                                                                                                                                                                                                                                                                                                                                                                                                                                                                                                                                                                                                                                                                                                                                                                                                                                                                                                                                                                                                                                                                                                                                                                                                                                                                                                                                                                                                                                                                                                                                                                                                                                                                                                                                                                                                                                                                                                                                                                                                                                                                                                                                                                                                                                                                                                                                                                                                                                                                                                                                                                                                                                                                                                                                                                                                                                                                                                                                                                                                                                                                                                                                                                                                                                                                                                                                                                                                                                                                                                                                                                                                                                                                                                                                                                                                                                                                                                                                                                                                                                                                                                                                     </td></tr>\n",
       "<tr><td>1297</td><td>תאגיד סטטוטורי: מרכז מורשת מנחם בגין                        </td><td>a74cb348-87fd-4acd-8228-46be72e17b25</td><td>foi-office-545</td><td>foi-office-545</td><td>{'display_name': 'תאגיד סטטוטורי: מרכז מורשת מנחם בגין', 'description': '', 'image_display_url': '', 'type': 'group', 'created': '2018-10-11T10:34:12.378458', 'name': 'foi-office-545', 'is_organization': False, 'state': 'active', 'extras': [{'value': 'ymedad@begincenter.org.il', 'state': 'active', 'key': 'email', 'revision_id': '8d15ff27-b345-4ac9-b17e-fc35a0e2d2d8', 'group_id': 'a74cb348-87fd-4acd-8228-46be72e17b25', 'id': '73d665c5-1228-43ed-b064-e10bbc1ae871'}, {'value': 'foi-office-545', 'state': 'active', 'key': 'entity_id', 'revision_id': '8d15ff27-b345-4ac9-b17e-fc35a0e2d2d8', 'group_id': 'a74cb348-87fd-4acd-8228-46be72e17b25', 'id': '939ddac6-29de-4166-9760-0efbdde04746'}, {'value': '02-5652010', 'state': 'active', 'key': 'fax', 'revision_id': '8d15ff27-b345-4ac9-b17e-fc35a0e2d2d8', 'group_id': 'a74cb348-87fd-4acd-8228-46be72e17b25', 'id': '9535d651-6207-4c38-90ae-e6e3d5637c57'}, {'value': '{\"onlineurl\": \"~\", \"email\": \"ymedad@begincenter.org.il\", \"fax\": \"02-5652010\", \"letter\": \"\\\\u05e8\\\\u05d7\\' \\\\u05e9.\\\\u05d0. \\\\u05e0\\\\u05db\\\\u05d5\\\\u05df 6, \\\\u05d9\\\\u05e8\\\\u05d5\\\\u05e9\\\\u05dc\\\\u05d9\\\\u05dd 9411014\"}', 'state': 'active', 'key': 'form', 'revision_id': '8d15ff27-b345-4ac9-b17e-fc35a0e2d2d8', 'group_id': 'a74cb348-87fd-4acd-8228-46be72e17b25', 'id': '435a5072-0996-4e75-b284-1e113e878305'}, {'value': 'מרכז מורשת מנחם בגין עוסק בהנצחת מורשתו ופועלו של מנחם בגין ובחקר המאבק הציוני לעצמאות ישראל.', 'state': 'active', 'key': 'govxcontentsection', 'revision_id': '8d15ff27-b345-4ac9-b17e-fc35a0e2d2d8', 'group_id': 'a74cb348-87fd-4acd-8228-46be72e17b25', 'id': 'b5bbe888-1192-4de1-ba95-16752a2259b5'}, {'value': 'None', 'state': 'active', 'key': 'govxdescription', 'revision_id': '8d15ff27-b345-4ac9-b17e-fc35a0e2d2d8', 'group_id': 'a74cb348-87fd-4acd-8228-46be72e17b25', 'id': 'f339e9e0-f839-40b1-97e3-51c020742612'}, {'value': 'und', 'state': 'active', 'key': 'language', 'revision_id': '8d15ff27-b345-4ac9-b17e-fc35a0e2d2d8', 'group_id': 'a74cb348-87fd-4acd-8228-46be72e17b25', 'id': '062ccbc3-3a87-4fec-a2b9-ab5408a03453'}, {'value': 'ישראל מידד', 'state': 'active', 'key': 'managername', 'revision_id': '8d15ff27-b345-4ac9-b17e-fc35a0e2d2d8', 'group_id': 'a74cb348-87fd-4acd-8228-46be72e17b25', 'id': '3b9909c4-8cc2-4eb3-9ced-b93fb1e684cf'}, {'value': 'תאגיד סטטוטורי', 'state': 'active', 'key': 'mmdOfficesTypes', 'revision_id': '8d15ff27-b345-4ac9-b17e-fc35a0e2d2d8', 'group_id': 'a74cb348-87fd-4acd-8228-46be72e17b25', 'id': '66a8b7ba-7c90-4726-bf38-88e464cd298f'}, {'value': '49', 'state': 'active', 'key': 'mmdOfficesTypes_tid', 'revision_id': '8d15ff27-b345-4ac9-b17e-fc35a0e2d2d8', 'group_id': 'a74cb348-87fd-4acd-8228-46be72e17b25', 'id': '36693093-0c80-4ee9-a00d-edb75ad69c8e'}, {'value': '545', 'state': 'active', 'key': 'nid', 'revision_id': '8d15ff27-b345-4ac9-b17e-fc35a0e2d2d8', 'group_id': 'a74cb348-87fd-4acd-8228-46be72e17b25', 'id': '4c620ddf-6d3a-41b0-add1-a6fafc347510'}, {'value': '5034', 'state': 'active', 'key': 'officenamecode', 'revision_id': '8d15ff27-b345-4ac9-b17e-fc35a0e2d2d8', 'group_id': 'a74cb348-87fd-4acd-8228-46be72e17b25', 'id': '7f12556a-d2fa-4081-b94d-14e3c8bea206'}, {'value': '5', 'state': 'active', 'key': 'officetypecode', 'revision_id': '8d15ff27-b345-4ac9-b17e-fc35a0e2d2d8', 'group_id': 'a74cb348-87fd-4acd-8228-46be72e17b25', 'id': '865fa66e-90b5-4db2-97dd-8a923e8a0ee8'}, {'value': '{\"onlineurl\": \"\", \"banktransfer\": \"\\\\u05d1\\\\u05e0\\\\u05e7 \\\\u05d3\\\\u05d9\\\\u05e1\\\\u05e7\\\\u05d5\\\\u05e0\\\\u05d8, \\\\u05e1\\\\u05e0\\\\u05d9\\\\u05e3 62, \\\\u05d7\\\\u05e9\\\\u05d1\\\\u05d5\\\\u05df 513733\", \"postalbank\": \"\\\\u05d1\\\\u05e0\\\\u05e7 \\\\u05d3\\\\u05d9\\\\u05e1\\\\u05e7\\\\u05d5\\\\u05e0\\\\u05d8, \\\\u05e1\\\\u05e0\\\\u05d9\\\\u05e3 62, \\\\u05d7\\\\u05e9\\\\u05d1\\\\u05d5\\\\u05df 513733\", \"treasury\": \"\", \"check\": \"\", \"phone\": \"\", \"cash\": \"\"}', 'state': 'active', 'key': 'payments', 'revision_id': '8d15ff27-b345-4ac9-b17e-fc35a0e2d2d8', 'group_id': 'a74cb348-87fd-4acd-8228-46be72e17b25', 'id': '4b6c6586-1a00-4c9f-9c68-849e0c3467fe'}, {'value': \"רח' ש.א. נכון 6, ירושלים 9411014\", 'state': 'active', 'key': 'receptionaddressnotes', 'revision_id': '8d15ff27-b345-4ac9-b17e-fc35a0e2d2d8', 'group_id': 'a74cb348-87fd-4acd-8228-46be72e17b25', 'id': '9ea53992-fe00-43e6-bc98-02f88f158260'}, {'value': '02-5652007', 'state': 'active', 'key': 'receptionphonenumbers', 'revision_id': '8d15ff27-b345-4ac9-b17e-fc35a0e2d2d8', 'group_id': 'a74cb348-87fd-4acd-8228-46be72e17b25', 'id': '2f92946f-9caa-4a6b-ba4d-7d514add4826'}, {'value': '{\"url\": \"http://www.begincenter.org.il\", \"title\": \"http://www.begincenter.org.il\"}', 'state': 'active', 'key': 'websiteurl', 'revision_id': '8d15ff27-b345-4ac9-b17e-fc35a0e2d2d8', 'group_id': 'a74cb348-87fd-4acd-8228-46be72e17b25', 'id': '0a6bbc7f-8614-4066-b3e1-03275458f7f0'}], 'image_url': '', 'title': 'תאגיד סטטוטורי: מרכז מורשת מנחם בגין', 'revision_id': '8d15ff27-b345-4ac9-b17e-fc35a0e2d2d8', 'num_followers': 0, 'id': 'a74cb348-87fd-4acd-8228-46be72e17b25', 'approval_status': 'approved'}</td></tr>\n",
       "</tbody>\n",
       "</table>"
      ],
      "text/plain": [
       "<IPython.core.display.HTML object>"
      ]
     },
     "metadata": {},
     "output_type": "display_data"
    },
    {
     "name": "stdout",
     "output_type": "stream",
     "text": [
      "checkpoint saved: existing_entities\n",
      "defaultdict(<class 'int'>, {'existing_groups_without_entity': 120, 'existing_groups_with_entity': 1177})\n"
     ]
    }
   ],
   "source": [
    "from dataflows import Flow, load, checkpoint\n",
    "from load_existing_entities import get_existing_entities_resource, get_existing_entities_resource_descriptor\n",
    "from collections import defaultdict\n",
    "\n",
    "datapackage={'resources': [get_existing_entities_resource_descriptor()]}\n",
    "stats = defaultdict(int)\n",
    "resources = (get_existing_entities_resource(stats),)\n",
    "\n",
    "Flow(\n",
    "    load((datapackage, resources)),\n",
    "    printer(tablefmt='html', num_rows=1),\n",
    "    checkpoint('existing_entities')\n",
    ").process()\n",
    "print(stats)\n"
   ]
  },
  {
   "cell_type": "markdown",
   "metadata": {},
   "source": [
    "## Prepare the source data for updating groups"
   ]
  },
  {
   "cell_type": "code",
   "execution_count": 1,
   "metadata": {},
   "outputs": [
    {
     "name": "stdout",
     "output_type": "stream",
     "text": [
      "\n",
      "get_existing_entities\n",
      "\n",
      "using checkpoint data from .checkpoints/existing_entities\n",
      "{'munged_titles': 120, 'entity_ids': 1177, 'groups': 2594}\n",
      "defaultdict(<class 'int'>, {'existing_groups_with_munged_title': 120, 'existing_groups_with_entity_id': 1177})\n",
      "\n",
      "get_foi_groups_matching\n",
      "\n",
      "{'munged_titles': 120, 'entity_ids': 1177, 'groups': 2594}\n",
      "defaultdict(<class 'int'>, {'existing_groups_with_munged_title': 120, 'existing_groups_with_entity_id': 1177, 'foi_groups_matching_same_entity_group_entity': 52, 'foi_groups_matching_no_group_entity': 1370})\n",
      "\n",
      "get_foi_offices_xml\n",
      "\n",
      "{'munged_titles': 120, 'entity_ids': 1177, 'groups': 2594, 'xml_entities': 1972}\n",
      "defaultdict(<class 'int'>, {'existing_groups_with_munged_title': 120, 'existing_groups_with_entity_id': 1177, 'foi_groups_matching_same_entity_group_entity': 52, 'foi_groups_matching_no_group_entity': 1370, 'foi_office_xml_entities': 3944})\n",
      "\n",
      "get_foi_offices_json\n",
      "\n",
      "{'munged_titles': 120, 'entity_ids': 1177, 'groups': 2594, 'xml_entities': 1972, 'json_entities': 1682}\n",
      "defaultdict(<class 'int'>, {'existing_groups_with_munged_title': 120, 'existing_groups_with_entity_id': 1177, 'foi_groups_matching_same_entity_group_entity': 52, 'foi_groups_matching_no_group_entity': 1370, 'foi_office_xml_entities': 3944, 'foi_office_json_entities': 3364})\n"
     ]
    }
   ],
   "source": [
    "from dataflows import Flow, load, checkpoint, printer\n",
    "from update_foi_offices_entities import get_existing_entities, get_foi_groups_matching, get_foi_offices_xml, get_foi_offices_json\n",
    "from collections import defaultdict\n",
    "\n",
    "existing_entities = {}\n",
    "stats = defaultdict(int)\n",
    "\n",
    "print('\\nget_existing_entities\\n')\n",
    "\n",
    "def _get_existing_entities(rows):\n",
    "    return get_existing_entities(rows, existing_entities, stats)\n",
    "\n",
    "Flow(\n",
    "    checkpoint('existing_entities'),\n",
    "    _get_existing_entities\n",
    ").process()[1]\n",
    "\n",
    "print({k: len(v) for k, v in existing_entities.items()})\n",
    "print(stats)\n",
    "\n",
    "print('\\nget_foi_groups_matching\\n')\n",
    "\n",
    "def _get_foi_groups_matching(rows):\n",
    "    return get_foi_groups_matching(rows, existing_entities, stats)\n",
    "\n",
    "Flow(\n",
    "    load('/var/lib/ckan/data/pipelines/odata_org_il/foi_groups_matching/datapackage.json'),\n",
    "    _get_foi_groups_matching\n",
    ").process()[1]\n",
    "\n",
    "print({k: len(v) for k, v in existing_entities.items()})\n",
    "print(stats)\n",
    "\n",
    "print('\\nget_foi_offices_xml\\n')\n",
    "\n",
    "def _get_foi_offices_xml(rows):\n",
    "    return get_foi_offices_xml(rows, existing_entities, stats)\n",
    "\n",
    "Flow(\n",
    "    load('/var/lib/ckan/data/pipelines/odata_org_il/foi_offices_xml/datapackage.json', resource='foi_offices'),\n",
    "    _get_foi_offices_xml\n",
    ").process()[1]\n",
    "\n",
    "print({k: len(v) for k, v in existing_entities.items()})\n",
    "print(stats)\n",
    "\n",
    "print('\\nget_foi_offices_json\\n')\n",
    "\n",
    "def _get_foi_offices_json(rows):\n",
    "    return get_foi_offices_json(rows, existing_entities, stats)\n",
    "\n",
    "Flow(\n",
    "    load('/var/lib/ckan/data/pipelines/odata_org_il/foi_offices/datapackage.json', resource='foi_offices'),\n",
    "    _get_foi_offices_json\n",
    ").process()[1]\n",
    "\n",
    "print({k: len(v) for k, v in existing_entities.items()})\n",
    "print(stats)\n",
    "\n"
   ]
  },
  {
   "cell_type": "markdown",
   "metadata": {},
   "source": [
    "## Get the updates"
   ]
  },
  {
   "cell_type": "code",
   "execution_count": 2,
   "metadata": {},
   "outputs": [
    {
     "name": "stdout",
     "output_type": "stream",
     "text": [
      "processing 1972 xml entities\n",
      "processing 1682 json entities\n",
      "defaultdict(<class 'int'>, {'existing_groups_with_munged_title': 120, 'existing_groups_with_entity_id': 1177, 'foi_groups_matching_same_entity_group_entity': 52, 'foi_groups_matching_no_group_entity': 1370, 'foi_office_xml_entities': 3944, 'foi_office_json_entities': 3364, 'update_groups_by_entity_id': 1176, 'create_groups': 863})\n"
     ]
    }
   ],
   "source": [
    "from update_foi_offices_entities import string_munge, merge_json_xml_rows\n",
    "\n",
    "xml_entities = existing_entities['xml_entities']\n",
    "json_entities = existing_entities['json_entities']\n",
    "munged_title_rows = {}\n",
    "update_entity_rows = {}\n",
    "for __type, entities in (('xml', xml_entities), ('json', json_entities)):\n",
    "    print('processing {} {} entities'.format(len(entities), __type))\n",
    "    for entity_id, row in entities.items():\n",
    "        row['entity_id'] = entity_id\n",
    "        row_title = row['title'].strip()\n",
    "        assert row_title, 'missing title: {}'.format(row)\n",
    "        mmd_offices_types = row['mmdofficestypes'].strip()\n",
    "        assert mmd_offices_types, 'missing mmd_offices_types: {}'.format(row)\n",
    "        row['munged_title'] = string_munge('{} {}'.format(mmd_offices_types, row_title))\n",
    "        if row['munged_title'] in munged_title_rows:\n",
    "            other_row = munged_title_rows[row['munged_title']]\n",
    "            assert __type == 'json' and other_row['__type'] == 'xml', '{} {}'.format(row, other_row)\n",
    "            assert not row.get('merged_with_json') and not row.get('merged_with_xml')\n",
    "            assert not other_row.get('merged_with_json') and not other_row.get('merged_with_xml')\n",
    "            other_row.update(**merge_json_xml_rows(row, other_row))\n",
    "            other_row['merged_with_json'] = True\n",
    "            row['merged_with_xml'] = True\n",
    "        else:\n",
    "            other_row = None\n",
    "            row['merged_with_json'] = False\n",
    "            munged_title_rows[row['munged_title']] = row\n",
    "        group_id = existing_entities['entity_ids'].get(entity_id) or ''\n",
    "        if group_id:\n",
    "            match_type = 'entity_id'\n",
    "        else:\n",
    "            group_id = existing_entities['munged_titles'].get(row['munged_title']) or ''\n",
    "            if group_id:\n",
    "                match_type = 'munged_title'\n",
    "            else:\n",
    "                group_id = ''\n",
    "                match_type = ''\n",
    "        if other_row:\n",
    "            assert other_row.get('group_id') == '' and other_row.get('match_type') == ''\n",
    "            other_row.update(group_id=group_id, match_type=match_type)\n",
    "        else:\n",
    "            row.update(group_id=group_id, match_type=match_type)\n",
    "            update_entity_rows[entity_id] = row\n",
    "\n",
    "for entity_id, row in update_entity_rows.items():\n",
    "    if not row['match_type'] and not row['group_id']:\n",
    "        stats['create_groups'] += 1\n",
    "    elif row['match_type'] == 'munged_title':\n",
    "        stats['update_groups_by_munged_title'] += 1\n",
    "    elif row['match_type'] == 'entity_id':\n",
    "        stats['update_groups_by_entity_id'] += 1\n",
    "    else:\n",
    "        raise Exception()\n",
    "print(stats)\n"
   ]
  },
  {
   "cell_type": "code",
   "execution_count": 7,
   "metadata": {},
   "outputs": [
    {
     "name": "stdout",
     "output_type": "stream",
     "text": [
      "saving checkpoint to: .checkpoints/update_entity_rows\n"
     ]
    },
    {
     "data": {
      "text/html": [
       "<h3>res_1</h3>"
      ],
      "text/plain": [
       "<IPython.core.display.HTML object>"
      ]
     },
     "metadata": {},
     "output_type": "display_data"
    },
    {
     "data": {
      "text/html": [
       "<table>\n",
       "<thead>\n",
       "<tr><th>#   </th><th>title\n",
       "(string)                    </th><th>published\n",
       "(string)    </th><th>mmdofficestypes\n",
       "(string)              </th><th>govxdescription\n",
       "(string)  </th><th>managername\n",
       "(string)            </th><th>email\n",
       "(string)                      </th><th>fax\n",
       "(string)           </th><th>receptionaddressnotes\n",
       "(string)                            </th><th>receptionphonenumbers\n",
       "(string)           </th><th>websiteurl\n",
       "(string)                         </th><th>paymentbanktransfer\n",
       "(string)                                       </th><th>govxcontentsection\n",
       "(string)                                                                                                                                                                                                                                                                                                     </th><th>formemail\n",
       "(string)                      </th><th>formfax\n",
       "(string)           </th><th>formletter\n",
       "(string)                            </th><th>formonlineurl\n",
       "(string)  </th><th>forwizard\n",
       "(string)    </th><th>mmdsubjects\n",
       "(string)  </th><th>mmdtypes\n",
       "(string)  </th><th>officeicon\n",
       "(string)  </th><th style=\"text-align: right;\">      officenamecode\n",
       "(string)</th><th style=\"text-align: right;\">   officetypecode\n",
       "(string)</th><th>paymentcash\n",
       "(string)  </th><th>paymentcheck\n",
       "(string)  </th><th>paymentonlineurl\n",
       "(string)  </th><th>paymentphone\n",
       "(string)  </th><th>paymentpostalbank\n",
       "(string)                                       </th><th>paymenttreasury\n",
       "(string)  </th><th>__type\n",
       "(string)     </th><th>entity_id\n",
       "(string)                                              </th><th>munged_title\n",
       "(string)                                  </th><th>merged_with_json\n",
       "(integer)      </th><th>group_id\n",
       "(string)                                     </th><th>match_type\n",
       "(string)          </th><th>form\n",
       "(string)                                                                                                                                                                                                                                                                                                            </th><th>language\n",
       "(string)   </th><th style=\"text-align: right;\">    mmdofficestypes_tid\n",
       "(string)</th><th style=\"text-align: right;\">     nid\n",
       "(string)</th><th>payments\n",
       "(string)                                                                                                                                                                                                                                                                                                                                                                                                                </th></tr>\n",
       "</thead>\n",
       "<tbody>\n",
       "<tr><td>1   </td><td>מפעלי מישור רותם   </td><td>Yes</td><td>ועדים מקומיים</td><td> </td><td>יעקב אקריש </td><td>Akrish@ma-tamar.co.il</td><td>08-6688944</td><td>נווה זוהר ד.נ ים המלח 86910</td><td>08-6688844</td><td>                        </td><td>10/607/83970027 על שם מועצה אזורית תמר</td><td><p dir=\"RTL\">הרשות המקומית תפקידה הוא לדאוג לענייני הציבור שבתחומה על פי הסמכויות המוקנות לה כחוק.</p>                                                                                                                                                                                              </td><td>Akrish@ma-tamar.co.il</td><td>08-6688944</td><td>נווה זוהר ד.נ ים המלח 86910</td><td>~</td><td>Yes</td><td> </td><td> </td><td> </td><td style=\"text-align: right;\">14063</td><td style=\"text-align: right;\">13</td><td> </td><td> </td><td> </td><td> </td><td>10/607/83970027 על שם מועצה אזורית תמר</td><td> </td><td>xml </td><td>foi-13-14063-aae84dc758d661de9a25c7bfe61f0513</td><td>ועדים מקומיים מפעלי מישור רותם   </td><td>True </td><td>730e7bd5-2965-4cad-b18a-3d3e3fd96f52</td><td>entity_id</td><td>{\"onlineurl\": \"~\", \"email\": \"Akrish@ma-tamar.co.il\", \"fax\": \"08-6688944\", \"letter\": \"\\u05e0\\u05d5\\u05d5\\u05d4 \\u05d6\\u05d5\\u05d4\\u05e8 \\u05d3.\\u05e0 \\u05d9\\u05dd \\u05d4\\u05de\\u05dc\\u05d7 86910\"}                                                                                                         </td><td>he</td><td style=\"text-align: right;\">371</td><td style=\"text-align: right;\">6031</td><td>{\"onlineurl\": \"\", \"banktransfer\": \"10/607/83970027 \\u05e2\\u05dc \\u05e9\\u05dd \\u05de\\u05d5\\u05e2\\u05e6\\u05d4 \\u05d0\\u05d6\\u05d5\\u05e8\\u05d9\\u05ea \\u05ea\\u05de\\u05e8\", \"postalbank\": \"10/607/83970027 \\u05e2\\u05dc \\u05e9\\u05dd \\u05de\\u05d5\\u05e2\\u05e6\\u05d4 \\u05d0\\u05d6\\u05d5\\u05e8\\u05d9\\u05ea \\u05ea\\u05de\\u05e8\", \"treasury\": \"\", \"check\": \"\", \"phone\": \"\", \"cash\": \"\"}                                  </td></tr>\n",
       "<tr><td>2   </td><td>מפעלי ים המלח(סדום)</td><td>Yes</td><td>ועדים מקומיים</td><td> </td><td>יעקב אקריש </td><td>Akrish@ma-tamar.co.il</td><td>08-6688944</td><td>נווה זוהר ד.נ ים המלח 86910</td><td>08-6688844</td><td>                        </td><td>10/607/83970027 על שם מועצה אזורית תמר</td><td><p dir=\"RTL\">הרשות המקומית תפקידה הוא לדאוג לענייני הציבור שבתחומה על פי הסמכויות המוקנות לה כחוק.</p>                                                                                                                                                                                              </td><td>Akrish@ma-tamar.co.il</td><td>08-6688944</td><td>נווה זוהר ד.נ ים המלח 86910</td><td>~</td><td>Yes</td><td> </td><td> </td><td> </td><td style=\"text-align: right;\">14062</td><td style=\"text-align: right;\">13</td><td> </td><td> </td><td> </td><td> </td><td>10/607/83970027 על שם מועצה אזורית תמר</td><td> </td><td>xml </td><td>foi-13-14062-5d034e490e30705011fe5b3a15a3ff5d</td><td>ועדים מקומיים מפעלי ים המלח(סדום)</td><td>True </td><td>e589b22d-ef51-4a5a-8194-2e4b36f1e70e</td><td>entity_id</td><td>{\"onlineurl\": \"~\", \"email\": \"Akrish@ma-tamar.co.il\", \"fax\": \"08-6688944\", \"letter\": \"\\u05e0\\u05d5\\u05d5\\u05d4 \\u05d6\\u05d5\\u05d4\\u05e8 \\u05d3.\\u05e0 \\u05d9\\u05dd \\u05d4\\u05de\\u05dc\\u05d7 86910\"}                                                                                                         </td><td>he</td><td style=\"text-align: right;\">371</td><td style=\"text-align: right;\">6030</td><td>{\"onlineurl\": \"\", \"banktransfer\": \"10/607/83970027 \\u05e2\\u05dc \\u05e9\\u05dd \\u05de\\u05d5\\u05e2\\u05e6\\u05d4 \\u05d0\\u05d6\\u05d5\\u05e8\\u05d9\\u05ea \\u05ea\\u05de\\u05e8\", \"postalbank\": \"10/607/83970027 \\u05e2\\u05dc \\u05e9\\u05dd \\u05de\\u05d5\\u05e2\\u05e6\\u05d4 \\u05d0\\u05d6\\u05d5\\u05e8\\u05d9\\u05ea \\u05ea\\u05de\\u05e8\", \"treasury\": \"\", \"check\": \"\", \"phone\": \"\", \"cash\": \"\"}                                  </td></tr>\n",
       "<tr><td>... </td><td>                   </td><td>   </td><td>             </td><td> </td><td>           </td><td>                     </td><td>          </td><td>                           </td><td>          </td><td>                        </td><td>                                      </td><td>                                                                                                                                                                                                                                                                                                    </td><td>                     </td><td>          </td><td>                           </td><td> </td><td>   </td><td> </td><td> </td><td> </td><td style=\"text-align: right;\">     </td><td style=\"text-align: right;\">  </td><td> </td><td> </td><td> </td><td> </td><td>                                      </td><td> </td><td>    </td><td>                                             </td><td>                                 </td><td>     </td><td>                                    </td><td>         </td><td>                                                                                                                                                                                                                                                                                                           </td><td>  </td><td style=\"text-align: right;\">   </td><td style=\"text-align: right;\">    </td><td>                                                                                                                                                                                                                                                                                                                                                                                                               </td></tr>\n",
       "<tr><td>2039</td><td>תרבין א-צאנע       </td><td>   </td><td>ועדים מקומיים</td><td> </td><td>יאסר אלעמור</td><td>Yaser@alqasoum.org.il</td><td>08-8683490</td><td>כתובת המועצה\n",
       "רחוב שז\"ר 31\n",
       "בית שקמה \n",
       "באר שבע                            </td><td>08-6797308</td><td>{\"url\": \"\", \"title\": \"\"}</td><td>                                      </td><td><p style=\"margin: 0px; padding: 0px; color: rgb(255, 255, 255); font-family: Verdana, Arial, sans-serif; font-size: 17.6px; text-align: right;\"><span style=\"color: rgb(0, 0, 0);\">הרשות המקומית תפקידה הוא לדאוג לענייני הציבור שבתחומה על פי הסמכויות המוקנות לה כחוק.</span></p><div>&nbsp;</div></td><td>                     </td><td>          </td><td>                           </td><td> </td><td>   </td><td> </td><td> </td><td> </td><td style=\"text-align: right;\">14012</td><td style=\"text-align: right;\">14</td><td> </td><td> </td><td> </td><td> </td><td>                                      </td><td> </td><td>json</td><td>foi-office-5980                              </td><td>ועדים מקומיים תרבין א צאנע       </td><td>False</td><td>                                    </td><td>         </td><td>{\"onlineurl\": \"~\", \"email\": \"Yaser@alqasoum.org.il\", \"fax\": \"08-8683490\", \"letter\": \"\\u05db\\u05ea\\u05d5\\u05d1\\u05ea \\u05d4\\u05de\\u05d5\\u05e2\\u05e6\\u05d4\\r\\n\\u05e8\\u05d7\\u05d5\\u05d1 \\u05e9\\u05d6\\\"\\u05e8 31\\r\\n\\u05d1\\u05d9\\u05ea \\u05e9\\u05e7\\u05de\\u05d4 \\r\\n\\u05d1\\u05d0\\u05e8 \\u05e9\\u05d1\\u05e2\\r\\n\"}</td><td>he</td><td style=\"text-align: right;\">371</td><td style=\"text-align: right;\">5980</td><td>{\"onlineurl\": \"\", \"banktransfer\": \"\\u05d7\\u05e9\\u05d1\\u05d5\\u05df \\u05de\\u05e1\\u05e4\\u05e8 608700/56, \\u05d0\\u05dc \\u05e7\\u05d0\\u05e1\\u05d5\\u05dd \\u05e9\\u05e2\\\"\\u05de 500262696\\r\\n\", \"postalbank\": \"\\u05d7\\u05e9\\u05d1\\u05d5\\u05df \\u05de\\u05e1\\u05e4\\u05e8 608700/56, \\u05d0\\u05dc \\u05e7\\u05d0\\u05e1\\u05d5\\u05dd \\u05e9\\u05e2\\\"\\u05de 500262696\\r\\n\", \"treasury\": \"\", \"check\": \"\", \"phone\": \"\", \"cash\": \"\"}</td></tr>\n",
       "</tbody>\n",
       "</table>"
      ],
      "text/plain": [
       "<IPython.core.display.HTML object>"
      ]
     },
     "metadata": {},
     "output_type": "display_data"
    },
    {
     "name": "stdout",
     "output_type": "stream",
     "text": [
      "checkpoint saved: update_entity_rows\n"
     ]
    },
    {
     "data": {
      "text/plain": [
       "{'count_of_rows': 2039,\n",
       " 'bytes': 2867567,\n",
       " 'hash': '04f5fea37c3a0b0213188ebbde97bccf',\n",
       " 'dataset_name': None}"
      ]
     },
     "execution_count": 7,
     "metadata": {},
     "output_type": "execute_result"
    }
   ],
   "source": [
    "Flow(\n",
    "    list(update_entity_rows.values()), \n",
    "    printer(tablefmt='html', num_rows=1),\n",
    "    checkpoint('update_entity_rows')\n",
    ").process()[1]"
   ]
  },
  {
   "cell_type": "markdown",
   "metadata": {},
   "source": [
    "## Run an update for specific entity_ids"
   ]
  },
  {
   "cell_type": "code",
   "execution_count": 13,
   "metadata": {},
   "outputs": [
    {
     "name": "stderr",
     "output_type": "stream",
     "text": [
      "INFO    :creating group with entity id foi-13-14006-a5ed8343f8d0484f8a35ad592307f589\n",
      "DEBUG   :Starting new HTTPS connection (1): www.odata.org.il:443\n",
      "DEBUG   :https://www.odata.org.il:443 \"POST /api/3/action/group_create HTTP/1.1\" 409 305\n"
     ]
    },
    {
     "ename": "AssertionError",
     "evalue": "{'help': 'https://www.odata.org.il/api/3/action/help_show?name=group_create', 'success': False, 'error': {'name': ['שם רשות קיים כבר בבסיס הנתונים'], '__type': 'Validation Error'}}",
     "output_type": "error",
     "traceback": [
      "\u001b[0;31m---------------------------------------------------------------------------\u001b[0m",
      "\u001b[0;31mAssertionError\u001b[0m                            Traceback (most recent call last)",
      "\u001b[0;32m<ipython-input-13-35fe73e1e2ad>\u001b[0m in \u001b[0;36m<module>\u001b[0;34m\u001b[0m\n\u001b[1;32m     86\u001b[0m                                             json=dict(name=entity_id, title=title,\n\u001b[1;32m     87\u001b[0m                                                       state='active', extras=extras)).json()\n\u001b[0;32m---> 88\u001b[0;31m             \u001b[0;32massert\u001b[0m \u001b[0mgroup_update_res\u001b[0m \u001b[0;32mand\u001b[0m \u001b[0mgroup_update_res\u001b[0m\u001b[0;34m.\u001b[0m\u001b[0mget\u001b[0m\u001b[0;34m(\u001b[0m\u001b[0;34m'success'\u001b[0m\u001b[0;34m)\u001b[0m\u001b[0;34m,\u001b[0m \u001b[0mstr\u001b[0m\u001b[0;34m(\u001b[0m\u001b[0mgroup_update_res\u001b[0m\u001b[0;34m)\u001b[0m\u001b[0;34m\u001b[0m\u001b[0;34m\u001b[0m\u001b[0m\n\u001b[0m\u001b[1;32m     89\u001b[0m             \u001b[0mprint\u001b[0m\u001b[0;34m(\u001b[0m\u001b[0mgroup_update_res\u001b[0m\u001b[0;34m)\u001b[0m\u001b[0;34m\u001b[0m\u001b[0;34m\u001b[0m\u001b[0m\n\u001b[1;32m     90\u001b[0m \u001b[0;34m\u001b[0m\u001b[0m\n",
      "\u001b[0;31mAssertionError\u001b[0m: {'help': 'https://www.odata.org.il/api/3/action/help_show?name=group_create', 'success': False, 'error': {'name': ['שם רשות קיים כבר בבסיס הנתונים'], '__type': 'Validation Error'}}"
     ]
    }
   ],
   "source": [
    "import requests\n",
    "from update_foi_offices_entities import CKAN_AUTH_HEADERS, CKAN_URL\n",
    "import logging\n",
    "\n",
    "\n",
    "RUN_FOR_ENTITY_ID = 'foi-13-14006-a5ed8343f8d0484f8a35ad592307f589'\n",
    "DRY_RUN = False\n",
    "\n",
    "\n",
    "def update_entity_group():\n",
    "    if entity_group_id:\n",
    "        old_extras = {e['key'].lower(): e['value'].strip() for e in existing_entities['groups'][entity_group_id]['extras']}\n",
    "        logging.info(old_extras)\n",
    "        new_extras = {e['key'].lower(): e['value'].strip() for e in extras}\n",
    "        logging.info(new_extras)\n",
    "        has_differences = len([True for k, v in new_extras.items() if old_extras.get(k) != v]) > 0\n",
    "        if has_differences:\n",
    "            logging.info('patching group id {}'.format(entity_group_id))\n",
    "            update_type = 'patch'\n",
    "            stats['patched_entities'] += 1\n",
    "            extras = [{'key': k, 'value': v} for k, v in dict(old_extras, **new_extras).items()]\n",
    "            if not dry_run:\n",
    "                res = session.post('{}/api/3/action/group_package_show'.format(CKAN_URL),\n",
    "                                   data={'id': entity_group_id, 'include_extras': True, 'limit': 500}, ).json()\n",
    "                assert res and res['success'], str(res)\n",
    "                group_dataset_ids = [package['id'] for package in res['result']]\n",
    "                assert len(group_dataset_ids) < 499, 'too many datasets for group id {}'.format(entity_group_id)\n",
    "                logging.info('patching group, will restore {} datasets'.format(len(group_dataset_ids)))\n",
    "                group_update_res = session.post('{}/api/3/action/group_patch'.format(CKAN_URL),\n",
    "                                                json=dict(id=entity_group_id, extras=extras)).json()\n",
    "                assert group_update_res and group_update_res.get('success'), str(group_update_res)\n",
    "                for dataset_id in group_dataset_ids:\n",
    "                    logging.info('restoring dataset {} to group {}'.format(dataset_id, entity_group_id))\n",
    "                    res = session.post('{}/api/3/action/member_create'.format(CKAN_URL),\n",
    "                                       json=dict(id=entity_group_id, object=dataset_id, object_type='package',\n",
    "                                                 capacity='')).json()\n",
    "                    assert res and res['success'], str(res)\n",
    "\n",
    "session = requests.session()\n",
    "session.headers.update(CKAN_AUTH_HEADERS)\n",
    "\n",
    "for entity_id, row in update_entity_rows.items():\n",
    "    if entity_id != RUN_FOR_ENTITY_ID:\n",
    "        continue\n",
    "    if row['group_id']:\n",
    "        old_extras = {k.lower(): v.strip() for k,v in existing_entities['groups'][row['group_id']]['extras'].items()}\n",
    "        logging.info(old_extras)\n",
    "        extras = [{'key': k, 'value': str(v)} for k, v in row.items() if k not in ['title', 'Title']]\n",
    "        new_extras = {e['key'].lower(): e['value'].strip() for e in extras}\n",
    "        logging.info(new_extras)\n",
    "        has_differences = len([True for k, v in new_extras.items() if old_extras.get(k) != v]) > 0\n",
    "        if has_differences:\n",
    "            logging.info('patching group id {}'.format(row['group_id']))\n",
    "            stats['patched_entities'] += 1\n",
    "            extras = [{'key': k, 'value': v} for k, v in dict(old_extras, **new_extras).items()\n",
    "                      if v and v.strip() != '' and k not in ['Title', 'title']]\n",
    "            if not DRY_RUN:\n",
    "                res = session.post('{}/api/3/action/group_package_show'.format(CKAN_URL),\n",
    "                                   data={'id': row['group_id'], 'include_extras': True, 'limit': 500}, ).json()\n",
    "                assert res and res['success'], str(res)\n",
    "                group_dataset_ids = [package['id'] for package in res['result']]\n",
    "                assert len(group_dataset_ids) < 499, 'too many datasets for group id {}'.format(row['group_id'])\n",
    "                logging.info('patching group, will restore {} datasets'.format(len(group_dataset_ids)))\n",
    "                group_update_res = session.post('{}/api/3/action/group_patch'.format(CKAN_URL),\n",
    "                                                json=dict(id=row['group_id'], extras=extras)).json()\n",
    "                assert group_update_res and group_update_res.get('success'), str(group_update_res)\n",
    "                for dataset_id in group_dataset_ids:\n",
    "                    logging.info('restoring dataset {} to group {}'.format(dataset_id, row['group_id']))\n",
    "                    res = session.post('{}/api/3/action/member_create'.format(CKAN_URL),\n",
    "                                       json=dict(id=row['group_id'], object=dataset_id, object_type='package',\n",
    "                                                 capacity='')).json()\n",
    "                    assert res and res['success'], str(res)\n",
    "        else:\n",
    "            logging.info('skipping patching group - no difference')\n",
    "    else:\n",
    "        logging.info('creating group with entity id {}'.format(entity_id))\n",
    "        stats['created_entities'] += 1\n",
    "        row_title = row['title'].strip()\n",
    "        assert row_title, 'missing title: {}'.format(row)\n",
    "        mmd_offices_types = row['mmdofficestypes'].strip()\n",
    "        assert mmd_offices_types, 'missing mmd_offices_types: {}'.format(row)\n",
    "        title = '{}: {}'.format(mmd_offices_types, row_title)\n",
    "        extras = [{'key': k, 'value': v} for k, v in row.items() if v and v.strip() != '' and k not in ['Title', 'title']]\n",
    "        if not DRY_RUN:\n",
    "            group_update_res = session.post('{}/api/3/action/group_create'.format(CKAN_URL),\n",
    "                                            json=dict(name=entity_id, title=title,\n",
    "                                                      state='active', extras=extras)).json()\n",
    "            assert group_update_res and group_update_res.get('success'), str(group_update_res)\n",
    "\n",
    "print(stats)"
   ]
  },
  {
   "cell_type": "code",
   "execution_count": null,
   "metadata": {},
   "outputs": [],
   "source": []
  }
 ],
 "metadata": {
  "kernelspec": {
   "display_name": "Python 3",
   "language": "python",
   "name": "python3"
  },
  "language_info": {
   "codemirror_mode": {
    "name": "ipython",
    "version": 3
   },
   "file_extension": ".py",
   "mimetype": "text/x-python",
   "name": "python",
   "nbconvert_exporter": "python",
   "pygments_lexer": "ipython3",
   "version": "3.7.1"
  }
 },
 "nbformat": 4,
 "nbformat_minor": 2
}
