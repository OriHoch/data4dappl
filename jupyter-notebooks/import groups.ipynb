{
 "cells": [
  {
   "cell_type": "code",
   "execution_count": null,
   "metadata": {},
   "outputs": [],
   "source": [
    "!{'python3 -m pip install dataflows==0.0.58 python-slugify'}\n",
    "!{'python3 -m pip install -e git+https://github.com/OriHoch/dataflows-xlsx.git@master#egg=dataflows-xlsx'}"
   ]
  },
  {
   "cell_type": "markdown",
   "metadata": {},
   "source": [
    "## Load the new groups from csv files"
   ]
  },
  {
   "cell_type": "code",
   "execution_count": 1,
   "metadata": {},
   "outputs": [
    {
     "data": {
      "text/html": [
       "<h3>new-groups</h3>"
      ],
      "text/plain": [
       "<IPython.core.display.HTML object>"
      ]
     },
     "metadata": {},
     "output_type": "display_data"
    },
    {
     "data": {
      "text/html": [
       "<table>\n",
       "<thead>\n",
       "<tr><th>#   </th><th>tags\n",
       "(string)                       </th><th>id_tag\n",
       "(string)                                     </th><th>id\n",
       "(string)          </th><th>names\n",
       "(string)                       </th><th>name\n",
       "(any)     </th><th>existing_group\n",
       "(any)                                 </th><th>entity_main_type\n",
       "(string)            </th><th>entity_secondary_type\n",
       "(string)               </th><th>entity_description\n",
       "(any)     </th></tr>\n",
       "</thead>\n",
       "<tbody>\n",
       "<tr><td>1   </td><td>אבי ברגר              </td><td>b9af6db1-d9dc-4bc9-aed2-bcaa87b3dc88</td><td>None     </td><td>אבי ברגר              </td><td>None</td><td>None                            </td><td>Person     </td><td>public servant</td><td>None</td></tr>\n",
       "<tr><td>2   </td><td>אבי גבאי              </td><td>e27e32e6-c45b-499f-8513-c6c698850941</td><td>None     </td><td>אבי גבאי              </td><td>None</td><td>None                            </td><td>Person     </td><td>public servant</td><td>None</td></tr>\n",
       "<tr><td>3   </td><td>אבי דזדק              </td><td>d6c646f7-88e3-4753-b1c8-ddde95b1f09d</td><td>None     </td><td>אבי דז'דק             </td><td>None</td><td>None                            </td><td>Person     </td><td>public servant</td><td>None</td></tr>\n",
       "<tr><td>4   </td><td>אבי כהן               </td><td>6b12eff7-279e-4c69-8bc7-c4b5aac12330</td><td>None     </td><td>אבי כהן               </td><td>None</td><td>None                            </td><td>Person     </td><td>public servant</td><td>None</td></tr>\n",
       "<tr><td>5   </td><td>אבי ליכט              </td><td>c9cf6e6b-99e8-43b6-82a6-840eb30544a8</td><td>None     </td><td>אבי ליכט              </td><td>None</td><td>None                            </td><td>Person     </td><td>public servant</td><td>None</td></tr>\n",
       "<tr><td>6   </td><td>אבי שלו               </td><td>eba0f3c4-e4d4-4f61-b8d5-37270bde4ef0</td><td>None     </td><td>אבי שלו               </td><td>None</td><td>None                            </td><td>Person     </td><td>None          </td><td>None</td></tr>\n",
       "<tr><td>... </td><td>                      </td><td>                                    </td><td>         </td><td>                      </td><td>    </td><td>                                </td><td>           </td><td>              </td><td>    </td></tr>\n",
       "<tr><td>8   </td><td>אביבה יצחקי           </td><td>98905e0e-7838-4bed-8a9d-38e257c6c489</td><td>None     </td><td>אביבה יצחקי           </td><td>None</td><td>None                            </td><td>Person     </td><td>public servant</td><td>None</td></tr>\n",
       "<tr><td>9   </td><td>אביגדור קלגסבלד       </td><td>6e62c60c-e805-4dc5-a11e-ee0441482e0a</td><td>None     </td><td>אביגדור קלגסבלד       </td><td>None</td><td>None                            </td><td>Person     </td><td>None          </td><td>None</td></tr>\n",
       "<tr><td>10  </td><td>אביגדור קפלן          </td><td>da778544-9a2f-46f4-9e93-9b3ef0ad6745</td><td>None     </td><td>אביגדור קפלן          </td><td>None</td><td>None                            </td><td>Person     </td><td>public servant</td><td>None</td></tr>\n",
       "<tr><td>... </td><td>                      </td><td>                                    </td><td>         </td><td>                      </td><td>    </td><td>                                </td><td>           </td><td>              </td><td>    </td></tr>\n",
       "<tr><td>16  </td><td>אבנר הלפרין           </td><td>651cf870-8679-4f53-a601-7ca27709cf9e</td><td>None     </td><td>אבנר הלפרין           </td><td>None</td><td>None                            </td><td>Person     </td><td>None          </td><td>None</td></tr>\n",
       "<tr><td>17  </td><td>אברהים נידאל          </td><td>f62e40e6-fe51-4736-8610-fca72a23b626</td><td>None     </td><td>אברהים נידאל          </td><td>None</td><td>None                            </td><td>Person     </td><td>public servant</td><td>None</td></tr>\n",
       "<tr><td>18  </td><td>אברהם לבנת            </td><td>8744722f-dd1d-4aab-b841-97530aa05e77</td><td>None     </td><td>אברהם לבנת            </td><td>None</td><td>None                            </td><td>Person     </td><td>None          </td><td>None</td></tr>\n",
       "<tr><td>... </td><td>                      </td><td>                                    </td><td>         </td><td>                      </td><td>    </td><td>                                </td><td>           </td><td>              </td><td>    </td></tr>\n",
       "<tr><td>32  </td><td>אוהד מרחב             </td><td>8f5eb29c-ad2a-4001-8395-66cdd27da38f</td><td>None     </td><td>אוהד מרחב             </td><td>None</td><td>None                            </td><td>Person     </td><td>public servant</td><td>None</td></tr>\n",
       "<tr><td>33  </td><td>אווה מדזיבוז          </td><td>10450df5-4234-48b0-bd40-d63a88855d6a</td><td>None     </td><td>אווה מדז'יבוז         </td><td>None</td><td>None                            </td><td>Person     </td><td>None          </td><td>None</td></tr>\n",
       "<tr><td>34  </td><td>אוסטרוביץ שולמית ויוסי</td><td>41a2909e-6419-474e-b667-986eb85a223a</td><td>None     </td><td>אוסטרוביץ שולמית ויוסי</td><td>None</td><td>None                            </td><td>Person     </td><td>None          </td><td>None</td></tr>\n",
       "<tr><td>... </td><td>                      </td><td>                                    </td><td>         </td><td>                      </td><td>    </td><td>                                </td><td>           </td><td>              </td><td>    </td></tr>\n",
       "<tr><td>64  </td><td>איל פרנק              </td><td>197d65cd-8b5e-452b-a66a-e66e445141ff</td><td>None     </td><td>איל פרנק              </td><td>None</td><td>None                            </td><td>Person     </td><td>public servant</td><td>None</td></tr>\n",
       "<tr><td>65  </td><td>איל קופמן             </td><td>f4a8bd77-be55-4435-9160-f4ca091417d8</td><td>None     </td><td>איל קופמן             </td><td>None</td><td>None                            </td><td>Person     </td><td>public servant</td><td>None</td></tr>\n",
       "<tr><td>66  </td><td>איליה וולקוב          </td><td>53eb6857-1a59-43cd-80fa-e74ee27c472f</td><td>None     </td><td>איליה וולקוב          </td><td>None</td><td>None                            </td><td>Person     </td><td>public servant</td><td>None</td></tr>\n",
       "<tr><td>... </td><td>                      </td><td>                                    </td><td>         </td><td>                      </td><td>    </td><td>                                </td><td>           </td><td>              </td><td>    </td></tr>\n",
       "<tr><td>128 </td><td>אסף דעבול             </td><td>b21bdb92-e763-403e-bfbc-da77becdae35</td><td>None     </td><td>אסף דעבול             </td><td>None</td><td>None                            </td><td>Person     </td><td>Public servant</td><td>None</td></tr>\n",
       "<tr><td>129 </td><td>אסף הראל              </td><td>b8966ec2-8ea4-44e9-a8a0-108067e1caa4</td><td>None     </td><td>אסף הראל              </td><td>None</td><td>None                            </td><td>Person     </td><td>Public servant</td><td>None</td></tr>\n",
       "<tr><td>130 </td><td>אסף זמיר              </td><td>955905cf-ecc7-457d-9aae-1e09db0c1fa7</td><td>None     </td><td>אסף זמיר              </td><td>None</td><td>None                            </td><td>Person     </td><td>Public servant</td><td>None</td></tr>\n",
       "<tr><td>... </td><td>                      </td><td>                                    </td><td>         </td><td>                      </td><td>    </td><td>                                </td><td>           </td><td>              </td><td>    </td></tr>\n",
       "<tr><td>256 </td><td>הדסה גרינברג יעקב     </td><td>587e3c94-b67a-47c1-84c7-72b350471c11</td><td>None     </td><td>הדסה גרינברג יעקב     </td><td>None</td><td>None                            </td><td>Person     </td><td>public servant</td><td>None</td></tr>\n",
       "<tr><td>257 </td><td>הושע גוטליב           </td><td>4b38f633-df57-4e00-b054-f6c161565f57</td><td>None     </td><td>הושע גוטליב           </td><td>None</td><td>None                            </td><td>Person     </td><td>public servant</td><td>None</td></tr>\n",
       "<tr><td>258 </td><td>היימן ינון            </td><td>ab6a2d23-17f7-4d81-bfb7-b4cedac2dc19</td><td>None     </td><td>היימן ינון            </td><td>None</td><td>None                            </td><td>Person     </td><td>Public servant</td><td>None</td></tr>\n",
       "<tr><td>... </td><td>                      </td><td>                                    </td><td>         </td><td>                      </td><td>    </td><td>                                </td><td>           </td><td>              </td><td>    </td></tr>\n",
       "<tr><td>512 </td><td>מרים עבוד             </td><td>648654ac-161a-4a38-bc4c-6f3852f9266d</td><td>None     </td><td>מרים עבוד             </td><td>None</td><td>None                            </td><td>Person     </td><td>public servant</td><td>None</td></tr>\n",
       "<tr><td>513 </td><td>מרינה קונצביה         </td><td>a1c84db4-cd00-41f6-88b6-882f74ea84ba</td><td>None     </td><td>מרינה קונצביה         </td><td>None</td><td>None                            </td><td>Person     </td><td>public servant</td><td>None</td></tr>\n",
       "<tr><td>514 </td><td>מרינסקי פנחס          </td><td>9d28e338-f21c-4836-b4dd-75a167d70856</td><td>None     </td><td>מרינסקי פנחס          </td><td>None</td><td>None                            </td><td>Person     </td><td>None          </td><td>None</td></tr>\n",
       "<tr><td>... </td><td>                      </td><td>                                    </td><td>         </td><td>                      </td><td>    </td><td>                                </td><td>           </td><td>              </td><td>    </td></tr>\n",
       "<tr><td>1024</td><td>חברת אגד תעבורה בעמ   </td><td>4e54a100-14a5-4269-896c-36255865fef5</td><td>513095794</td><td>None                  </td><td>None</td><td>open new item and use ID for URL</td><td>corporation</td><td>None          </td><td>None</td></tr>\n",
       "<tr><td>1025</td><td>חברת אקדמון           </td><td>a2885643-3823-42fa-a9ca-7586bf232033</td><td>580026938</td><td>None                  </td><td>None</td><td>open new item and use ID for URL</td><td>corporation</td><td>None          </td><td>None</td></tr>\n",
       "<tr><td>1026</td><td>חברת אשרא             </td><td>06835d4f-acef-4ebb-8aee-a6cd9d2fd9cb</td><td>511016982</td><td>None                  </td><td>None</td><td>open new item and use ID for URL</td><td>corporation</td><td>None          </td><td>None</td></tr>\n",
       "<tr><td>... </td><td>                      </td><td>                                    </td><td>         </td><td>                      </td><td>    </td><td>                                </td><td>           </td><td>              </td><td>    </td></tr>\n",
       "<tr><td>1157</td><td>אייטרייד              </td><td>b425f535-c2a8-40d6-a244-116003011e0f</td><td>514666577</td><td>None                  </td><td>None</td><td>open new item and use ID for URL</td><td>corporation</td><td>None          </td><td>None</td></tr>\n",
       "<tr><td>1158</td><td>ערוץ 10               </td><td>b6cdea0d-f773-44d8-9dc8-beeeb2316b29</td><td>513024760</td><td>None                  </td><td>None</td><td>open new item and use ID for URL</td><td>corporation</td><td>None          </td><td>None</td></tr>\n",
       "</tbody>\n",
       "</table>"
      ],
      "text/plain": [
       "<IPython.core.display.HTML object>"
      ]
     },
     "metadata": {},
     "output_type": "display_data"
    },
    {
     "data": {
      "text/plain": [
       "(<datapackage.package.Package at 0x7fc981a01668>, {})"
      ]
     },
     "execution_count": 1,
     "metadata": {},
     "output_type": "execute_result"
    }
   ],
   "source": [
    "from dataflows import Flow, load, printer, update_resource\n",
    "\n",
    "data = Flow(\n",
    "    load('./data/new groups for Odata - open new item and generate random URL.csv'),\n",
    "    load('./data/new groups for Odata - open new item and use ID for URL.csv'),\n",
    "#     printer(tablefmt='html', num_rows=1)\n",
    ").results()\n",
    "\n",
    "new_groups = []\n",
    "for resource in data[0]:\n",
    "    for row in resource:\n",
    "        new_groups.append({\n",
    "            'tags': row['tags'],\n",
    "            'id_tag': row['id tag'],\n",
    "            'id': str(row['ID']) if row.get('ID') else '',\n",
    "            'names': row.get('NAMES'),\n",
    "            'name': row.get('name (should based on ID)'),\n",
    "            'existing_group': row.get('existing group'),\n",
    "            'entity_main_type': row['entity main type'],\n",
    "            'entity_secondary_type': row.get('entity secondary type', row.get('entity secondary type (should based on ID)')),\n",
    "            'entity_description': row['entity description'],\n",
    "        })\n",
    "\n",
    "Flow(\n",
    "    (group for group in new_groups),\n",
    "    update_resource('.*', name='new-groups', path='new-groups.csv'),\n",
    "    printer(tablefmt='html', num_rows=2)\n",
    ").process()"
   ]
  },
  {
   "cell_type": "markdown",
   "metadata": {},
   "source": [
    "## Load budgetkey entities and people"
   ]
  },
  {
   "cell_type": "code",
   "execution_count": null,
   "metadata": {},
   "outputs": [],
   "source": [
    "from dataflows import dump_to_path\n",
    "\n",
    "Flow(\n",
    "    load('https://next.obudget.org/datapackages/entities/scored/datapackage.json'),\n",
    "    dump_to_path('./data/budgetkey-entities'),\n",
    "    printer(tablefmt='html', num_rows=1)\n",
    ").process()"
   ]
  },
  {
   "cell_type": "code",
   "execution_count": 63,
   "metadata": {},
   "outputs": [
    {
     "data": {
      "text/html": [
       "<h3>people</h3>"
      ],
      "text/plain": [
       "<IPython.core.display.HTML object>"
      ]
     },
     "metadata": {},
     "output_type": "display_data"
    },
    {
     "data": {
      "text/html": [
       "<table>\n",
       "<thead>\n",
       "<tr><th>#    </th><th>details\n",
       "(array)                                                                                                         </th><th>key\n",
       "(string)          </th><th style=\"text-align: right;\">  score\n",
       "(number)</th><th>person_key\n",
       "(string)          </th></tr>\n",
       "</thead>\n",
       "<tbody>\n",
       "<tr><td>1    </td><td>[{'company': 'אנ אסטיטס וי יורופיאן סנטראל', 'doc_id': None, 'event': 'appointment', 'full_name': '- ...</td><td>- -      </td><td style=\"text-align: right;\">1</td><td>- -      </td></tr>\n",
       "<tr><td>2    </td><td>[{'company': 'אסטיטס בי וי יורופיאן סנטראל', 'doc_id': None, 'event': 'appointment', 'full_name': '_ ...</td><td>_________</td><td style=\"text-align: right;\">1</td><td>_________</td></tr>\n",
       "<tr><td>...  </td><td>                                                                                                        </td><td>         </td><td style=\"text-align: right;\"> </td><td>         </td></tr>\n",
       "<tr><td>33462</td><td>[{'company': 'החזקות מבטחים מנורה', 'doc_id': None, 'event': 'appointment', 'full_name': 'תפוחי ישרא ...</td><td>תפוחי    </td><td style=\"text-align: right;\">1</td><td>תפוחי    </td></tr>\n",
       "</tbody>\n",
       "</table>"
      ],
      "text/plain": [
       "<IPython.core.display.HTML object>"
      ]
     },
     "metadata": {},
     "output_type": "display_data"
    },
    {
     "data": {
      "text/plain": [
       "(<datapackage.package.Package at 0x7fb9c9550c18>,\n",
       " {'count_of_rows': 33462,\n",
       "  'bytes': 91518375,\n",
       "  'hash': '0422d90e403a29961eea6ee01ba426d8',\n",
       "  'dataset_name': None})"
      ]
     },
     "execution_count": 63,
     "metadata": {},
     "output_type": "execute_result"
    }
   ],
   "source": [
    "import csv\n",
    "\n",
    "csv.field_size_limit(csv.field_size_limit()*100)\n",
    "\n",
    "Flow(\n",
    "    load('https://next.obudget.org/datapackages/people/aggregated/datapackage.json'),\n",
    "    dump_to_path('./data/budgetkey-people'),\n",
    "    printer(tablefmt='html', num_rows=1)\n",
    ").process()"
   ]
  },
  {
   "cell_type": "code",
   "execution_count": 65,
   "metadata": {},
   "outputs": [
    {
     "data": {
      "text/plain": [
       "(<datapackage.package.Package at 0x7fb9c93b5780>, {})"
      ]
     },
     "execution_count": 65,
     "metadata": {},
     "output_type": "execute_result"
    }
   ],
   "source": [
    "budgetkey_entities_by_id = {}\n",
    "\n",
    "Flow(\n",
    "    load('./data/budgetkey-entities/datapackage.json'),\n",
    "    lambda row: budgetkey_entities_by_id.update(**{row['id']: row})\n",
    ").process()"
   ]
  },
  {
   "cell_type": "markdown",
   "metadata": {},
   "source": [
    "## update entity (corporations) groups"
   ]
  },
  {
   "cell_type": "code",
   "execution_count": 3,
   "metadata": {},
   "outputs": [
    {
     "name": "stdin",
     "output_type": "stream",
     "text": [
      "CKAN_API_KEY ····································\n"
     ]
    }
   ],
   "source": [
    "import getpass\n",
    "CKAN_API_KEY = getpass.getpass(\"CKAN_API_KEY\")"
   ]
  },
  {
   "cell_type": "code",
   "execution_count": null,
   "metadata": {},
   "outputs": [],
   "source": [
    "import requests, json\n",
    "\n",
    "entity_groups_to_create = {}\n",
    "\n",
    "for group in new_groups:\n",
    "    if group.get('id'):\n",
    "        entity = budgetkey_entities_by_id.get(str(group['id']))\n",
    "        if entity:\n",
    "            group['tags'] = entity['name'].replace('~', '\"')\n",
    "            group['entity_secondary_type'] = entity['kind_he']\n",
    "        else:\n",
    "            print('WARNING!')\n",
    "            print('{}: missing related budgetkey entity: {}'.format(group['id'], group['tags']))\n",
    "        entity_groups_to_create.setdefault(group['id'], []).append({\n",
    "            '__group': group,\n",
    "            'name': group['id'],\n",
    "            'title': group['tags'],\n",
    "            'extras': [\n",
    "                {'key': key, 'value': value}\n",
    "                for key, value in {\n",
    "                    **{'budgetkey_entity_'+ek: ev for ek, ev in (entity['details'].items() if entity else [])},\n",
    "                    'budgetkey_entity_id': group['id'],\n",
    "                    'budgetkey_entity_kind': entity['kind'] if entity else '',\n",
    "                    'budgetkey_entity_kind_he': entity['kind_he'] if entity else '',\n",
    "                    'entity_main_type': group['entity_main_type'],\n",
    "                    'entity_secondary_type': group['entity_secondary_type'],\n",
    "                    'entity_description': group['entity_description']\n",
    "                }.items()\n",
    "            ]\n",
    "        })\n",
    "\n",
    "for group_id, groups in entity_groups_to_create.items():\n",
    "    group_json = groups[0]\n",
    "    if group_json['name'] == '520036435': continue\n",
    "    id_tags = set()\n",
    "    for group in [g['__group'] for g in groups]:\n",
    "        id_tag = group.get('id_tag')\n",
    "        if id_tag:\n",
    "            id_tags.add(str(id_tag))\n",
    "    group_json['extras'].append({'key': 'import_id_tags', 'value': ','.join(id_tags)})\n",
    "    for extra in group_json['extras']:\n",
    "        if isinstance(extra['value'], list):\n",
    "            extra['value'] = json.dumps(extra['value'], ensure_ascii=False)\n",
    "        elif extra['value'] is None:\n",
    "            extra['value'] = ''\n",
    "        else:\n",
    "            extra['value'] = str(extra['value'])        \n",
    "    res = requests.post(\n",
    "        'https://www.odata.org.il/api/3/action/group_create', \n",
    "        json=group_json,\n",
    "        headers={'Authorization': CKAN_API_KEY}\n",
    "    ).json()\n",
    "    # print(res)\n",
    "    if res['success']:\n",
    "        print('new corporation group created: {} / {}'.format(group_json['name'], group_json['title']))\n",
    "#         break\n",
    "    elif res.get('error', {}).get('name') == ['שם רשות קיים כבר בבסיס הנתונים']:\n",
    "        print('updating existing entity: {} / {}'.format(group_json['name'], group_json['title']))\n",
    "        res = requests.post(\n",
    "            'https://www.odata.org.il/api/3/action/group_update', \n",
    "            json={'id': group_json['name'], **group_json},\n",
    "            headers={'Authorization': CKAN_API_KEY}\n",
    "        ).json()\n",
    "        # print(res)\n",
    "        # break\n",
    "    else:\n",
    "        print('Unexpected response for CKAN group_create:')\n",
    "        print(group_json)\n",
    "        print(res)\n",
    "        break;\n"
   ]
  },
  {
   "cell_type": "markdown",
   "metadata": {},
   "source": [
    "## Update groups without id"
   ]
  },
  {
   "cell_type": "code",
   "execution_count": null,
   "metadata": {
    "scrolled": true
   },
   "outputs": [],
   "source": [
    "import requests, json\n",
    "from slugify import slugify\n",
    "\n",
    "groups_to_create = {}\n",
    "\n",
    "for group in new_groups:\n",
    "    if not group.get('id'):\n",
    "        group_slug = slugify(group['tags'])\n",
    "        groups_to_create.setdefault(group_slug, []).append({\n",
    "            '__group': group,\n",
    "            'name': group_slug,\n",
    "            'title': group['tags'],\n",
    "            'extras': [\n",
    "                {'key': key, 'value': value}\n",
    "                for key, value in {\n",
    "                    'entity_main_type': group['entity_main_type'],\n",
    "                    'entity_secondary_type': group['entity_secondary_type'],\n",
    "                    'entity_description': group['entity_description']\n",
    "                }.items()\n",
    "            ]\n",
    "        })\n",
    "\n",
    "for group_slug, groups in groups_to_create.items():\n",
    "    group_json = groups[0]\n",
    "    id_tags = set()\n",
    "    for group in [g['__group'] for g in groups]:\n",
    "        id_tag = group.get('id_tag')\n",
    "        if id_tag:\n",
    "            id_tags.add(str(id_tag))\n",
    "    group_json['extras'].append({'key': 'import_id_tags', 'value': ','.join(id_tags)})\n",
    "    for extra in group_json['extras']:\n",
    "        if isinstance(extra['value'], list):\n",
    "            extra['value'] = json.dumps(extra['value'], ensure_ascii=False)\n",
    "        elif extra['value'] is None:\n",
    "            extra['value'] = ''\n",
    "        else:\n",
    "            extra['value'] = str(extra['value'])        \n",
    "    res = requests.post(\n",
    "        'https://www.odata.org.il/api/3/action/group_create', \n",
    "        json=group_json,\n",
    "        headers={'Authorization': CKAN_API_KEY}\n",
    "    ).json()\n",
    "    # print(res)\n",
    "    if res['success']:\n",
    "        print('new group created: {} / {}'.format(group_json['name'], group_json['title']))\n",
    "#         break\n",
    "    elif res.get('error', {}).get('name') == ['שם רשות קיים כבר בבסיס הנתונים']:\n",
    "        print('updating existing group: {} / {}'.format(group_json['name'], group_json['title']))\n",
    "        res = requests.post(\n",
    "            'https://www.odata.org.il/api/3/action/group_update', \n",
    "            json={'id': group_json['name'], **group_json},\n",
    "            headers={'Authorization': CKAN_API_KEY}\n",
    "        ).json()\n",
    "        if not res['success']:\n",
    "            print(res)\n",
    "            break\n",
    "    else:\n",
    "        print('Unexpected response for CKAN group_create:')\n",
    "        print(group_json)\n",
    "        print(res)\n",
    "        break;\n"
   ]
  },
  {
   "cell_type": "markdown",
   "metadata": {},
   "source": [
    "## import id_tags"
   ]
  },
  {
   "cell_type": "code",
   "execution_count": 4,
   "metadata": {},
   "outputs": [],
   "source": [
    "import requests\n",
    "\n",
    "all_group_names = requests.get('https://www.odata.org.il/api/3/action/group_list', headers={'Authorization': CKAN_API_KEY}).json()['result']"
   ]
  },
  {
   "cell_type": "code",
   "execution_count": null,
   "metadata": {},
   "outputs": [],
   "source": [
    "def add_tag_datasets_to_group(tag_id, group_name):\n",
    "    res = requests.get(\n",
    "        'https://www.odata.org.il/api/3/action/tag_show?id={}&include_datasets=True'.format(tag_id), \n",
    "        headers={'Authorization': CKAN_API_KEY}\n",
    "    ).json()\n",
    "    assert res['success']\n",
    "    tag = res['result']\n",
    "#     print(tag)\n",
    "    for package in tag['packages']:\n",
    "        package_id = package['id']\n",
    "        res = requests.get(\n",
    "            'https://www.odata.org.il/api/3/action/package_show?id={}&include_datasets=True'.format(package_id), \n",
    "            headers={'Authorization': CKAN_API_KEY}\n",
    "        ).json()\n",
    "        assert res['success']\n",
    "        package = res['result']\n",
    "        if group_name not in [g['name'] for g in package['groups']]:\n",
    "            package['groups'].append({'name': group_name})\n",
    "            res = requests.post(\n",
    "                'https://www.odata.org.il/api/3/action/package_update',\n",
    "                json=package,\n",
    "                headers={'Authorization': CKAN_API_KEY}\n",
    "            ).json()\n",
    "            assert res['success']\n",
    "            print('updated package: https://www.odata.org.il/dataset/{}'.format(package_id))\n",
    "\n",
    "\n",
    "def add_datasets_by_name_to_group(name, group_name):\n",
    "    res = requests.get(\n",
    "        'https://www.odata.org.il/api/3/action/package_search?q={}'.format(name), \n",
    "        headers={'Authorization': CKAN_API_KEY}\n",
    "    ).json()\n",
    "    assert res['success']\n",
    "    for result in res['result']['results']:\n",
    "        package_id = result['id']\n",
    "        res = requests.get(\n",
    "            'https://www.odata.org.il/api/3/action/package_show?id={}&include_datasets=True'.format(package_id), \n",
    "            headers={'Authorization': CKAN_API_KEY}\n",
    "        ).json()\n",
    "        assert res['success']\n",
    "        package = res['result']\n",
    "        if group_name not in [g['name'] for g in package['groups']]:\n",
    "            package['groups'].append({'name': group_name})\n",
    "            res = requests.post(\n",
    "                'https://www.odata.org.il/api/3/action/package_update',\n",
    "                json=package,\n",
    "                headers={'Authorization': CKAN_API_KEY}\n",
    "            ).json()\n",
    "            assert res['success']\n",
    "            print('updated package: https://www.odata.org.il/dataset/{}'.format(package_id))\n",
    "            \n",
    "\n",
    "for group_name in all_group_names:\n",
    "    group = requests.get(\n",
    "        'https://www.odata.org.il/api/3/action/group_show?id={}&include_extras=true&include_users=False&include_datasets=False&include_followers=False'.format(group_name), \n",
    "        headers={'Authorization': CKAN_API_KEY}\n",
    "    ).json()['result']\n",
    "    for extra in group['extras']:\n",
    "        if extra['key'] == 'import_id_tags':\n",
    "            for tag_id in extra['value'].split(','):\n",
    "                if tag_id.strip() == 'no tag': continue\n",
    "                if tag_id.strip() == 'name of dataset':\n",
    "                    add_datasets_by_name_to_group(group['title'], group_name)\n",
    "                else:\n",
    "                    add_tag_datasets_to_group(tag_id, group_name)"
   ]
  }
 ],
 "metadata": {
  "kernelspec": {
   "display_name": "Python 3",
   "language": "python",
   "name": "python3"
  },
  "language_info": {
   "codemirror_mode": {
    "name": "ipython",
    "version": 3
   },
   "file_extension": ".py",
   "mimetype": "text/x-python",
   "name": "python",
   "nbconvert_exporter": "python",
   "pygments_lexer": "ipython3",
   "version": "3.6.8"
  }
 },
 "nbformat": 4,
 "nbformat_minor": 4
}
