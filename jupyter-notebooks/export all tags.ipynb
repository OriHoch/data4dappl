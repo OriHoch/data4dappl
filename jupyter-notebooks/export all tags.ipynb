{
 "cells": [
  {
   "cell_type": "code",
   "execution_count": null,
   "metadata": {},
   "outputs": [],
   "source": [
    "!{'python3 -m pip install dataflows==0.0.58'}\n",
    "!{'python3 -m pip install -e git+https://github.com/OriHoch/dataflows-xlsx.git@master#egg=dataflows-xlsx'}"
   ]
  },
  {
   "cell_type": "code",
   "execution_count": 1,
   "metadata": {},
   "outputs": [
    {
     "name": "stdin",
     "output_type": "stream",
     "text": [
      "CKAN_API_KEY ····································\n"
     ]
    }
   ],
   "source": [
    "import getpass\n",
    "CKAN_API_KEY = getpass.getpass(\"CKAN_API_KEY\")"
   ]
  },
  {
   "cell_type": "code",
   "execution_count": 3,
   "metadata": {},
   "outputs": [],
   "source": [
    "CKAN_URL='https://odata.org.il'"
   ]
  },
  {
   "cell_type": "code",
   "execution_count": 11,
   "metadata": {},
   "outputs": [
    {
     "data": {
      "text/html": [
       "<h3>all_tags</h3>"
      ],
      "text/plain": [
       "<IPython.core.display.HTML object>"
      ]
     },
     "metadata": {},
     "output_type": "display_data"
    },
    {
     "data": {
      "text/html": [
       "<table>\n",
       "<thead>\n",
       "<tr><th>#   </th><th>id\n",
       "(string)                                     </th><th>name\n",
       "(string)                             </th></tr>\n",
       "</thead>\n",
       "<tbody>\n",
       "<tr><td>1   </td><td>f86f7597-73fe-4b75-a42e-7582419e17ea</td><td>01 - עץ חיים                </td></tr>\n",
       "<tr><td>2   </td><td>089648b8-ea70-419f-aa64-5fe786e0bab0</td><td>01 -אגוי                    </td></tr>\n",
       "<tr><td>... </td><td>                                    </td><td>                            </td></tr>\n",
       "<tr><td>9141</td><td>8e0a8d98-6bc1-41e6-8081-d1ec4308ab2d</td><td>افيخاي أدرعي- Avichay Adraee</td></tr>\n",
       "</tbody>\n",
       "</table>"
      ],
      "text/plain": [
       "<IPython.core.display.HTML object>"
      ]
     },
     "metadata": {},
     "output_type": "display_data"
    },
    {
     "data": {
      "text/plain": [
       "(<datapackage.package.Package at 0x7fad766d96a0>,\n",
       " {'count_of_rows': 9141,\n",
       "  'bytes': 607,\n",
       "  'hash': '93a0eea1198a35caca8d1477ff41c852',\n",
       "  'dataset_name': None})"
      ]
     },
     "execution_count": 11,
     "metadata": {},
     "output_type": "execute_result"
    }
   ],
   "source": [
    "import requests\n",
    "from dataflows import Flow, printer, update_resource\n",
    "from dataflows_xlsx import dump_to_path\n",
    "\n",
    "def get_tags():\n",
    "    for tag in requests.get(CKAN_URL+'/api/3/action/tag_list?all_fields=true', headers={'Authorization': CKAN_API_KEY}).json()['result']:\n",
    "        assert tag['display_name'] == tag['name']\n",
    "        yield {k: tag[k] for k in tag if k in ['id', 'name']}\n",
    "        \n",
    "Flow(\n",
    "    get_tags(),\n",
    "    update_resource('res_1', name='all_tags', path='all_tags.xlsx'),\n",
    "    printer(tablefmt='html', num_rows=1),\n",
    "    dump_to_path('data/all_tags', format='xlsx')\n",
    ").process()"
   ]
  }
 ],
 "metadata": {
  "kernelspec": {
   "display_name": "Python 3",
   "language": "python",
   "name": "python3"
  },
  "language_info": {
   "codemirror_mode": {
    "name": "ipython",
    "version": 3
   },
   "file_extension": ".py",
   "mimetype": "text/x-python",
   "name": "python",
   "nbconvert_exporter": "python",
   "pygments_lexer": "ipython3",
   "version": "3.6.8"
  }
 },
 "nbformat": 4,
 "nbformat_minor": 4
}
