{
 "cells": [
  {
   "cell_type": "code",
   "execution_count": null,
   "metadata": {},
   "outputs": [],
   "source": [
    "!{'python3 -m pip install dataflows==0.0.58'}\n",
    "!{'python3 -m pip install -e git+https://github.com/OriHoch/dataflows-xlsx.git@master#egg=dataflows-xlsx'}"
   ]
  },
  {
   "cell_type": "code",
   "execution_count": 3,
   "metadata": {},
   "outputs": [
    {
     "name": "stdin",
     "output_type": "stream",
     "text": [
      "CKAN_API_KEY ····································\n"
     ]
    }
   ],
   "source": [
    "import getpass\n",
    "CKAN_API_KEY = getpass.getpass(\"CKAN_API_KEY\")"
   ]
  },
  {
   "cell_type": "code",
   "execution_count": 4,
   "metadata": {},
   "outputs": [],
   "source": [
    "CKAN_URL = 'https://odata.org.il'"
   ]
  },
  {
   "cell_type": "code",
   "execution_count": 12,
   "metadata": {},
   "outputs": [
    {
     "name": "stdout",
     "output_type": "stream",
     "text": [
      "using checkpoint data from .checkpoints/all_dataset_ids\n"
     ]
    },
    {
     "data": {
      "text/html": [
       "<h3>res_1</h3>"
      ],
      "text/plain": [
       "<IPython.core.display.HTML object>"
      ]
     },
     "metadata": {},
     "output_type": "display_data"
    },
    {
     "data": {
      "text/html": [
       "<table>\n",
       "<thead>\n",
       "<tr><th>#   </th><th>id\n",
       "(string)                                     </th></tr>\n",
       "</thead>\n",
       "<tbody>\n",
       "<tr><td>1   </td><td>002b3d2e-179f-4aaa-bd3d-8b2437128e35</td></tr>\n",
       "<tr><td>2   </td><td>01-01-2017-01-08-2018               </td></tr>\n",
       "<tr><td>... </td><td>                                    </td></tr>\n",
       "<tr><td>2202</td><td>zor-c                               </td></tr>\n",
       "</tbody>\n",
       "</table>"
      ],
      "text/plain": [
       "<IPython.core.display.HTML object>"
      ]
     },
     "metadata": {},
     "output_type": "display_data"
    },
    {
     "data": {
      "text/plain": [
       "(<datapackage.package.Package at 0x7f585f00ec50>, {})"
      ]
     },
     "execution_count": 12,
     "metadata": {},
     "output_type": "execute_result"
    }
   ],
   "source": [
    "import requests\n",
    "from dataflows import Flow, printer, checkpoint\n",
    "\n",
    "def get_datasets():\n",
    "    for dataset_id in requests.get(CKAN_URL+'/api/3/action/package_list', headers={'Authorization': CKAN_API_KEY}).json()['result']:\n",
    "        yield {'id': dataset_id}\n",
    "\n",
    "Flow(\n",
    "    get_datasets(),\n",
    "    checkpoint('all_dataset_ids'),\n",
    "    printer(tablefmt='html', num_rows=1)\n",
    ").process()"
   ]
  },
  {
   "cell_type": "code",
   "execution_count": 22,
   "metadata": {},
   "outputs": [
    {
     "name": "stdout",
     "output_type": "stream",
     "text": [
      "saving checkpoint to: .checkpoints/all_dataset_details\n",
      "using checkpoint data from .checkpoints/all_dataset_ids\n",
      "0 / 2202\n",
      "50 / 2202\n"
     ]
    },
    {
     "data": {
      "text/html": [
       "<h3>res_1</h3>"
      ],
      "text/plain": [
       "<IPython.core.display.HTML object>"
      ]
     },
     "metadata": {},
     "output_type": "display_data"
    },
    {
     "name": "stdout",
     "output_type": "stream",
     "text": [
      "100 / 2202\n",
      "150 / 2202\n",
      "200 / 2202\n",
      "250 / 2202\n",
      "300 / 2202\n",
      "350 / 2202\n",
      "400 / 2202\n",
      "450 / 2202\n",
      "500 / 2202\n",
      "550 / 2202\n",
      "600 / 2202\n",
      "650 / 2202\n",
      "700 / 2202\n",
      "750 / 2202\n",
      "800 / 2202\n",
      "850 / 2202\n",
      "900 / 2202\n",
      "950 / 2202\n",
      "1000 / 2202\n",
      "1050 / 2202\n",
      "1100 / 2202\n",
      "1150 / 2202\n",
      "1200 / 2202\n",
      "1250 / 2202\n",
      "1300 / 2202\n",
      "1350 / 2202\n",
      "1400 / 2202\n",
      "1450 / 2202\n",
      "1500 / 2202\n",
      "1550 / 2202\n",
      "1600 / 2202\n",
      "1650 / 2202\n",
      "1700 / 2202\n",
      "1750 / 2202\n",
      "1800 / 2202\n",
      "1850 / 2202\n",
      "1900 / 2202\n",
      "1950 / 2202\n",
      "2000 / 2202\n",
      "2050 / 2202\n",
      "2100 / 2202\n",
      "2150 / 2202\n",
      "2200 / 2202\n"
     ]
    },
    {
     "data": {
      "text/html": [
       "<table>\n",
       "<thead>\n",
       "<tr><th>#   </th><th>private\n",
       "(integer)      </th><th style=\"text-align: right;\">   num_tags\n",
       "(integer)</th><th>id\n",
       "(string)                                     </th><th>state\n",
       "(string)       </th><th>type\n",
       "(string)        </th><th style=\"text-align: right;\">   num_resources\n",
       "(integer)</th><th>tags\n",
       "(array)                                                                                                         </th><th>groups\n",
       "(array)                       </th><th>license_id\n",
       "(string)      </th><th>organization\n",
       "(string)             </th><th>name\n",
       "(string)                                     </th><th>isopen\n",
       "(integer)     </th><th>notes\n",
       "(string)                                                                                                         </th><th>title\n",
       "(string)                                                        </th></tr>\n",
       "</thead>\n",
       "<tbody>\n",
       "<tr><td>1   </td><td>False</td><td style=\"text-align: right;\">11</td><td>19c72fd7-0d3e-4130-8fbc-9d71aa5b0dc9</td><td>active</td><td>dataset</td><td style=\"text-align: right;\"> 3</td><td>['2015', '2016', '2017', '2018', 'מצלמות', 'מצלמות אבטחה', 'מרחב ציבורי', 'נהלים', 'עיריית פתח תקווה ...</td><td>['עיריית פתח תקוה']   </td><td>cc-by</td><td>עמותת הצלחה </td><td>002b3d2e-179f-4aaa-bd3d-8b2437128e35</td><td>True</td><td>מענה לבקשת מידע אודות מצלמות במרחב הציבורי, בכלל זה התבקשו מיקומי המצלמות, הנחיות ונהלים המצויות בעי ...</td><td>מצלמות המרחב הציבורי- עיריית פתח תקווה                 </td></tr>\n",
       "<tr><td>2   </td><td>False</td><td style=\"text-align: right;\"> 6</td><td>4ad7b057-6dd5-4c1a-aabc-6059b39ef349</td><td>active</td><td>dataset</td><td style=\"text-align: right;\">12</td><td>['2017', '2018', 'facebook data', 'היחידה הממשלתית לחופש המידע', 'לשנים 2017-2018', 'נתוני פייסבוק']    </td><td>['משרד המשפטים']      </td><td>cc-by</td><td>משרד המשפטים</td><td>01-01-2017-01-08-2018               </td><td>True</td><td>נתוני הפעילות בפייסבוק של היחידה הממשלתית לחופש המידע, לשנים 2017-2018                                  </td><td>נתוני פייסבוק facebook data היחידה הממשלתית לחופש המידע</td></tr>\n",
       "<tr><td>... </td><td>     </td><td style=\"text-align: right;\">  </td><td>                                    </td><td>      </td><td>       </td><td style=\"text-align: right;\">  </td><td>                                                                                                        </td><td>                      </td><td>     </td><td>            </td><td>                                    </td><td>    </td><td>                                                                                                        </td><td>                                                       </td></tr>\n",
       "<tr><td>2202</td><td>False</td><td style=\"text-align: right;\"> 5</td><td>8790a2cf-d669-4ddb-a96d-aa0802e472e4</td><td>active</td><td>dataset</td><td style=\"text-align: right;\">24</td><td>['דב צור', 'יומן', 'עיריית ראשון לציון', 'ראשון לציון', 'רשות מקומית']                                  </td><td>['עיריית ראשון לציון']</td><td>cc-by</td><td>עמותת הצלחה </td><td>zor-c                               </td><td>True</td><td>יומן ראש עיריית ראשון לציון, דב צור, לשנים 2013-2014                                                    </td><td>יומן ראש עיריית ראשון לציון                            </td></tr>\n",
       "</tbody>\n",
       "</table>"
      ],
      "text/plain": [
       "<IPython.core.display.HTML object>"
      ]
     },
     "metadata": {},
     "output_type": "display_data"
    },
    {
     "name": "stdout",
     "output_type": "stream",
     "text": [
      "checkpoint saved: all_dataset_details\n"
     ]
    },
    {
     "data": {
      "text/plain": [
       "(<datapackage.package.Package at 0x7f585eacd320>, {})"
      ]
     },
     "execution_count": 22,
     "metadata": {},
     "output_type": "execute_result"
    }
   ],
   "source": [
    "def get_dataset_details():\n",
    "    datasets = Flow(checkpoint('all_dataset_ids')).results()[0][0]\n",
    "    for i, dataset in enumerate(datasets):\n",
    "        dataset = requests.get(CKAN_URL+'/api/3/action/package_show?id='+dataset['id'], headers={'Authorization': CKAN_API_KEY}).json()['result']\n",
    "        dataset = {\n",
    "            k: dataset[k] for k in dataset if k in [\n",
    "                'private', 'num_tags', 'id', 'state', 'type', 'num_resources', \n",
    "                'tags', 'groups', 'license_id', 'organization', 'name', 'isopen', 'notes', 'title'\n",
    "            ]\n",
    "        }\n",
    "        dataset['tags'] = [tag['display_name'] for tag in dataset['tags']]\n",
    "        dataset['groups'] = [group['display_name'] for group in dataset['groups']]\n",
    "        dataset['organization'] = dataset['organization']['title']\n",
    "        yield dataset\n",
    "        if i % 50 == 0:\n",
    "            print('{} / {}'.format(i, len(datasets)))\n",
    "\n",
    "Flow(\n",
    "    get_dataset_details(),\n",
    "    checkpoint('all_dataset_details'),\n",
    "    printer(tablefmt='html', num_rows=1)\n",
    ").process()"
   ]
  },
  {
   "cell_type": "code",
   "execution_count": 2,
   "metadata": {},
   "outputs": [
    {
     "name": "stdout",
     "output_type": "stream",
     "text": [
      "using checkpoint data from .checkpoints/all_dataset_details\n"
     ]
    },
    {
     "data": {
      "text/plain": [
       "(<datapackage.package.Package at 0x7fdcd2e00ba8>,\n",
       " {'count_of_rows': 2202,\n",
       "  'bytes': 2034,\n",
       "  'hash': 'a2b9ddaa5a2a25b071b1f7332b87c136',\n",
       "  'dataset_name': None})"
      ]
     },
     "execution_count": 2,
     "metadata": {},
     "output_type": "execute_result"
    }
   ],
   "source": [
    "from dataflows import Flow, checkpoint, update_resource\n",
    "from dataflows_xlsx import dump_to_path\n",
    "\n",
    "Flow(\n",
    "    checkpoint('all_dataset_details'),\n",
    "    update_resource('res_1', name='all_datasets', path='all_datasets.xlsx'),\n",
    "    dump_to_path('data/all_dataset_details', format='xlsx')\n",
    ").process()"
   ]
  }
 ],
 "metadata": {
  "kernelspec": {
   "display_name": "Python 3",
   "language": "python",
   "name": "python3"
  },
  "language_info": {
   "codemirror_mode": {
    "name": "ipython",
    "version": 3
   },
   "file_extension": ".py",
   "mimetype": "text/x-python",
   "name": "python",
   "nbconvert_exporter": "python",
   "pygments_lexer": "ipython3",
   "version": "3.6.9"
  }
 },
 "nbformat": 4,
 "nbformat_minor": 4
}
