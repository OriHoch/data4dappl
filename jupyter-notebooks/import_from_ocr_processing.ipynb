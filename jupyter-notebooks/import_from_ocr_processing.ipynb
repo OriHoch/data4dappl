{
 "cells": [
  {
   "cell_type": "code",
   "execution_count": 16,
   "metadata": {},
   "outputs": [
    {
     "name": "stdin",
     "output_type": "stream",
     "text": [
      "CKAN_API_KEY ····································\n"
     ]
    }
   ],
   "source": [
    "import getpass\n",
    "CKAN_API_KEY = getpass.getpass(\"CKAN_API_KEY\")"
   ]
  },
  {
   "cell_type": "code",
   "execution_count": 18,
   "metadata": {},
   "outputs": [],
   "source": [
    "CKAN_URL = 'https://www.odata.org.il'\n",
    "CKAN_HEADERS = {'X-CKAN-API-Key': CKAN_API_KEY}"
   ]
  },
  {
   "cell_type": "code",
   "execution_count": 6,
   "metadata": {},
   "outputs": [],
   "source": [
    "import os, subprocess\n",
    "\n",
    "if not os.path.exists(\"data/import_from_ocr_processing\"):\n",
    "  assert os.path.exists('data/import_from_ocr_processing.zip') and os.path.getsize('data/import_from_ocr_processing.zip') == 2573437151\n",
    "  subprocess.getstatusoutput(\"cd data && mkdir import_from_ocr_processing && cd import_from_ocr_processing && unzip ../import_from_ocr_processing.zip\")"
   ]
  },
  {
   "cell_type": "code",
   "execution_count": 13,
   "metadata": {},
   "outputs": [],
   "source": [
    "from glob import glob\n",
    "\n",
    "resources = {}\n",
    "\n",
    "for filepath in glob(\"data/import_from_ocr_processing/OCR/export_for_ocr_processing/**\", recursive=True):\n",
    "    if not filepath.endswith(\".pdf\"):\n",
    "        continue\n",
    "    resource_id = filepath.replace(\"data/import_from_ocr_processing/OCR/export_for_ocr_processing/\", \"\").split(\"/\")[-1].replace(\".pdf\", \"\")\n",
    "    assert resource_id not in resources, resource_id\n",
    "    resources[resource_id] = {\"filepath\": filepath}"
   ]
  },
  {
   "cell_type": "code",
   "execution_count": 15,
   "metadata": {},
   "outputs": [],
   "source": [
    "assert len(resources) == 7320"
   ]
  },
  {
   "cell_type": "code",
   "execution_count": 29,
   "metadata": {},
   "outputs": [],
   "source": [
    "import requests\n",
    "\n",
    "for resource_id, resource in resources.items():\n",
    "    if 'package_id' in resource and 'name' in resource and 'description' in resource:\n",
    "        continue\n",
    "    if resource['filepath'].endswith(' orginal file.pdf'):\n",
    "        continue\n",
    "    try:\n",
    "        res = requests.get(CKAN_URL+'/api/3/action/resource_show?id={}'.format(resource_id), headers=CKAN_HEADERS).json()\n",
    "        assert res['success'] and res['result']['id'] == resource_id\n",
    "        resource['package_id'] = res['result']['package_id']\n",
    "        resource['name'] = res['result']['name']\n",
    "        resource['description'] = res['result']['description']\n",
    "    except:\n",
    "        print(\"Failed processing resource_id {} file {}\".format(resource_id, resource['filepath']))\n",
    "        raise"
   ]
  },
  {
   "cell_type": "code",
   "execution_count": 33,
   "metadata": {},
   "outputs": [
    {
     "name": "stdout",
     "output_type": "stream",
     "text": [
      "0\n",
      "b2653455-eca0-4007-83aa-6033896e5294\n",
      "100\n",
      "33b41833-674d-41a5-a85d-fdfac72d8e36\n",
      "200\n",
      "8158c206-a637-4b5b-a665-6ed20d0afae6\n",
      "300\n",
      "f529caf2-3dca-486d-9481-1bfd783e2599\n",
      "400\n",
      "39c3e957-b2e3-4ae7-9901-6b731b308577\n",
      "500\n",
      "dc56592a-c486-4b27-aa78-ce3ac2b8e673\n",
      "600\n",
      "c54bd718-ca35-448d-b81e-2f2750bdcec0\n",
      "700\n",
      "b3d941b0-180e-4054-bb91-80770ecb346f\n",
      "800\n",
      "0f97d372-57a0-4e78-9a02-4e1e42d90c02\n",
      "900\n",
      "f3d5a37b-6cbe-4289-be81-08e69b51795b\n",
      "1000\n",
      "1f2a579a-8634-4d63-a45e-3830eb0eee42\n",
      "1100\n",
      "dd8d2647-8a29-4c77-af8c-9afd99068abe\n",
      "1200\n",
      "076c5478-6eb6-4d44-875a-08ff5e8d719b\n",
      "1300\n",
      "dcfe62f6-0e0e-43fc-a75a-623a76a44a7d\n",
      "1400\n",
      "ec3081e0-25bb-4cfa-a3ec-b6bac73f9a88\n",
      "1500\n",
      "ff2acc01-8d3a-4417-92cf-4c0f1168eafd\n",
      "1600\n",
      "220e5051-5799-4da0-9f7d-19df25c65b69\n",
      "1700\n",
      "fa439736-5d96-44de-9688-922a4ad701c1\n",
      "1800\n",
      "592fb73b-f4bd-499d-a66e-224b8a82c236\n",
      "1900\n",
      "bde356e4-9048-4aba-86a1-596b3ab98abd\n",
      "2000\n",
      "9dabdf7a-7029-47d4-8ead-db49cafc5312\n",
      "2100\n",
      "99ff2d32-9f54-483e-8801-b34dc119847a\n",
      "2200\n",
      "f609c233-0ae5-4201-8f1a-364ff55ce13f\n",
      "2300\n",
      "b0363457-ae2e-4a87-9ade-b9fb741b024e\n",
      "2400\n",
      "f8c820b7-e67a-4e8a-ab67-06156eeb86ff\n",
      "2500\n",
      "da97e694-47b7-47c8-b977-8394bfcff95f\n",
      "2600\n",
      "51001f09-23d9-4450-9b0d-61646a9601b7\n",
      "2700\n",
      "174910a8-8868-4136-9408-f7d5e844daa6\n",
      "2800\n",
      "7da5b2c7-d85d-4a88-a09e-d689fe94fb26\n",
      "2900\n",
      "9a46d989-5936-4911-9c47-c7b67f9d75c9\n",
      "3000\n",
      "055ed6bf-d87b-4a71-ab49-3281385b0299\n",
      "3100\n",
      "ce4d3389-b01f-4ca4-9299-6a2c92ba658d\n",
      "3200\n",
      "15c85e2b-3cb3-41a8-9e03-c9f6cf0a990c\n",
      "3300\n",
      "9e5ba474-7543-46c0-b088-63c053f1a370\n",
      "3400\n",
      "9114e325-a167-429f-bfe9-2559386beaf2\n",
      "3500\n",
      "fbc1a9b3-7ad8-4a9f-a869-3039b4d43174\n"
     ]
    }
   ],
   "source": [
    "i = 0\n",
    "for resource_id, resource in resources.items():\n",
    "    if 'url' in resource or 'package_id' not in resource:\n",
    "        continue\n",
    "    if i % 100 == 0:\n",
    "        print(i)\n",
    "        print(resource_id)\n",
    "    i += 1\n",
    "    with open(resource['filepath'], 'rb') as f:\n",
    "        res = requests.post(CKAN_URL+'/api/3/action/resource_create', headers=CKAN_HEADERS, data={\n",
    "            'package_id': resource['package_id'],\n",
    "            'description': resource['description'],\n",
    "            'format': 'PDF',\n",
    "            'name': resource['name'] + ' - לאחר עיבוד OCR',\n",
    "        }, files=[('upload', f)]).json()\n",
    "    assert res['success']\n",
    "    resource['url'] = res['result']['url']"
   ]
  }
 ],
 "metadata": {
  "kernelspec": {
   "display_name": "Python 3",
   "language": "python",
   "name": "python3"
  },
  "language_info": {
   "codemirror_mode": {
    "name": "ipython",
    "version": 3
   },
   "file_extension": ".py",
   "mimetype": "text/x-python",
   "name": "python",
   "nbconvert_exporter": "python",
   "pygments_lexer": "ipython3",
   "version": "3.6.9"
  }
 },
 "nbformat": 4,
 "nbformat_minor": 4
}
