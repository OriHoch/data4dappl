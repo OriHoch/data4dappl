{
 "cells": [
  {
   "cell_type": "markdown",
   "metadata": {},
   "source": [
    "```\n",
    "python3 -m pip install dataflows==0.0.58\n",
    "```"
   ]
  },
  {
   "cell_type": "code",
   "execution_count": 15,
   "metadata": {},
   "outputs": [
    {
     "name": "stdin",
     "output_type": "stream",
     "text": [
      "CKAN_API_KEY ····································\n"
     ]
    }
   ],
   "source": [
    "import getpass, os\n",
    "\n",
    "CKAN_API_KEY = os.environ.get('CKAN_API_KEY') or getpass.getpass(\"CKAN_API_KEY\")"
   ]
  },
  {
   "cell_type": "code",
   "execution_count": 2,
   "metadata": {},
   "outputs": [],
   "source": [
    "CKAN_URL='https://odata.org.il'"
   ]
  },
  {
   "cell_type": "markdown",
   "metadata": {},
   "source": [
    "## get all group names"
   ]
  },
  {
   "cell_type": "code",
   "execution_count": 3,
   "metadata": {},
   "outputs": [],
   "source": [
    "!{'rm -rf .checkpoints/group_names'}"
   ]
  },
  {
   "cell_type": "code",
   "execution_count": 9,
   "metadata": {},
   "outputs": [
    {
     "name": "stdout",
     "output_type": "stream",
     "text": [
      "using checkpoint data from .checkpoints/group_names\n"
     ]
    },
    {
     "data": {
      "text/html": [
       "<h3>res_1</h3>"
      ],
      "text/plain": [
       "<IPython.core.display.HTML object>"
      ]
     },
     "metadata": {},
     "output_type": "display_data"
    },
    {
     "data": {
      "text/html": [
       "<table>\n",
       "<thead>\n",
       "<tr><th>#   </th><th>name\n",
       "(string)               </th></tr>\n",
       "</thead>\n",
       "<tbody>\n",
       "<tr><td>1   </td><td>foi-201908-138</td></tr>\n",
       "<tr><td>2   </td><td>foi-201908-517</td></tr>\n",
       "<tr><td>... </td><td>              </td></tr>\n",
       "<tr><td>3146</td><td>foi-201908-756</td></tr>\n",
       "</tbody>\n",
       "</table>"
      ],
      "text/plain": [
       "<IPython.core.display.HTML object>"
      ]
     },
     "metadata": {},
     "output_type": "display_data"
    },
    {
     "data": {
      "text/plain": [
       "(<datapackage.package.Package at 0x7fe120895d68>, {})"
      ]
     },
     "execution_count": 9,
     "metadata": {},
     "output_type": "execute_result"
    }
   ],
   "source": [
    "import requests\n",
    "from dataflows import Flow, printer, checkpoint\n",
    "\n",
    "group_names_checkpoint = checkpoint('group_names')\n",
    "\n",
    "def get_group_names():\n",
    "    for group_name in requests.get(CKAN_URL+'/api/3/action/group_list', headers={'Authorization': CKAN_API_KEY}).json()['result']:\n",
    "        yield {'name': group_name}\n",
    "        \n",
    "Flow(\n",
    "    get_group_names(),\n",
    "    group_names_checkpoint,\n",
    "    printer(tablefmt='html', num_rows=1)\n",
    ").process()"
   ]
  },
  {
   "cell_type": "markdown",
   "metadata": {},
   "source": [
    "## Get group details"
   ]
  },
  {
   "cell_type": "code",
   "execution_count": 5,
   "metadata": {},
   "outputs": [],
   "source": [
    "!{'rm -rf .checkpoints/all_group_details_5'}"
   ]
  },
  {
   "cell_type": "code",
   "execution_count": 10,
   "metadata": {},
   "outputs": [
    {
     "name": "stdout",
     "output_type": "stream",
     "text": [
      "using checkpoint data from .checkpoints/all_group_details_5\n"
     ]
    },
    {
     "data": {
      "text/html": [
       "<h3>res_1</h3>"
      ],
      "text/plain": [
       "<IPython.core.display.HTML object>"
      ]
     },
     "metadata": {},
     "output_type": "display_data"
    },
    {
     "data": {
      "text/html": [
       "<table>\n",
       "<thead>\n",
       "<tr><th>#   </th><th>display_name\n",
       "(string)                                              </th><th style=\"text-align: right;\">  package_count\n",
       "(integer)</th><th>name\n",
       "(string)               </th><th>state\n",
       "(string)       </th><th>extras\n",
       "(array)                                                                                                         </th><th>title\n",
       "(string)                                              </th><th>id\n",
       "(string)                                     </th><th>approval_status\n",
       "(string)         </th></tr>\n",
       "</thead>\n",
       "<tbody>\n",
       "<tr><td>1   </td><td>כפר הנוער מאיר שפיה                          </td><td style=\"text-align: right;\">0</td><td>foi-201908-138</td><td>active</td><td>[{'group_id': '4979dd14-ab38-44b7-980b-394442814482', 'id': '639ad150-ce04-42d7-8da2-f6c455cb1ce7',  ...</td><td>כפר הנוער מאיר שפיה                          </td><td>4979dd14-ab38-44b7-980b-394442814482</td><td>approved</td></tr>\n",
       "<tr><td>2   </td><td>פרזות חברה ממשלתית עירונית לשיכון ירושלים בעמ</td><td style=\"text-align: right;\">0</td><td>foi-201908-517</td><td>active</td><td>[{'group_id': 'f52905cc-f97f-40d6-8cb6-c8e95f61f53b', 'id': 'bad0ff9c-08e9-4374-858c-6985fb46863a',  ...</td><td>פרזות חברה ממשלתית עירונית לשיכון ירושלים בעמ</td><td>f52905cc-f97f-40d6-8cb6-c8e95f61f53b</td><td>approved</td></tr>\n",
       "<tr><td>... </td><td>                                             </td><td style=\"text-align: right;\"> </td><td>              </td><td>      </td><td>                                                                                                        </td><td>                                             </td><td>                                    </td><td>        </td></tr>\n",
       "<tr><td>3146</td><td>תשתית - חברה לשירותי תחזוקה באשדוד בעמ       </td><td style=\"text-align: right;\">0</td><td>foi-201908-756</td><td>active</td><td>[{'group_id': 'a9bc889a-2822-452b-9f61-0f9a064caf4b', 'id': '24fedcca-cdfa-41f0-b9a9-1603be1c7091',  ...</td><td>תשתית - חברה לשירותי תחזוקה באשדוד בעמ       </td><td>a9bc889a-2822-452b-9f61-0f9a064caf4b</td><td>approved</td></tr>\n",
       "</tbody>\n",
       "</table>"
      ],
      "text/plain": [
       "<IPython.core.display.HTML object>"
      ]
     },
     "metadata": {},
     "output_type": "display_data"
    },
    {
     "data": {
      "text/plain": [
       "(<datapackage.package.Package at 0x7fe111b4c4a8>, {})"
      ]
     },
     "execution_count": 10,
     "metadata": {},
     "output_type": "execute_result"
    }
   ],
   "source": [
    "import requests, logging\n",
    "from dataflows import Flow, printer, checkpoint\n",
    "\n",
    "group_details_checkpoint = checkpoint('all_group_details_5')\n",
    "\n",
    "def get_group_details():\n",
    "    for group in Flow(group_names_checkpoint).results()[0][0]:\n",
    "        try:\n",
    "            group = requests.get(CKAN_URL+'/api/3/action/group_show?id={}&include_extras=true'.format(group['name']), headers={'Authorization': CKAN_API_KEY}).json()['result']\n",
    "            group = {k: group[k] for k in group if k in [\n",
    "                'display_name', 'package_count', 'name', 'state', 'extras', 'title', 'id', 'approval_status'\n",
    "            ]}\n",
    "            print('display_name={}  name={}  id={}'.format(group['display_name'], group['name'], group['id']))\n",
    "            yield group\n",
    "        except Exception as e:\n",
    "            print('name={}'.format(group['name']))\n",
    "            logging.exception(e)\n",
    "\n",
    "Flow(\n",
    "    get_group_details(),\n",
    "    group_details_checkpoint,\n",
    "    printer(tablefmt='html', num_rows=1)\n",
    ").process()"
   ]
  },
  {
   "cell_type": "markdown",
   "metadata": {},
   "source": [
    "## Export"
   ]
  },
  {
   "cell_type": "code",
   "execution_count": null,
   "metadata": {},
   "outputs": [],
   "source": [
    "!{'rm -rf data/all_groups'}"
   ]
  },
  {
   "cell_type": "code",
   "execution_count": 11,
   "metadata": {},
   "outputs": [
    {
     "name": "stdout",
     "output_type": "stream",
     "text": [
      "using checkpoint data from .checkpoints/all_group_details_5\n",
      "using checkpoint data from .checkpoints/all_group_details_5\n"
     ]
    },
    {
     "data": {
      "text/html": [
       "<h3>all_groups</h3>"
      ],
      "text/plain": [
       "<IPython.core.display.HTML object>"
      ]
     },
     "metadata": {},
     "output_type": "display_data"
    },
    {
     "data": {
      "text/html": [
       "<table>\n",
       "<thead>\n",
       "<tr><th>#   </th><th>approval_status\n",
       "(string)         </th><th>display_name\n",
       "(string)                                              </th><th>id\n",
       "(string)                                     </th><th>name\n",
       "(string)               </th><th style=\"text-align: right;\">  package_count\n",
       "(integer)</th><th>state\n",
       "(string)       </th><th>title\n",
       "(string)                                              </th><th>budgetkey_entity_government_company_info\n",
       "(string)     </th><th>budgetkey_entity_last_status_date\n",
       "(string)     </th><th>budgetkey_entity_goal\n",
       "(string)     </th><th>budgetkey_entity_municipality\n",
       "(string)     </th><th>budgetkey_entity_founders\n",
       "(string)     </th><th>budgetkey_entity_activity_region_list\n",
       "(string)     </th><th>Published\n",
       "(string)    </th><th>budgetkey_entity___staleness\n",
       "(string)     </th><th>budgetkey_entity_primary_type_id\n",
       "(string)     </th><th>budgetkey_entity_is_mafera\n",
       "(string)     </th><th style=\"text-align: right;\">      officenamecode\n",
       "(string)</th><th>budgetkey_entity_facebook\n",
       "(string)     </th><th>budgetkey_entity_postal_code\n",
       "(string)     </th><th>GovXContentSection\n",
       "(string)                                                                                                         </th><th>budgetkey_entity_address_street\n",
       "(string)     </th><th>import_id_tags\n",
       "(string)     </th><th>payments\n",
       "(string)     </th><th>budgetkey_entity_activity_region\n",
       "(string)     </th><th>MMDTypes\n",
       "(string)     </th><th>budgetkey_entity_secondary_type\n",
       "(string)     </th><th>budgetkey_entity_id\n",
       "(string)     </th><th>OfficeIcon\n",
       "(string)     </th><th>budgetkey_entity_logo_url\n",
       "(string)     </th><th>form\n",
       "(string)     </th><th>budgetkey_entity_online_data_update_year\n",
       "(string)     </th><th>budgetkey_entity_country\n",
       "(string)     </th><th>MMDSubjects\n",
       "(string)     </th><th>GovXDescription\n",
       "(string)     </th><th>budgetkey_entity_top_salaries\n",
       "(string)     </th><th>override_foi_link\n",
       "(string)     </th><th style=\"text-align: right;\">    mmdOfficesTypes_tid\n",
       "(string)</th><th>budgetkey_entity_status_active\n",
       "(string)     </th><th>budgetkey_entity_num_of_employees\n",
       "(string)     </th><th>PaymentCheck\n",
       "(string)     </th><th>PaymentTreasury\n",
       "(string)     </th><th>email\n",
       "(string)                      </th><th>budgetkey_entity_city\n",
       "(string)     </th><th>budgetkey_entity_guidestar_title\n",
       "(string)     </th><th>budgetkey_entity_primary_field_of_activity\n",
       "(string)     </th><th>budgetkey_entity_address_zip_code\n",
       "(string)     </th><th>override_email\n",
       "(string)     </th><th>budgetkey_entity___hash\n",
       "(string)     </th><th>budgetkey_entity___last_updated_at\n",
       "(string)     </th><th>PaymentPhone\n",
       "(string)     </th><th>budgetkey_entity_secondary_type_id\n",
       "(string)     </th><th>entity_main_type\n",
       "(string)     </th><th>budgetkey_entity_address_city\n",
       "(string)     </th><th>budgetkey_entity_is_government\n",
       "(string)     </th><th>budgetkey_entity_pob\n",
       "(string)     </th><th>budgetkey_entity_yearly_turnover\n",
       "(string)     </th><th>PaymentBankTransfer\n",
       "(string)     </th><th>budgetkey_entity_website\n",
       "(string)     </th><th>budgetkey_entity_activity_region_national\n",
       "(string)     </th><th>budgetkey_entity_org_status\n",
       "(string)     </th><th>budgetkey_entity_email\n",
       "(string)     </th><th>PaymentPostalBank\n",
       "(string)     </th><th>budgetkey_entity_year_established\n",
       "(string)     </th><th>PaymentCash\n",
       "(string)     </th><th>budgetkey_entity___last_modified_at\n",
       "(string)     </th><th>budgetkey_entity_title\n",
       "(string)     </th><th>budgetkey_entity_phone\n",
       "(string)     </th><th>budgetkey_entity_kind\n",
       "(string)     </th><th>budgetkey_entity_has_article_46\n",
       "(string)     </th><th>budgetkey_entity_cooperative_registration_date\n",
       "(string)     </th><th>ManagerName\n",
       "(string)          </th><th>budgetkey_entity_municipality_id\n",
       "(string)     </th><th>FormLetter\n",
       "(string)                                           </th><th>websiteURL\n",
       "(string)                                                              </th><th>budgetkey_entity_description\n",
       "(string)     </th><th>forWizard\n",
       "(string)   </th><th>budgetkey_entity_objective\n",
       "(string)     </th><th>FormOnlineURL\n",
       "(string)     </th><th>budgetkey_entity_safety_violations\n",
       "(string)     </th><th>budgetkey_entity_status\n",
       "(string)     </th><th>budgetkey_entity_address_house_num\n",
       "(string)     </th><th>budgetkey_entity_primary_type\n",
       "(string)     </th><th style=\"text-align: right;\">   OfficeTypeCode\n",
       "(string)</th><th>budgetkey_entity_registration_date\n",
       "(string)     </th><th>budgetkey_entity_type\n",
       "(string)     </th><th>budgetkey_entity_address\n",
       "(string)     </th><th>entity_description\n",
       "(string)     </th><th>budgetkey_entity___next_update_days\n",
       "(string)     </th><th>ReceptionPhoneNumbers\n",
       "(string)              </th><th>budgetkey_entity_legal_status_id\n",
       "(string)     </th><th>FormEmail\n",
       "(string)                      </th><th>Fax\n",
       "(string)           </th><th>FormFax\n",
       "(string)           </th><th>budgetkey_entity_field_of_activity_display\n",
       "(string)     </th><th>budgetkey_entity_kind_he\n",
       "(string)     </th><th>budgetkey_entity_last_report_year\n",
       "(string)     </th><th>budgetkey_entity___is_new\n",
       "(string)     </th><th>budgetkey_entity_inspector\n",
       "(string)     </th><th>nid\n",
       "(string)     </th><th>budgetkey_entity_proper_management\n",
       "(string)     </th><th>budgetkey_entity_num_of_volunteers\n",
       "(string)     </th><th>budgetkey_entity_located_at\n",
       "(string)     </th><th>budgetkey_entity_is_new_org\n",
       "(string)     </th><th>budgetkey_entity_activity_region_districts\n",
       "(string)     </th><th>budgetkey_entity_field_of_activity\n",
       "(string)     </th><th>PaymentOnlineURL\n",
       "(string)     </th><th>budgetkey_entity___is_stale\n",
       "(string)     </th><th>budgetkey_entity_org_kind\n",
       "(string)     </th><th>budgetkey_entity_limit\n",
       "(string)     </th><th>ReceptionAddressNotes\n",
       "(string)                                           </th><th>budgetkey_entity___created_at\n",
       "(string)     </th><th>budgetkey_entity_fields_of_activity\n",
       "(string)     </th><th>budgetkey_entity_legal_status\n",
       "(string)     </th><th>budgetkey_entity_address_lines\n",
       "(string)     </th><th>entity_secondary_type\n",
       "(string)     </th><th>budgetkey_entity_activity_region_all_country\n",
       "(string)     </th></tr>\n",
       "</thead>\n",
       "<tbody>\n",
       "<tr><td>1   </td><td>approved</td><td>כפר הנוער מאיר שפיה                          </td><td>4979dd14-ab38-44b7-980b-394442814482</td><td>foi-201908-138</td><td style=\"text-align: right;\">0</td><td>active</td><td>כפר הנוער מאיר שפיה                          </td><td>None</td><td>None</td><td>None</td><td>None</td><td>None</td><td>None</td><td>Yes</td><td>None</td><td>None</td><td>None</td><td style=\"text-align: right;\"> 6005</td><td>None</td><td>None</td><td><p>כפר הנוער מאיר שפיה הינו מוסד חינוכי ייחודי המתמחה במדעי החיים והחקלאות. בכפר בית ספר מקיף שש שנת ...</td><td>None</td><td>None</td><td>None</td><td>None</td><td>None</td><td>None</td><td>None</td><td>None</td><td>None</td><td>None</td><td>None</td><td>None</td><td>None</td><td>None</td><td>None</td><td>None</td><td style=\"text-align: right;\"> 47</td><td>None</td><td>None</td><td>None</td><td>None</td><td>pazit@shfeyah.org.il </td><td>None</td><td>None</td><td>None</td><td>None</td><td>None</td><td>None</td><td>None</td><td>None</td><td>None</td><td>None</td><td>None</td><td>None</td><td>None</td><td>None</td><td>בנק המזרחי\n",
       "סניף  420  חדרה\n",
       "חשבון 572360     </td><td>None</td><td>None</td><td>None</td><td>None</td><td>בנק המזרחי\n",
       "סניף  420  חדרה\n",
       "חשבון 572360     </td><td>None</td><td>None</td><td>None</td><td>None</td><td>None</td><td>None</td><td>None</td><td>None</td><td>פזית כהן </td><td>None</td><td>כפר הנוער מאיר שפיה\n",
       "ד.נ. חוף הכרמל\n",
       "מיקוד 3080600                                           </td><td><a href=\"http://ww.shfeyah.org.il\">ww.shfeyah.org.il</a>     </td><td>None</td><td>No</td><td>None</td><td>~   </td><td>None</td><td>None</td><td>None</td><td>None</td><td style=\"text-align: right;\"> 6</td><td>None</td><td>None</td><td>None</td><td>None</td><td>None</td><td>04-6390750   </td><td>None</td><td>pazit@shfeyah.org.il </td><td>04-6397760</td><td>04-6397760</td><td>None</td><td>None</td><td>None</td><td>None</td><td>None</td><td>None</td><td>None</td><td>None</td><td>None</td><td>None</td><td>None</td><td>None</td><td>None</td><td>None</td><td>None</td><td>None</td><td>כפר הנוער מאיר שפיה\n",
       "ד.נ. חוף הכרמל\n",
       "מיקוד 3080600                                           </td><td>None</td><td>None</td><td>None</td><td>None</td><td>None</td><td>None</td></tr>\n",
       "<tr><td>2   </td><td>approved</td><td>פרזות חברה ממשלתית עירונית לשיכון ירושלים בעמ</td><td>f52905cc-f97f-40d6-8cb6-c8e95f61f53b</td><td>foi-201908-517</td><td style=\"text-align: right;\">0</td><td>active</td><td>פרזות חברה ממשלתית עירונית לשיכון ירושלים בעמ</td><td>None</td><td>None</td><td>None</td><td>None</td><td>None</td><td>None</td><td>Yes</td><td>None</td><td>None</td><td>None</td><td style=\"text-align: right;\"> 6006</td><td>None</td><td>None</td><td><p>פרזות חברה ממשלתית עירונית לשיכון ירושלים בע\"מ היא זרוע לביצוע מדיניות משרד הבינוי והשיכון, המטפל ...</td><td>None</td><td>None</td><td>None</td><td>None</td><td>None</td><td>None</td><td>None</td><td>None</td><td>None</td><td>None</td><td>None</td><td>None</td><td>None</td><td>None</td><td>None</td><td>None</td><td style=\"text-align: right;\"> 47</td><td>None</td><td>None</td><td>None</td><td>None</td><td>limorc@prazot.co.il  </td><td>None</td><td>None</td><td>None</td><td>None</td><td>None</td><td>None</td><td>None</td><td>None</td><td>None</td><td>None</td><td>None</td><td>None</td><td>None</td><td>None</td><td>None</td><td>None</td><td>None</td><td>None</td><td>None</td><td>None</td><td>None</td><td>None</td><td>None</td><td>None</td><td>None</td><td>None</td><td>None</td><td>None</td><td>לימור כהן</td><td>None</td><td>None                                      </td><td><a href=\"http://www.prazot.co.il\">http://www.prazot.co.il</a></td><td>None</td><td>No</td><td>None</td><td>None</td><td>None</td><td>None</td><td>None</td><td>None</td><td style=\"text-align: right;\"> 6</td><td>None</td><td>None</td><td>None</td><td>None</td><td>None</td><td>02-5016204   </td><td>None</td><td>limorc@prazot.co.il  </td><td>None      </td><td>None      </td><td>None</td><td>None</td><td>None</td><td>None</td><td>None</td><td>None</td><td>None</td><td>None</td><td>None</td><td>None</td><td>None</td><td>None</td><td>None</td><td>None</td><td>None</td><td>None</td><td>רח' ירמיהו 11, ירושלים 9446136            </td><td>None</td><td>None</td><td>None</td><td>None</td><td>None</td><td>None</td></tr>\n",
       "<tr><td>... </td><td>        </td><td>                                             </td><td>                                    </td><td>              </td><td style=\"text-align: right;\"> </td><td>      </td><td>                                             </td><td>    </td><td>    </td><td>    </td><td>    </td><td>    </td><td>    </td><td>   </td><td>    </td><td>    </td><td>    </td><td style=\"text-align: right;\">     </td><td>    </td><td>    </td><td>                                                                                                        </td><td>    </td><td>    </td><td>    </td><td>    </td><td>    </td><td>    </td><td>    </td><td>    </td><td>    </td><td>    </td><td>    </td><td>    </td><td>    </td><td>    </td><td>    </td><td>    </td><td style=\"text-align: right;\">   </td><td>    </td><td>    </td><td>    </td><td>    </td><td>                     </td><td>    </td><td>    </td><td>    </td><td>    </td><td>    </td><td>    </td><td>    </td><td>    </td><td>    </td><td>    </td><td>    </td><td>    </td><td>    </td><td>    </td><td>    </td><td>    </td><td>    </td><td>    </td><td>    </td><td>    </td><td>    </td><td>    </td><td>    </td><td>    </td><td>    </td><td>    </td><td>    </td><td>    </td><td>         </td><td>    </td><td>                                          </td><td>                                                             </td><td>    </td><td>  </td><td>    </td><td>    </td><td>    </td><td>    </td><td>    </td><td>    </td><td style=\"text-align: right;\">  </td><td>    </td><td>    </td><td>    </td><td>    </td><td>    </td><td>             </td><td>    </td><td>                     </td><td>          </td><td>          </td><td>    </td><td>    </td><td>    </td><td>    </td><td>    </td><td>    </td><td>    </td><td>    </td><td>    </td><td>    </td><td>    </td><td>    </td><td>    </td><td>    </td><td>    </td><td>    </td><td>                                          </td><td>    </td><td>    </td><td>    </td><td>    </td><td>    </td><td>    </td></tr>\n",
       "<tr><td>3146</td><td>approved</td><td>תשתית - חברה לשירותי תחזוקה באשדוד בעמ       </td><td>a9bc889a-2822-452b-9f61-0f9a064caf4b</td><td>foi-201908-756</td><td style=\"text-align: right;\">0</td><td>active</td><td>תשתית - חברה לשירותי תחזוקה באשדוד בעמ       </td><td>None</td><td>None</td><td>None</td><td>None</td><td>None</td><td>None</td><td>Yes</td><td>None</td><td>None</td><td>None</td><td style=\"text-align: right;\">10012</td><td>None</td><td>None</td><td><p dir=\"RTL\">חברות עירוניות הן תאגידים עירוניים המוקמים על ידי רשויות מקומיות ומנוהלים על ידי אנשי מ ...</td><td>None</td><td>None</td><td>None</td><td>None</td><td>None</td><td>None</td><td>None</td><td>None</td><td>None</td><td>None</td><td>None</td><td>None</td><td>None</td><td>None</td><td>None</td><td>None</td><td style=\"text-align: right;\">325</td><td>None</td><td>None</td><td>None</td><td>None</td><td>davidd@ashdod.muni.il</td><td>None</td><td>None</td><td>None</td><td>None</td><td>None</td><td>None</td><td>None</td><td>None</td><td>None</td><td>None</td><td>None</td><td>None</td><td>None</td><td>None</td><td>None</td><td>None</td><td>None</td><td>None</td><td>None</td><td>None</td><td>None</td><td>None</td><td>None</td><td>None</td><td>None</td><td>None</td><td>None</td><td>None</td><td>דוד דבש  </td><td>None</td><td>רח' הגדוד העברי 10, ת.ד. 28, אשדוד 7710001</td><td>None                                                         </td><td>None</td><td>No</td><td>None</td><td>~   </td><td>None</td><td>None</td><td>None</td><td>None</td><td style=\"text-align: right;\">10</td><td>None</td><td>None</td><td>None</td><td>None</td><td>None</td><td>08-8545498/90</td><td>None</td><td>davidd@ashdod.muni.il</td><td>08-8545026</td><td>08-8545026</td><td>None</td><td>None</td><td>None</td><td>None</td><td>None</td><td>None</td><td>None</td><td>None</td><td>None</td><td>None</td><td>None</td><td>None</td><td>None</td><td>None</td><td>None</td><td>None</td><td>רח' הגדוד העברי 10, ת.ד. 28, אשדוד 7710001</td><td>None</td><td>None</td><td>None</td><td>None</td><td>None</td><td>None</td></tr>\n",
       "</tbody>\n",
       "</table>"
      ],
      "text/plain": [
       "<IPython.core.display.HTML object>"
      ]
     },
     "metadata": {},
     "output_type": "display_data"
    },
    {
     "data": {
      "text/plain": [
       "(<datapackage.package.Package at 0x7fe11174e0f0>,\n",
       " {'count_of_rows': 3146,\n",
       "  'bytes': 2773876,\n",
       "  'hash': '2b28c3e96278a3fcac26d66e790941c7',\n",
       "  'dataset_name': None})"
      ]
     },
     "execution_count": 11,
     "metadata": {},
     "output_type": "execute_result"
    }
   ],
   "source": [
    "from dataflows import Flow, checkpoint, printer, update_resource, dump_to_path\n",
    "\n",
    "all_extra_keys = set()\n",
    "\n",
    "for group in Flow(group_details_checkpoint).results()[0][0]:\n",
    "    for extra in group['extras']:\n",
    "        all_extra_keys.add(extra['key'])\n",
    "\n",
    "all_capitalized_keys = set()\n",
    "        \n",
    "for key in all_extra_keys:\n",
    "    if key in ['group_id', 'merged_with_json', 'match_type', 'entity_id', 'munged_title', 'language', '__type']: continue\n",
    "    has_capitalized_key = False\n",
    "    for tmpkey in all_extra_keys:\n",
    "        if key == tmpkey: continue\n",
    "        if tmpkey.lower() == tmpkey: continue\n",
    "        if tmpkey.lower() == key.lower():\n",
    "            has_capitalized_key = True\n",
    "    if not has_capitalized_key:\n",
    "        all_capitalized_keys.add(key)\n",
    "\n",
    "def get_group_extras():\n",
    "    for group in Flow(group_details_checkpoint).results()[0][0]:\n",
    "        group_extras = {extra['key'].lower(): extra['value'] for extra in group['extras']}\n",
    "        for ckey in all_capitalized_keys:\n",
    "            group[ckey] = group_extras.get(ckey.lower(), '')\n",
    "        del group['extras']\n",
    "        yield group\n",
    "\n",
    "Flow(\n",
    "    get_group_extras(),\n",
    "    update_resource('res_1', name='all_groups', path='all_groups.csv'),\n",
    "    dump_to_path('data/all_groups'),\n",
    "    printer(tablefmt='html', num_rows=1),\n",
    ").process()"
   ]
  },
  {
   "cell_type": "markdown",
   "metadata": {},
   "source": [
    "## Save to CKAN resource"
   ]
  },
  {
   "cell_type": "code",
   "execution_count": 29,
   "metadata": {},
   "outputs": [
    {
     "name": "stdout",
     "output_type": "stream",
     "text": [
      "Updating all_groups resource\n",
      "OK: https://www.odata.org.il/dataset/entities\n"
     ]
    }
   ],
   "source": [
    "res = requests.get('https://www.odata.org.il/api/3/action/resource_show?id=7ad69959-9c4b-4dfc-ae6b-e6ebb26d4051', headers={'Authorization': CKAN_API_KEY}).json()\n",
    "assert res['success'], str(res)\n",
    "resource = res['result']\n",
    "# print(resource)\n",
    "print('Updating all_groups resource')\n",
    "res = requests.post(\n",
    "    'https://www.odata.org.il/api/3/action/resource_update', \n",
    "    data=resource,\n",
    "    headers={'Authorization': CKAN_API_KEY},\n",
    "    files=[('upload', open('./data/all_groups/all_groups.csv', 'rb'))]\n",
    ").json()\n",
    "assert res['success'], str(res)\n",
    "print('OK: https://www.odata.org.il/dataset/entities')"
   ]
  }
 ],
 "metadata": {
  "kernelspec": {
   "display_name": "Python 3",
   "language": "python",
   "name": "python3"
  },
  "language_info": {
   "codemirror_mode": {
    "name": "ipython",
    "version": 3
   },
   "file_extension": ".py",
   "mimetype": "text/x-python",
   "name": "python",
   "nbconvert_exporter": "python",
   "pygments_lexer": "ipython3",
   "version": "3.6.8"
  }
 },
 "nbformat": 4,
 "nbformat_minor": 4
}
