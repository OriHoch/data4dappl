{
 "cells": [
  {
   "cell_type": "code",
   "execution_count": null,
   "metadata": {},
   "outputs": [],
   "source": [
    "!{'python3 -m pip install dataflows==0.0.58'}\n",
    "!{'python3 -m pip install -e git+https://github.com/OriHoch/dataflows-xlsx.git@master#egg=dataflows-xlsx'}"
   ]
  },
  {
   "cell_type": "code",
   "execution_count": 1,
   "metadata": {},
   "outputs": [
    {
     "name": "stdin",
     "output_type": "stream",
     "text": [
      "CKAN_API_KEY ····································\n"
     ]
    }
   ],
   "source": [
    "import getpass\n",
    "CKAN_API_KEY = getpass.getpass(\"CKAN_API_KEY\")"
   ]
  },
  {
   "cell_type": "code",
   "execution_count": 2,
   "metadata": {},
   "outputs": [],
   "source": [
    "CKAN_URL='https://odata.org.il'"
   ]
  },
  {
   "cell_type": "code",
   "execution_count": 4,
   "metadata": {},
   "outputs": [
    {
     "name": "stdout",
     "output_type": "stream",
     "text": [
      "saving checkpoint to: .checkpoints/group_names\n"
     ]
    },
    {
     "data": {
      "text/html": [
       "<h3>res_1</h3>"
      ],
      "text/plain": [
       "<IPython.core.display.HTML object>"
      ]
     },
     "metadata": {},
     "output_type": "display_data"
    },
    {
     "data": {
      "text/html": [
       "<table>\n",
       "<thead>\n",
       "<tr><th>#   </th><th>name\n",
       "(string)               </th></tr>\n",
       "</thead>\n",
       "<tbody>\n",
       "<tr><td>1   </td><td>foi-201908-138</td></tr>\n",
       "<tr><td>2   </td><td>foi-201908-517</td></tr>\n",
       "<tr><td>... </td><td>              </td></tr>\n",
       "<tr><td>2023</td><td>foi-201908-756</td></tr>\n",
       "</tbody>\n",
       "</table>"
      ],
      "text/plain": [
       "<IPython.core.display.HTML object>"
      ]
     },
     "metadata": {},
     "output_type": "display_data"
    },
    {
     "name": "stdout",
     "output_type": "stream",
     "text": [
      "checkpoint saved: group_names\n"
     ]
    },
    {
     "data": {
      "text/plain": [
       "(<datapackage.package.Package at 0x7efdb2190438>, {})"
      ]
     },
     "execution_count": 4,
     "metadata": {},
     "output_type": "execute_result"
    }
   ],
   "source": [
    "import requests\n",
    "from dataflows import Flow, printer, checkpoint\n",
    "from dataflows_xlsx import dump_to_path\n",
    "\n",
    "def get_group_names():\n",
    "    for group_name in requests.get(CKAN_URL+'/api/3/action/group_list', headers={'Authorization': CKAN_API_KEY}).json()['result']:\n",
    "        yield {'name': group_name}\n",
    "        \n",
    "Flow(\n",
    "    get_group_names(),\n",
    "    checkpoint('group_names'),\n",
    "    printer(tablefmt='html', num_rows=1)\n",
    ").process()"
   ]
  },
  {
   "cell_type": "code",
   "execution_count": 8,
   "metadata": {},
   "outputs": [
    {
     "name": "stdout",
     "output_type": "stream",
     "text": [
      "saving checkpoint to: .checkpoints/all_group_details\n",
      "using checkpoint data from .checkpoints/group_names\n"
     ]
    },
    {
     "data": {
      "text/html": [
       "<h3>res_1</h3>"
      ],
      "text/plain": [
       "<IPython.core.display.HTML object>"
      ]
     },
     "metadata": {},
     "output_type": "display_data"
    },
    {
     "data": {
      "text/html": [
       "<table>\n",
       "<thead>\n",
       "<tr><th>#   </th><th>display_name\n",
       "(string)                                              </th><th style=\"text-align: right;\">  package_count\n",
       "(integer)</th><th>name\n",
       "(string)               </th><th>state\n",
       "(string)       </th><th>extras\n",
       "(array)                                                                                                         </th><th>title\n",
       "(string)                                              </th><th>id\n",
       "(string)                                     </th><th>approval_status\n",
       "(string)         </th></tr>\n",
       "</thead>\n",
       "<tbody>\n",
       "<tr><td>1   </td><td>כפר הנוער מאיר שפיה                          </td><td style=\"text-align: right;\">0</td><td>foi-201908-138</td><td>active</td><td>[{'value': '04-6397760', 'state': 'active', 'key': 'Fax', 'revision_id': '0764667f-7e57-41c7-8c8a-5c ...</td><td>כפר הנוער מאיר שפיה                          </td><td>4979dd14-ab38-44b7-980b-394442814482</td><td>approved</td></tr>\n",
       "<tr><td>2   </td><td>פרזות חברה ממשלתית עירונית לשיכון ירושלים בעמ</td><td style=\"text-align: right;\">0</td><td>foi-201908-517</td><td>active</td><td>[{'value': None, 'state': 'active', 'key': 'Fax', 'revision_id': 'a8b6de87-14f7-40ab-a9af-b692afd40b ...</td><td>פרזות חברה ממשלתית עירונית לשיכון ירושלים בעמ</td><td>f52905cc-f97f-40d6-8cb6-c8e95f61f53b</td><td>approved</td></tr>\n",
       "<tr><td>... </td><td>                                             </td><td style=\"text-align: right;\"> </td><td>              </td><td>      </td><td>                                                                                                        </td><td>                                             </td><td>                                    </td><td>        </td></tr>\n",
       "<tr><td>2023</td><td>תשתית - חברה לשירותי תחזוקה באשדוד בעמ       </td><td style=\"text-align: right;\">0</td><td>foi-201908-756</td><td>active</td><td>[{'value': '08-8545026 ', 'state': 'active', 'key': 'Fax', 'revision_id': 'b5fe49ee-2de1-49d0-aeed-4 ...</td><td>תשתית - חברה לשירותי תחזוקה באשדוד בעמ       </td><td>a9bc889a-2822-452b-9f61-0f9a064caf4b</td><td>approved</td></tr>\n",
       "</tbody>\n",
       "</table>"
      ],
      "text/plain": [
       "<IPython.core.display.HTML object>"
      ]
     },
     "metadata": {},
     "output_type": "display_data"
    },
    {
     "name": "stdout",
     "output_type": "stream",
     "text": [
      "checkpoint saved: all_group_details\n"
     ]
    },
    {
     "data": {
      "text/plain": [
       "(<datapackage.package.Package at 0x7efdb1d8a6a0>, {})"
      ]
     },
     "execution_count": 8,
     "metadata": {},
     "output_type": "execute_result"
    }
   ],
   "source": [
    "import requests\n",
    "from dataflows import Flow, printer, checkpoint\n",
    "from dataflows_xlsx import dump_to_path\n",
    "\n",
    "def get_group_details():\n",
    "    for group in Flow(checkpoint('group_names')).results()[0][0]:\n",
    "        group = requests.get(CKAN_URL+'/api/3/action/group_show?id={}&include_extras=true'.format(group['name']), headers={'Authorization': CKAN_API_KEY}).json()['result']\n",
    "        group = {k: group[k] for k in group if k in [\n",
    "            'display_name', 'package_count', 'name', 'state', 'extras', 'title', 'id', 'approval_status'\n",
    "        ]}\n",
    "        yield group\n",
    "\n",
    "Flow(\n",
    "    get_group_details(),\n",
    "    checkpoint('all_group_details'),\n",
    "    printer(tablefmt='html', num_rows=1)\n",
    ").process()"
   ]
  },
  {
   "cell_type": "code",
   "execution_count": 19,
   "metadata": {},
   "outputs": [
    {
     "name": "stdout",
     "output_type": "stream",
     "text": [
      "using checkpoint data from .checkpoints/all_group_details\n",
      "using checkpoint data from .checkpoints/all_group_details\n"
     ]
    },
    {
     "data": {
      "text/html": [
       "<h3>all_groups</h3>"
      ],
      "text/plain": [
       "<IPython.core.display.HTML object>"
      ]
     },
     "metadata": {},
     "output_type": "display_data"
    },
    {
     "data": {
      "text/html": [
       "<table>\n",
       "<thead>\n",
       "<tr><th>#   </th><th>approval_status\n",
       "(string)         </th><th>display_name\n",
       "(string)                                              </th><th>id\n",
       "(string)                                     </th><th>name\n",
       "(string)               </th><th style=\"text-align: right;\">  package_count\n",
       "(integer)</th><th>state\n",
       "(string)       </th><th>title\n",
       "(string)                                              </th><th>nid\n",
       "(string)     </th><th>Published\n",
       "(string)    </th><th>override_email\n",
       "(string)     </th><th>PaymentTreasury\n",
       "(string)     </th><th style=\"text-align: right;\">   OfficeTypeCode\n",
       "(string)</th><th>websiteURL\n",
       "(string)                                                              </th><th>email\n",
       "(string)                      </th><th>override_foi_link\n",
       "(string)     </th><th>payments\n",
       "(string)     </th><th>form\n",
       "(string)     </th><th>PaymentPostalBank\n",
       "(string)     </th><th>FormFax\n",
       "(string)           </th><th style=\"text-align: right;\">      officenamecode\n",
       "(string)</th><th>MMDSubjects\n",
       "(string)     </th><th>OfficeIcon\n",
       "(string)     </th><th>FormOnlineURL\n",
       "(string)     </th><th>GovXDescription\n",
       "(string)     </th><th>MMDTypes\n",
       "(string)     </th><th>forWizard\n",
       "(string)   </th><th>PaymentCash\n",
       "(string)     </th><th>ReceptionAddressNotes\n",
       "(string)                                           </th><th>FormEmail\n",
       "(string)                      </th><th>PaymentBankTransfer\n",
       "(string)     </th><th>PaymentPhone\n",
       "(string)     </th><th>GovXContentSection\n",
       "(string)                                                                                                         </th><th>PaymentCheck\n",
       "(string)     </th><th style=\"text-align: right;\">    mmdOfficesTypes_tid\n",
       "(string)</th><th>FormLetter\n",
       "(string)                                           </th><th>ReceptionPhoneNumbers\n",
       "(string)              </th><th>ManagerName\n",
       "(string)          </th><th>PaymentOnlineURL\n",
       "(string)     </th><th>Fax\n",
       "(string)           </th></tr>\n",
       "</thead>\n",
       "<tbody>\n",
       "<tr><td>1   </td><td>approved</td><td>כפר הנוער מאיר שפיה                          </td><td>4979dd14-ab38-44b7-980b-394442814482</td><td>foi-201908-138</td><td style=\"text-align: right;\">0</td><td>active</td><td>כפר הנוער מאיר שפיה                          </td><td>None</td><td>Yes</td><td>None</td><td>None</td><td style=\"text-align: right;\"> 6</td><td><a href=\"http://ww.shfeyah.org.il\">ww.shfeyah.org.il</a>     </td><td>pazit@shfeyah.org.il </td><td>None</td><td>None</td><td>None</td><td>בנק המזרחי\n",
       "סניף  420  חדרה\n",
       "חשבון 572360     </td><td>04-6397760</td><td style=\"text-align: right;\"> 6005</td><td>None</td><td>None</td><td>~   </td><td>None</td><td>None</td><td>No</td><td>None</td><td>כפר הנוער מאיר שפיה\n",
       "ד.נ. חוף הכרמל\n",
       "מיקוד 3080600                                           </td><td>pazit@shfeyah.org.il </td><td>בנק המזרחי\n",
       "סניף  420  חדרה\n",
       "חשבון 572360     </td><td>None</td><td><p>כפר הנוער מאיר שפיה הינו מוסד חינוכי ייחודי המתמחה במדעי החיים והחקלאות. בכפר בית ספר מקיף שש שנת ...</td><td>None</td><td style=\"text-align: right;\"> 47</td><td>כפר הנוער מאיר שפיה\n",
       "ד.נ. חוף הכרמל\n",
       "מיקוד 3080600                                           </td><td>04-6390750   </td><td>פזית כהן </td><td>None</td><td>04-6397760</td></tr>\n",
       "<tr><td>2   </td><td>approved</td><td>פרזות חברה ממשלתית עירונית לשיכון ירושלים בעמ</td><td>f52905cc-f97f-40d6-8cb6-c8e95f61f53b</td><td>foi-201908-517</td><td style=\"text-align: right;\">0</td><td>active</td><td>פרזות חברה ממשלתית עירונית לשיכון ירושלים בעמ</td><td>None</td><td>Yes</td><td>None</td><td>None</td><td style=\"text-align: right;\"> 6</td><td><a href=\"http://www.prazot.co.il\">http://www.prazot.co.il</a></td><td>limorc@prazot.co.il  </td><td>None</td><td>None</td><td>None</td><td>None</td><td>None      </td><td style=\"text-align: right;\"> 6006</td><td>None</td><td>None</td><td>None</td><td>None</td><td>None</td><td>No</td><td>None</td><td>רח' ירמיהו 11, ירושלים 9446136            </td><td>limorc@prazot.co.il  </td><td>None</td><td>None</td><td><p>פרזות חברה ממשלתית עירונית לשיכון ירושלים בע\"מ היא זרוע לביצוע מדיניות משרד הבינוי והשיכון, המטפל ...</td><td>None</td><td style=\"text-align: right;\"> 47</td><td>None                                      </td><td>02-5016204   </td><td>לימור כהן</td><td>None</td><td>None      </td></tr>\n",
       "<tr><td>... </td><td>        </td><td>                                             </td><td>                                    </td><td>              </td><td style=\"text-align: right;\"> </td><td>      </td><td>                                             </td><td>    </td><td>   </td><td>    </td><td>    </td><td style=\"text-align: right;\">  </td><td>                                                             </td><td>                     </td><td>    </td><td>    </td><td>    </td><td>    </td><td>          </td><td style=\"text-align: right;\">     </td><td>    </td><td>    </td><td>    </td><td>    </td><td>    </td><td>  </td><td>    </td><td>                                          </td><td>                     </td><td>    </td><td>    </td><td>                                                                                                        </td><td>    </td><td style=\"text-align: right;\">   </td><td>                                          </td><td>             </td><td>         </td><td>    </td><td>          </td></tr>\n",
       "<tr><td>2023</td><td>approved</td><td>תשתית - חברה לשירותי תחזוקה באשדוד בעמ       </td><td>a9bc889a-2822-452b-9f61-0f9a064caf4b</td><td>foi-201908-756</td><td style=\"text-align: right;\">0</td><td>active</td><td>תשתית - חברה לשירותי תחזוקה באשדוד בעמ       </td><td>None</td><td>Yes</td><td>None</td><td>None</td><td style=\"text-align: right;\">10</td><td>None                                                         </td><td>davidd@ashdod.muni.il</td><td>None</td><td>None</td><td>None</td><td>None</td><td>08-8545026</td><td style=\"text-align: right;\">10012</td><td>None</td><td>None</td><td>~   </td><td>None</td><td>None</td><td>No</td><td>None</td><td>רח' הגדוד העברי 10, ת.ד. 28, אשדוד 7710001</td><td>davidd@ashdod.muni.il</td><td>None</td><td>None</td><td><p dir=\"RTL\">חברות עירוניות הן תאגידים עירוניים המוקמים על ידי רשויות מקומיות ומנוהלים על ידי אנשי מ ...</td><td>None</td><td style=\"text-align: right;\">325</td><td>רח' הגדוד העברי 10, ת.ד. 28, אשדוד 7710001</td><td>08-8545498/90</td><td>דוד דבש  </td><td>None</td><td>08-8545026</td></tr>\n",
       "</tbody>\n",
       "</table>"
      ],
      "text/plain": [
       "<IPython.core.display.HTML object>"
      ]
     },
     "metadata": {},
     "output_type": "display_data"
    },
    {
     "data": {
      "text/plain": [
       "(<datapackage.package.Package at 0x7efdb05be710>,\n",
       " {'count_of_rows': 2023,\n",
       "  'bytes': 5154,\n",
       "  'hash': 'f31efed747bda5a85ae865e81f26d7e8',\n",
       "  'dataset_name': None})"
      ]
     },
     "execution_count": 19,
     "metadata": {},
     "output_type": "execute_result"
    }
   ],
   "source": [
    "from dataflows import Flow, checkpoint, printer, update_resource\n",
    "from dataflows_xlsx import dump_to_path\n",
    "\n",
    "all_extra_keys = set()\n",
    "\n",
    "for group in Flow(checkpoint('all_group_details')).results()[0][0]:\n",
    "    for extra in group['extras']:\n",
    "        all_extra_keys.add(extra['key'])\n",
    "\n",
    "all_capitalized_keys = set()\n",
    "        \n",
    "for key in all_extra_keys:\n",
    "    if key in ['group_id', 'merged_with_json', 'match_type', 'entity_id', 'munged_title', 'language', '__type']: continue\n",
    "    has_capitalized_key = False\n",
    "    for tmpkey in all_extra_keys:\n",
    "        if key == tmpkey: continue\n",
    "        if tmpkey.lower() == tmpkey: continue\n",
    "        if tmpkey.lower() == key.lower():\n",
    "            has_capitalized_key = True\n",
    "    if not has_capitalized_key:\n",
    "        all_capitalized_keys.add(key)\n",
    "\n",
    "def get_group_extras():\n",
    "    for group in Flow(checkpoint('all_group_details')).results()[0][0]:\n",
    "        group_extras = {extra['key'].lower(): extra['value'] for extra in group['extras']}\n",
    "        for ckey in all_capitalized_keys:\n",
    "            group[ckey] = group_extras.get(ckey.lower(), '')\n",
    "        del group['extras']\n",
    "        yield group\n",
    "\n",
    "Flow(\n",
    "    get_group_extras(),\n",
    "    update_resource('res_1', name='all_groups', path='all_groups.xlsx'),\n",
    "    dump_to_path('data/all_groups', format='xlsx'),\n",
    "    printer(tablefmt='html', num_rows=1),\n",
    ").process()"
   ]
  }
 ],
 "metadata": {
  "kernelspec": {
   "display_name": "Python 3",
   "language": "python",
   "name": "python3"
  },
  "language_info": {
   "codemirror_mode": {
    "name": "ipython",
    "version": 3
   },
   "file_extension": ".py",
   "mimetype": "text/x-python",
   "name": "python",
   "nbconvert_exporter": "python",
   "pygments_lexer": "ipython3",
   "version": "3.6.8"
  }
 },
 "nbformat": 4,
 "nbformat_minor": 4
}
